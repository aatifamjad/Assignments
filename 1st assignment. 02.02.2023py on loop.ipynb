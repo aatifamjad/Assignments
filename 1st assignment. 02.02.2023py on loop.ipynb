{
 "cells": [
  {
   "cell_type": "markdown",
   "id": "ab3734c4-08a7-4c73-a89c-852ab6ce561f",
   "metadata": {},
   "source": [
    "1st Assignment 02.02.2023"
   ]
  },
  {
   "cell_type": "markdown",
   "id": "f882842d-0f77-4c88-892f-de1f44d3f288",
   "metadata": {},
   "source": [
    "Q1. Explain with an example each when to use a for loop and a while loop."
   ]
  },
  {
   "cell_type": "code",
   "execution_count": 6,
   "id": "c5328857-529d-4c29-b93a-67f65bc2309d",
   "metadata": {},
   "outputs": [],
   "source": [
    "l = [\"sudh\" , \"kumar\" , \"krish\" , \"naik\"]"
   ]
  },
  {
   "cell_type": "code",
   "execution_count": 10,
   "id": "e7ead88d-7694-4bcb-b657-a5dca9f95b83",
   "metadata": {},
   "outputs": [
    {
     "data": {
      "text/plain": [
       "['sudh', 'kumar', 'krish', 'naik']"
      ]
     },
     "execution_count": 10,
     "metadata": {},
     "output_type": "execute_result"
    }
   ],
   "source": [
    "l"
   ]
  },
  {
   "cell_type": "code",
   "execution_count": 12,
   "id": "bad5620f-433e-4e25-a373-18127d98fe2d",
   "metadata": {},
   "outputs": [
    {
     "name": "stdout",
     "output_type": "stream",
     "text": [
      "sudh\n",
      "kumar\n",
      "krish\n",
      "naik\n"
     ]
    }
   ],
   "source": [
    "for i in l:\n",
    "    print(i)"
   ]
  },
  {
   "cell_type": "code",
   "execution_count": 13,
   "id": "85b5ed70-da7a-4c5c-a6dc-afdd35604e2f",
   "metadata": {},
   "outputs": [
    {
     "name": "stdout",
     "output_type": "stream",
     "text": [
      "1\n",
      "2\n",
      "3\n",
      "4\n",
      "5\n",
      "6\n",
      "7\n",
      "8\n",
      "9\n",
      "10\n"
     ]
    }
   ],
   "source": [
    " a = 1 \n",
    "\n",
    "while a<= 10:\n",
    "    print(a)\n",
    "    a = a+1   "
   ]
  },
  {
   "cell_type": "markdown",
   "id": "a020470e-3a52-4780-a23c-8acaa267bf52",
   "metadata": {},
   "source": [
    "Q2. Write a python program to print the sum and product of the first 10 natural numbers using for\n",
    "and while loop."
   ]
  },
  {
   "cell_type": "code",
   "execution_count": 14,
   "id": "82feb4c7-a359-4c2a-9112-2dc377577c5d",
   "metadata": {},
   "outputs": [
    {
     "name": "stdout",
     "output_type": "stream",
     "text": [
      "Sum of first 10 natural numbers: 55\n",
      "Product of first 10 natural numbers: 3628800\n"
     ]
    }
   ],
   "source": [
    "sum = 0\n",
    "product = 1\n",
    "for i in range(1, 11):\n",
    "    sum += i\n",
    "    product *= i\n",
    "print(\"Sum of first 10 natural numbers:\", sum)\n",
    "print(\"Product of first 10 natural numbers:\", product)\n"
   ]
  },
  {
   "cell_type": "code",
   "execution_count": 15,
   "id": "ded11f6e-cccd-429b-bb82-b99b9ce85417",
   "metadata": {},
   "outputs": [
    {
     "name": "stdout",
     "output_type": "stream",
     "text": [
      "Sum of first 10 natural numbers: 55\n",
      "Product of first 10 natural numbers: 3628800\n"
     ]
    }
   ],
   "source": [
    "sum = 0\n",
    "product = 1\n",
    "i = 1\n",
    "while i <= 10:\n",
    "    sum += i\n",
    "    product *= i\n",
    "    i += 1\n",
    "print(\"Sum of first 10 natural numbers:\", sum)\n",
    "print(\"Product of first 10 natural numbers:\", product)\n"
   ]
  },
  {
   "cell_type": "markdown",
   "id": "4582cb5b-3e58-4670-8145-368a3aee96fb",
   "metadata": {},
   "source": [
    "Q3. Create a python program to compute the electricity bill for a household.\n",
    " Create a list of numbers from 1 to 100. Use for loop and while loop to calculate the cube of each\n",
    "number and if the cube of that number is divisible by 4 or 5 then append that number in a list and print\n",
    "that list.\n",
    "The per-unit charges in rupees are as follows: For the first 100 units, the user will be charged Rs. 4.5 per\n",
    "unit, for the next 100 units, the user will be charged Rs. 6 per unit, and for the next 100 units, the user will\n",
    "be charged Rs. 10 per unit, After 300 units and above the user will be charged Rs. 20 per unit.\n",
    "You are required to take the units of electricity consumed in a month from the user as input.\n",
    "Your program must pass this test case: when the unit of electricity consumed by the user in a month is\n",
    "310, the total electricity bill should be 2250."
   ]
  },
  {
   "cell_type": "code",
   "execution_count": 18,
   "id": "1dfcd440-b8db-44bd-b38c-a0b1e967eae2",
   "metadata": {},
   "outputs": [
    {
     "name": "stdin",
     "output_type": "stream",
     "text": [
      "Enter the number of units consumed:  310\n"
     ]
    },
    {
     "name": "stdout",
     "output_type": "stream",
     "text": [
      "The total electricity bill is: Rs. 2250.0\n"
     ]
    }
   ],
   "source": [
    "units = int(input(\"Enter the number of units consumed: \"))\n",
    "\n",
    "if units <= 100:\n",
    "    bill = units * 4.5\n",
    "elif units <= 200:\n",
    "    bill = (100 * 4.5) + ((units - 100) * 6)\n",
    "elif units <= 300:\n",
    "    bill = (100 * 4.5) + (100 * 6) + ((units - 200) * 10)\n",
    "else:\n",
    "    bill = (100 * 4.5) + (100 * 6) + (100 * 10) + ((units - 300) * 20)\n",
    "\n",
    "print(\"The total electricity bill is: Rs.\", bill)\n"
   ]
  },
  {
   "cell_type": "code",
   "execution_count": 19,
   "id": "266cb717-f070-421c-8848-786870f2a5df",
   "metadata": {},
   "outputs": [
    {
     "name": "stdout",
     "output_type": "stream",
     "text": [
      "The numbers whose cube is divisible by 4 or 5 are: [2, 4, 5, 6, 8, 10, 12, 14, 15, 16, 18, 20, 22, 24, 25, 26, 28, 30, 32, 34, 35, 36, 38, 40, 42, 44, 45, 46, 48, 50, 52, 54, 55, 56, 58, 60, 62, 64, 65, 66, 68, 70, 72, 74, 75, 76, 78, 80, 82, 84, 85, 86, 88, 90, 92, 94, 95, 96, 98, 100]\n"
     ]
    }
   ],
   "source": [
    "numbers = []\n",
    "for i in range(1, 101):\n",
    "    cube = i ** 3\n",
    "    if cube % 4 == 0 or cube % 5 == 0:\n",
    "        numbers.append(i)\n",
    "\n",
    "print(\"The numbers whose cube is divisible by 4 or 5 are:\", numbers)\n"
   ]
  },
  {
   "cell_type": "code",
   "execution_count": 20,
   "id": "eb775172-7d04-46bb-88be-530afc54308b",
   "metadata": {},
   "outputs": [
    {
     "name": "stdout",
     "output_type": "stream",
     "text": [
      "The numbers whose cube is divisible by 4 or 5 are: [2, 4, 5, 6, 8, 10, 12, 14, 15, 16, 18, 20, 22, 24, 25, 26, 28, 30, 32, 34, 35, 36, 38, 40, 42, 44, 45, 46, 48, 50, 52, 54, 55, 56, 58, 60, 62, 64, 65, 66, 68, 70, 72, 74, 75, 76, 78, 80, 82, 84, 85, 86, 88, 90, 92, 94, 95, 96, 98, 100]\n"
     ]
    }
   ],
   "source": [
    "numbers = []\n",
    "i = 1\n",
    "while i <= 100:\n",
    "    cube = i ** 3\n",
    "    if cube % 4 == 0 or cube % 5 == 0:\n",
    "        numbers.append(i)\n",
    "    i += 1\n",
    "\n",
    "print(\"The numbers whose cube is divisible by 4 or 5 are:\", numbers)\n"
   ]
  },
  {
   "cell_type": "markdown",
   "id": "b4a95d7d-5116-4279-ad79-3e9f207407de",
   "metadata": {},
   "source": [
    "Q5. Write a program to filter count vowels in the below-given string.\n",
    "string = \"I want to become a data scientist\""
   ]
  },
  {
   "cell_type": "code",
   "execution_count": 22,
   "id": "82a61c7e-4ad4-4d69-85e1-f5b530a5d0fe",
   "metadata": {},
   "outputs": [
    {
     "name": "stdout",
     "output_type": "stream",
     "text": [
      "The number of vowels in the string is: 12\n"
     ]
    }
   ],
   "source": [
    "string = \"I want to become a data scientist\"\n",
    "vowels = \"aeiouAEIOU\"\n",
    "count = 0\n",
    "for character in string:\n",
    "    if character in vowels:\n",
    "        count += 1\n",
    "print(\"The number of vowels in the string is:\", count)\n"
   ]
  },
  {
   "cell_type": "code",
   "execution_count": null,
   "id": "ef99603c-4bf9-4167-ba10-c182ce2612cb",
   "metadata": {},
   "outputs": [],
   "source": []
  }
 ],
 "metadata": {
  "kernelspec": {
   "display_name": "Python 3 (ipykernel)",
   "language": "python",
   "name": "python3"
  },
  "language_info": {
   "codemirror_mode": {
    "name": "ipython",
    "version": 3
   },
   "file_extension": ".py",
   "mimetype": "text/x-python",
   "name": "python",
   "nbconvert_exporter": "python",
   "pygments_lexer": "ipython3",
   "version": "3.10.8"
  }
 },
 "nbformat": 4,
 "nbformat_minor": 5
}
