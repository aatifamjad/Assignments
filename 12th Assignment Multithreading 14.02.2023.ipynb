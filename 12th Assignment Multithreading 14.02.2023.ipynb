{
 "cells": [
  {
   "cell_type": "markdown",
   "id": "d1c2dbc5-99f6-4ce2-906b-c54759c75593",
   "metadata": {},
   "source": [
    "\n",
    "Q1. What is multithreading in python? why is it used? Name the module used to handle threads in python"
   ]
  },
  {
   "cell_type": "markdown",
   "id": "35267573-f7ba-4a9e-8ca3-2d7cdbe73e55",
   "metadata": {},
   "source": [
    "Answer\n",
    "\n",
    "Multithreading in Python refers to the ability of a program to execute multiple threads of execution concurrently. Threads are a lightweight and efficient way to achieve parallelism in a program, allowing it to perform multiple tasks simultaneously.\n",
    "\n",
    "In Python, multithreading is commonly used in applications that involve I/O-bound tasks, such as network or file I/O operations, or in applications that can take advantage of multi-core processors for CPU-bound tasks. By using threads, these applications can make more efficient use of available resources and improve performance.\n",
    "\n",
    "Python provides a built-in module called threading that can be used to create and manage threads. The threading module allows a program to create new threads, control their behavior, and synchronize their execution. The module provides several classes and functions for working with threads, including Thread, Lock, Semaphore, and Event, among others.\n",
    "\n",
    "\n",
    "To use the threading module in Python, you can import it using the following statement:\n",
    "\n",
    "import threading\n"
   ]
  },
  {
   "cell_type": "markdown",
   "id": "a5221832-1e7a-4ae1-b9e1-898e96e15299",
   "metadata": {},
   "source": [
    "\n",
    "Q2. Why threading module used? write the use of the following functions:\n",
    "1) activeCount()\n",
    "2) currentThread()\n",
    "3) enumerate()"
   ]
  },
  {
   "cell_type": "markdown",
   "id": "5e561a43-c737-4ede-9c11-9241094b6589",
   "metadata": {},
   "source": [
    "Answer\n",
    "\n",
    "The threading module in Python is used to implement multi-threading in a program. It provides a simple and efficient way to create and manage threads, allowing for concurrent execution of multiple tasks. The module provides several useful classes and functions that can be used to work with threads and synchronize their execution.\n",
    "\n",
    "(1)...  activeCount(): This function returns the number of thread objects that are currently active and running in the program. It can be used to get an idea of the level of concurrency in a program and to monitor the progress of threads. \n",
    "For example:\n",
    "import threading\n",
    "\n",
    "def my_function():\n",
    "    # code to be executed in the new thread\n",
    "\n",
    "my_thread = threading.Thread(target=my_function)\n",
    "my_thread.start()\n",
    "\n",
    "print(threading.activeCount()) # prints the number of active threads (should be 2)\n",
    "\n",
    "\n",
    "\n",
    "\n",
    "(2).... currentThread(): This function returns a reference to the current thread object that is calling it. It can be used to get information about the current thread, such as its name or identifier, and to control its behavior. \n",
    "For example:\n",
    "\n",
    "import threading\n",
    "\n",
    "def my_function():\n",
    "    print(threading.currentThread().getName()) # prints the name of the current thread\n",
    "\n",
    "my_thread = threading.Thread(target=my_function, name='MyThread')\n",
    "my_thread.start()\n",
    "\n",
    "\n",
    "\n",
    "(3).... enumerate(): This function returns a list of all thread objects that are currently active in the program. It can be used to get information about all threads and to control their behavior.\n",
    "For example:\n",
    "\n",
    "fruits = ['apple', 'banana', 'orange']\n",
    "\n",
    "for index, fruit in enumerate(fruits):\n",
    "    print(f\"Index {index}: {fruit}\")\n",
    "\n",
    "\n",
    "Output\n",
    "Index 0: apple\n",
    "Index 1: banana\n",
    "Index 2: orange\n",
    "\n",
    "\n",
    "\n",
    "\n"
   ]
  },
  {
   "cell_type": "markdown",
   "id": "82ea6fc0-a841-4784-aeb3-b3919668ffd8",
   "metadata": {},
   "source": [
    "\n",
    "3. Explain the following functions:\n",
    "    \n",
    "1) run()\n",
    "2) start()\n",
    "3) join()\n",
    "4) isAlive()"
   ]
  },
  {
   "cell_type": "markdown",
   "id": "e18abac2-1b1e-4b42-8e55-6ddbefdfa277",
   "metadata": {},
   "source": [
    "Answer\n",
    "\n",
    "These functions are part of the Thread class in Python's built-in threading module, which provides a way to create and manage threads of execution.\n",
    "\n",
    "run(): This method is called when a thread is started using the start() method. It's the entry point for the thread's activity, and you should override it in your own subclasses to implement the thread's behavior. By default, the run() method does nothing, so you need to define it yourself to add the code you want to execute in the thread.\n",
    "\n",
    "start(): This method starts the thread's activity. It must be called at most once per thread object, and it arranges for the object's run() method to be invoked in a separate thread of control. Once a thread has been started, it cannot be started again.\n",
    "\n",
    "join(): This method blocks the calling thread until the thread whose join() method is called has terminated. If the optional timeout argument is given, it specifies the maximum amount of time to wait for the thread to terminate. If the thread does not terminate within the timeout period, the join() method returns anyway.\n",
    "\n",
    "isAlive(): This method returns True if the thread is currently executing and has not yet finished, and False otherwise. A thread is considered alive from the moment it is started using the start() method until it finishes executing its run() method."
   ]
  },
  {
   "cell_type": "markdown",
   "id": "23243b80-4f0f-44cc-8eb8-c20a475b721d",
   "metadata": {},
   "source": [
    "\n",
    "4. write a python program to create two threads. Thread one must print the list of squares and thread\n",
    "two must print the list of cubes:\n"
   ]
  },
  {
   "cell_type": "code",
   "execution_count": 1,
   "id": "2ca57a2b-76db-4d46-8103-f7295bff9f77",
   "metadata": {},
   "outputs": [
    {
     "name": "stdout",
     "output_type": "stream",
     "text": [
      "List of squares:\n",
      "1\n",
      "4\n",
      "9\n",
      "16\n",
      "25\n",
      "List of cubes:\n",
      "1\n",
      "8\n",
      "27\n",
      "64\n",
      "125\n",
      "Done!\n"
     ]
    }
   ],
   "source": [
    "# 4.Answer\n",
    "\n",
    "import threading\n",
    "\n",
    "def print_squares(n):\n",
    "    print(\"List of squares:\")\n",
    "    for i in range(1, n+1):\n",
    "        print(i**2)\n",
    "\n",
    "def print_cubes(n):\n",
    "    print(\"List of cubes:\")\n",
    "    for i in range(1, n+1):\n",
    "        print(i**3)\n",
    "\n",
    "if __name__ == '__main__':\n",
    "    n = 5\n",
    "\n",
    "    # create threads\n",
    "    t1 = threading.Thread(target=print_squares, args=(n,))\n",
    "    t2 = threading.Thread(target=print_cubes, args=(n,))\n",
    "\n",
    "    # start threads\n",
    "    t1.start()\n",
    "    t2.start()\n",
    "\n",
    "    # wait for threads to finish\n",
    "    t1.join()\n",
    "    t2.join()\n",
    "\n",
    "    print(\"Done!\")\n"
   ]
  },
  {
   "cell_type": "markdown",
   "id": "3a73d3c7-d1cd-4a18-b18b-5f5bbd225a2e",
   "metadata": {},
   "source": [
    "In this program, we define two functions print_squares and print_cubes to print the list of squares and cubes, respectively. Each function takes a parameter n which specifies the maximum number to print.\n",
    "\n",
    "We then create two threads using the Thread class and passing in the function to run and its arguments as the target and args parameters, respectively.\n",
    "\n",
    "We start both threads using the start() method, which arranges for the thread's run() method to be invoked in a separate thread of control.\n",
    "\n",
    "Finally, we wait for both threads to finish using the join() method, which blocks the calling thread until the target thread has completed, and print a message indicating that the program is done."
   ]
  },
  {
   "cell_type": "markdown",
   "id": "01a3c885-eb66-4e54-8006-6b291d1584bb",
   "metadata": {},
   "source": [
    "\n",
    "5. State advantages and disadvantages of multithreading:"
   ]
  },
  {
   "cell_type": "markdown",
   "id": "b0da23f4-aeea-4cb1-b117-bcb18c995664",
   "metadata": {},
   "source": [
    "Answer\n",
    "\n",
    "Multithreading can be a powerful technique for concurrent programming in a variety of contexts, but it also has both advantages and disadvantages.\n",
    "\n",
    "Advantages of multithreading:\n",
    "\n",
    "Improved performance: By executing multiple threads simultaneously, a program can utilize more processing power and complete tasks faster than a single-threaded program.\n",
    "Responsiveness: Multithreading can improve a program's responsiveness to user input, since one thread can handle user interface updates while another thread is performing background tasks.\n",
    "Resource sharing: Threads can share resources like memory and files, reducing the need for expensive inter-process communication mechanisms.\n",
    "Simplified program design: Multithreading can simplify program design by allowing tasks to be divided into smaller, more manageable units of work.\n",
    "Disadvantages of multithreading:\n",
    "\n",
    "Complexity: Multithreaded programming can be more complex than single-threaded programming, as threads must be carefully coordinated to avoid issues like race conditions and deadlocks.\n",
    "Debugging: Debugging multithreaded programs can be challenging, as issues may not always be reproducible and may depend on the timing of thread execution.\n",
    "Overhead: Creating and managing threads incurs overhead in terms of memory and CPU usage, which can be significant for large-scale applications with many threads.\n",
    "Scalability: Multithreading may not always scale well, as the number of threads increases, the overhead and complexity of coordinating threads can become a bottleneck, limiting performance gains.\n",
    "Overall, the benefits of multithreading can be significant in the right context, but the complexity and potential issues associated with it should be carefully considered when deciding whether to use it in a given application."
   ]
  },
  {
   "cell_type": "markdown",
   "id": "9b1b87f1-834b-4436-9bf0-4abddd433bc9",
   "metadata": {},
   "source": [
    "\n",
    "6. Explain deadlocks and race conditions."
   ]
  },
  {
   "cell_type": "markdown",
   "id": "7a62f4df-70a7-404b-bdaf-d836159b1e5f",
   "metadata": {},
   "source": [
    "Answer\n",
    "\n",
    "Deadlocks and race conditions are both potential issues that can arise in concurrent programs that use multiple threads or processes.\n",
    "\n",
    "A deadlock occurs when two or more threads or processes are blocked, waiting for each other to release resources that they need to continue. Deadlocks can occur when resources are not managed properly, such as when two threads acquire a shared resource without releasing it, or when resources are not properly synchronized to prevent conflicts.\n",
    "\n",
    "For example, consider two threads A and B, each holding a resource that the other needs to continue. If A is waiting for B to release its resource, and B is waiting for A to release its resource, then a deadlock occurs, and both threads will be blocked indefinitely.\n",
    "\n",
    "A race condition occurs when the behavior of a program depends on the relative timing of two or more threads or processes, and that behavior is unpredictable or incorrect. Race conditions can occur when two or more threads access shared data without proper synchronization or when there is a non-deterministic order of execution.\n",
    "\n",
    "For example, consider two threads A and B, both attempting to increment a shared variable x. If both threads read the value of x at the same time, increment it, and then write it back to memory, the final value of x will depend on the order in which the threads execute, leading to unpredictable behavior.\n",
    "\n",
    "To prevent deadlocks and race conditions, concurrent programs should carefully manage shared resources and use proper synchronization techniques to coordinate access to those resources. Synchronization mechanisms like locks, semaphores, and monitors can help prevent multiple threads from accessing shared resources simultaneously and ensure that resources are properly released when no longer needed. Additionally, careful program design and testing can help identify and prevent these types of issues."
   ]
  },
  {
   "cell_type": "code",
   "execution_count": null,
   "id": "b10a6da5-d9a4-470c-b679-32dba7817c65",
   "metadata": {},
   "outputs": [],
   "source": []
  }
 ],
 "metadata": {
  "kernelspec": {
   "display_name": "Python 3 (ipykernel)",
   "language": "python",
   "name": "python3"
  },
  "language_info": {
   "codemirror_mode": {
    "name": "ipython",
    "version": 3
   },
   "file_extension": ".py",
   "mimetype": "text/x-python",
   "name": "python",
   "nbconvert_exporter": "python",
   "pygments_lexer": "ipython3",
   "version": "3.10.8"
  }
 },
 "nbformat": 4,
 "nbformat_minor": 5
}
