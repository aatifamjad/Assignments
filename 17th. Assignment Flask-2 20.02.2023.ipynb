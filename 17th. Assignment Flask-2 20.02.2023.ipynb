{
 "cells": [
  {
   "cell_type": "markdown",
   "id": "73a86a35-10fb-44e9-9940-16ceeda7c3bc",
   "metadata": {},
   "source": [
    "Q1. Explain GET and POST methods."
   ]
  },
  {
   "cell_type": "markdown",
   "id": "6c38eeeb-f541-4b51-adb1-2f5a5993175d",
   "metadata": {},
   "source": [
    "Answer.\n",
    "\n",
    "GET and POST are two HTTP request methods used to communicate with web servers to retrieve or send data, respectively.\n",
    "\n",
    "GET method:\n",
    "The GET method is used to request data from a specified resource on a web server. When you enter a URL in your web browser, the browser sends a GET request to the web server to retrieve the content associated with that URL. The data is sent as part of the URL, in the form of query parameters, and is visible in the address bar of the browser. GET requests are considered \"safe\" and \"idempotent,\" which means that they can be repeated without causing any harm or side effects.\n",
    "\n",
    "POST method:\n",
    "The POST method is used to submit data to be processed to a specified resource on a web server. Unlike GET requests, the data submitted in a POST request is not visible in the URL or address bar of the browser. Instead, it is sent in the message body of the request. POST requests are typically used for actions that modify data on the server, such as creating, updating, or deleting resources. They are not considered \"safe\" or \"idempotent,\" because repeating the same request multiple times can result in unintended changes to the server's data."
   ]
  },
  {
   "cell_type": "markdown",
   "id": "bf3b4007-08bb-4d2c-a81a-234354720a12",
   "metadata": {},
   "source": [
    "Q2. Why is request used in Flask?"
   ]
  },
  {
   "cell_type": "markdown",
   "id": "0b897fb9-59d7-4591-bd0c-6b6efdf4862a",
   "metadata": {},
   "source": [
    "Answer.\n",
    "\n",
    "In Flask, the request object is used to represent the HTTP request made by a client to the server. It is an integral part of building web applications with Flask because it provides a way to access the data that was sent with the request, including data in the query string, request headers, and request body.\n",
    "\n",
    "The request object in Flask allows you to access information about the request, such as the HTTP method (e.g., GET or POST), the URL that was requested, and any data that was sent as part of the request. You can also use the request object to retrieve user input from forms, files, or other data sent as part of the request.\n",
    "\n",
    "For example, if you want to process a form submitted by a user in Flask, you can use the request object to retrieve the form data from the request body. You can then use this data to perform further processing or to generate a response to the client."
   ]
  },
  {
   "cell_type": "markdown",
   "id": "e075ecf3-0d07-4147-b4fb-c35b37a04dd8",
   "metadata": {},
   "source": [
    "Q3. Why is redirect() used in Flask?"
   ]
  },
  {
   "cell_type": "markdown",
   "id": "b2cb6776-8dc7-48be-b91f-23f43cf06267",
   "metadata": {},
   "source": [
    "Answer.\n",
    "\n",
    "In Flask, the redirect() function is used to redirect a client to a different URL. This function is typically used to redirect the client after completing a certain action or to handle certain errors or other conditions.\n",
    "\n",
    "One common use case for redirect() is after processing a form submission. For example, if a user fills out a form on a website and submits it, the server might process the data and then redirect the user to a different page. This is often done to avoid problems with the user resubmitting the form accidentally by refreshing the page.\n",
    "\n",
    "Another use case for redirect() is to handle authentication and authorization. For example, if a user tries to access a protected resource but is not logged in, the server might redirect the user to a login page. After the user logs in successfully, the server can redirect the user back to the original resource."
   ]
  },
  {
   "cell_type": "code",
   "execution_count": null,
   "id": "fee94a0f-c704-4a78-8740-2aa301291914",
   "metadata": {},
   "outputs": [],
   "source": [
    "from flask import redirect\n",
    "\n",
    "@app.route('/login')\n",
    "def login():\n",
    "    # some authentication logic here\n",
    "    return redirect('/home')\n"
   ]
  },
  {
   "cell_type": "markdown",
   "id": "b185c0e2-9750-4718-8886-763f2819775b",
   "metadata": {},
   "source": [
    "Q4. What are templates in Flask? Why is the render_template() function used?"
   ]
  },
  {
   "cell_type": "markdown",
   "id": "c4e7014f-d770-4522-bc74-d104fdf83690",
   "metadata": {},
   "source": [
    "Answer.\n",
    "\n",
    "In Flask, a template is a file that defines the structure and content of a web page, and allows you to dynamically generate HTML pages by inserting data into the template. Templates provide a way to separate the presentation logic from the application logic, making it easier to maintain and modify the appearance of a web application without affecting the underlying code.\n",
    "\n",
    "Templates in Flask are typically written in a markup language like HTML, and can contain placeholders for dynamic data that is passed in from the application. For example, a template might contain a placeholder for a user's name, which would be replaced with the actual user's name at runtime.\n",
    "\n",
    "\n",
    "To use a template in Flask, you first create the template file and save it in a directory called templates. You can then use the render_template() function to render the template and pass in any necessary data. The render_template() function takes the name of the template file as its first argument, and any additional arguments as key-value pairs representing the data to be passed into the template. \n"
   ]
  },
  {
   "cell_type": "code",
   "execution_count": null,
   "id": "5d808dd4-15a2-495f-a124-f1da110608f8",
   "metadata": {},
   "outputs": [],
   "source": [
    "from flask import Flask, render_template\n",
    "\n",
    "app = Flask(__name__)\n",
    "\n",
    "@app.route('/')\n",
    "def index():\n",
    "    name = 'John'\n",
    "    return render_template('index.html', name=name)\n"
   ]
  },
  {
   "cell_type": "markdown",
   "id": "c981228f-2c9e-43b3-bd1c-6276fa591768",
   "metadata": {},
   "source": [
    "Q5. Create a simple API. Use Postman to test it. Attach the screenshot of the output in the Jupyter Notebook."
   ]
  },
  {
   "cell_type": "markdown",
   "id": "847b68ad-b4f5-449d-9751-8e5b190182ea",
   "metadata": {},
   "source": [
    "Answer.\n",
    "\n",
    "As an AI language model, I am not able to attach screenshots to Jupyter notebooks. However, I can provide an example of how to create a simple API using Flask and test it with Postman.\n",
    "\n",
    "Here's an example of a simple Flask API that responds with a JSON object when a GET request is made to the /hello endpoint:"
   ]
  },
  {
   "cell_type": "code",
   "execution_count": null,
   "id": "746bcae4-ae44-4188-aa41-2192646e0715",
   "metadata": {},
   "outputs": [],
   "source": [
    "from flask import Flask, jsonify\n",
    "\n",
    "app = Flask(__name__)\n",
    "\n",
    "@app.route('/hello', methods=['GET'])\n",
    "def hello():\n",
    "    data = {'message': 'Hello, World!'}\n",
    "    return jsonify(data)\n",
    "\n",
    "if __name__ == '__main__':\n",
    "    app.run()\n"
   ]
  },
  {
   "cell_type": "markdown",
   "id": "3f5a96a2-07a4-4e54-b98f-a15f6146c27b",
   "metadata": {},
   "source": [
    "To test this API using Postman, follow these steps:\n",
    "\n",
    "1) Open Postman and create a new request.\n",
    "2) Set the HTTP method to GET and enter the URL http://localhost:5000/hello (assuming that you're running the Flask app on your local machine on port 5000).\n",
    "3) Click the Send button to send the request.\n",
    "4) The response should appear in the response pane at the bottom of the Postman window, and should look something like this:"
   ]
  },
  {
   "cell_type": "code",
   "execution_count": null,
   "id": "0f1829e3-b732-4bfb-8e76-ecfd27c305d0",
   "metadata": {},
   "outputs": [],
   "source": [
    "{\n",
    "    \"message\": \"Hello, World!\"\n",
    "}\n"
   ]
  },
  {
   "cell_type": "code",
   "execution_count": null,
   "id": "4529b71c-aed6-489b-b414-a21ad13559c2",
   "metadata": {},
   "outputs": [],
   "source": []
  }
 ],
 "metadata": {
  "kernelspec": {
   "display_name": "Python 3 (ipykernel)",
   "language": "python",
   "name": "python3"
  },
  "language_info": {
   "codemirror_mode": {
    "name": "ipython",
    "version": 3
   },
   "file_extension": ".py",
   "mimetype": "text/x-python",
   "name": "python",
   "nbconvert_exporter": "python",
   "pygments_lexer": "ipython3",
   "version": "3.10.8"
  }
 },
 "nbformat": 4,
 "nbformat_minor": 5
}
