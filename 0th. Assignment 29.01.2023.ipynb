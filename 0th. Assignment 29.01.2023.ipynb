{
 "cells": [
  {
   "cell_type": "markdown",
   "id": "dab99bc4-5ed7-452b-9fdc-a5f657333df6",
   "metadata": {},
   "source": [
    "1. Who developed Python Programming Language?"
   ]
  },
  {
   "cell_type": "markdown",
   "id": "c866f101-1de7-4d0d-baba-b1f525194793",
   "metadata": {},
   "source": [
    "Answer\n",
    "\n",
    "Python was developed by Guido van Rossum in the late 1980s and early 1990s."
   ]
  },
  {
   "cell_type": "markdown",
   "id": "7c45244f-5c93-4f1e-9f8e-e00ed08ce194",
   "metadata": {},
   "source": [
    "2.Which type of Programming does Python support?"
   ]
  },
  {
   "cell_type": "markdown",
   "id": "c8dc2dd8-a8aa-4990-a573-1db417805c27",
   "metadata": {},
   "source": [
    "Answer.\n",
    "\n",
    "Python supports multiple programming paradigms including Object-Oriented Programming (OOP), Imperative Programming, Functional Programming, and Procedural Programming."
   ]
  },
  {
   "cell_type": "markdown",
   "id": "0b642347-46de-404c-a428-3cb71663f7c7",
   "metadata": {},
   "source": [
    "3.ls Python cose sensitive when dealing with identifiers?"
   ]
  },
  {
   "cell_type": "markdown",
   "id": "b47c5101-573f-450a-bb21-3ac4ae2e32a2",
   "metadata": {},
   "source": [
    "Answer. \n",
    "\n",
    "Yes, Python is case sensitive when dealing with identifiers (i.e. names of variables, functions, classes, etc.). For example, a variable named \"foo\" is different from a variable named \"Foo\"."
   ]
  },
  {
   "cell_type": "markdown",
   "id": "658b58c5-372e-4710-a003-61d091b77b0b",
   "metadata": {},
   "source": [
    "4.What is the correct extension of the Python file?"
   ]
  },
  {
   "cell_type": "markdown",
   "id": "3be6a40d-a8b7-4b2d-bcbd-7f3bac8654ff",
   "metadata": {},
   "source": [
    "Answer.\n",
    "\n",
    "The correct extension of a Python file is .py."
   ]
  },
  {
   "cell_type": "markdown",
   "id": "e30f3489-d96d-4392-9866-df5cb57d1b83",
   "metadata": {},
   "source": [
    "5.ls Python code compiled or interpreted?"
   ]
  },
  {
   "cell_type": "markdown",
   "id": "bb481324-307b-4715-a6e1-b2ef53ef371e",
   "metadata": {},
   "source": [
    "Answer.\n",
    "\n",
    "Python is an interpreted language, meaning that the source code is compiled at runtime by the interpreter, not ahead of time."
   ]
  },
  {
   "cell_type": "markdown",
   "id": "64f48a90-2ebc-4407-b87c-ed6050b4dc06",
   "metadata": {},
   "source": [
    "6. Name afew blocks of code used to define in Python language?"
   ]
  },
  {
   "cell_type": "markdown",
   "id": "65bd0445-a2b6-4084-9ccf-0bb89855eb74",
   "metadata": {},
   "source": [
    "Answer.\n",
    "\n",
    "Some blocks of code used to define in Python are:\n",
    "\n",
    "1) Functions\n",
    "2) Classes\n",
    "3) Loops\n",
    "4) Conditional statements\n",
    "5) Modules"
   ]
  },
  {
   "cell_type": "markdown",
   "id": "e0c2e892-8558-40c6-aad7-a5d7d2489c07",
   "metadata": {},
   "source": [
    "7. State a character used to give single-line comments in Python?"
   ]
  },
  {
   "cell_type": "markdown",
   "id": "47154748-44d4-4d73-bd53-d9c5f24b2883",
   "metadata": {},
   "source": [
    "Answer\n",
    "\n",
    "The pound symbol (#) is used to give single-line comments in Python.\n",
    "\n"
   ]
  },
  {
   "cell_type": "markdown",
   "id": "7912bed7-9d30-4f48-8f10-e999b6ce8084",
   "metadata": {},
   "source": [
    "8. . Mention functions which can help us to find the version of python that we are currently working on?\n",
    "\n",
    "oo wm wm & mw Ao"
   ]
  },
  {
   "cell_type": "markdown",
   "id": "77fe66ae-4d94-409d-b1a1-24d64ce219dc",
   "metadata": {},
   "source": [
    "Answer \n",
    "\n",
    "The function sys.version and sys.version_info can help us to find the version of python that we are currently working on."
   ]
  },
  {
   "cell_type": "markdown",
   "id": "fda06e13-30a0-410a-9395-6d0dc2b5bed4",
   "metadata": {},
   "source": [
    "9. . Python supports the creation of anonymous functions at runtime, using a construct called"
   ]
  },
  {
   "cell_type": "markdown",
   "id": "050f436d-0d5e-4520-b7c9-1a363eab967e",
   "metadata": {},
   "source": [
    "Answer\n",
    "\n",
    "\"lambda\".\n"
   ]
  },
  {
   "cell_type": "markdown",
   "id": "f954b979-fac1-4951-ba64-34212636ebdc",
   "metadata": {},
   "source": [
    "10.  What does pip stand for python?"
   ]
  },
  {
   "cell_type": "markdown",
   "id": "0a6521ba-a5b3-4d29-a655-ee119738fcf3",
   "metadata": {},
   "source": [
    "Answer\n",
    "\n",
    "pip stands for \"Pip Installs Packages\". It is a package management system used to install and manage software packages written in Python."
   ]
  },
  {
   "cell_type": "markdown",
   "id": "6a1ca59f-9611-4832-97d6-67bda95aa87d",
   "metadata": {},
   "source": [
    "11. TL Mention a few built-in functions in python?"
   ]
  },
  {
   "cell_type": "markdown",
   "id": "6a462296-35ac-47de-8865-531d3d8757a9",
   "metadata": {},
   "source": [
    "Answer\n",
    "\n",
    "Some of the built-in functions in Python are:\n",
    "\n",
    "print()\n",
    "len()\n",
    "int()\n",
    "float()\n",
    "str()\n",
    "type()\n",
    "range()\n",
    "input()\n",
    "sum()\n",
    "min()\n",
    "max()\n",
    "sorted()\n",
    "abs()\n",
    "round()\n",
    "enumerate()\n",
    "\n"
   ]
  },
  {
   "cell_type": "markdown",
   "id": "9be3faed-f094-4ccc-9113-92c7b875dcae",
   "metadata": {},
   "source": [
    "12. 12. What is the maximum possible length of on identifier in Python?"
   ]
  },
  {
   "cell_type": "markdown",
   "id": "d9b709ef-00bd-4f88-b9a7-79c060581df4",
   "metadata": {},
   "source": [
    "Answer \n",
    "\n",
    "In Python, there is no explicitly defined maximum length for an identifier, but in practice, the length of an identifier is limited by the underlying operating system and the available memory. Generally, the length of an identifier can be anywhere between 1 to a few hundreds of characters."
   ]
  },
  {
   "cell_type": "markdown",
   "id": "eb1bedbf-9172-437c-a81f-9b34e31b52cc",
   "metadata": {},
   "source": [
    "13. What are the benefits of using Python?"
   ]
  },
  {
   "cell_type": "markdown",
   "id": "027ec91f-0999-42c1-9c53-aee32d55398a",
   "metadata": {},
   "source": [
    "Answer\n",
    "\n",
    "There are several benefits of using Python, including:\n",
    "\n",
    "Easy to learn: Python has a simple and easy-to-learn syntax, which makes it a great language for beginners.\n",
    "\n",
    "Versatile: Python can be used for a wide range of applications, including web development, scientific computing, data analysis, artificial intelligence, and more.\n",
    "\n",
    "Large community: Python has a large and active community of users and developers, which means that it is well-supported and has many resources available for learning and development.\n",
    "\n",
    "Large Standard Library: Python has a large standard library that includes modules for tasks like connecting to web servers, reading and writing files, and working with data.\n",
    "\n",
    "Cross-platform compatibility: Python can run on Windows, Mac, Linux, and other operating systems, making it a versatile choice for development.\n",
    "\n",
    "Dynamic Typing: Python uses dynamic typing, which means that you don't have to declare the type of a variable.\n",
    "\n",
    "Interoperability: Python can be used in conjunction with other programming languages, making it a great choice for projects that require integration with other systems.\n"
   ]
  },
  {
   "cell_type": "markdown",
   "id": "f9118c93-bed6-4280-b294-a55478e9775c",
   "metadata": {},
   "source": [
    "14. How is memory managed in Python?"
   ]
  },
  {
   "cell_type": "markdown",
   "id": "9fdf337d-c308-4667-b820-e8f4c2bddb0a",
   "metadata": {},
   "source": [
    "Answer\n",
    "\n",
    "Memory in Python is managed by the Python Memory Manager. The Python Memory Manager is responsible for allocating and freeing memory, as well as handling memory fragmentation. The Memory Manager uses a technique called reference counting to keep track of the number of references to each object in memory. When the reference count for an object reaches zero, the Memory Manager frees the memory occupied by the object. Additionally, the Memory Manager periodically runs a garbage collector to identify and reclaim objects that are no longer being used. The garbage collector uses a technique called cycle detection to identify objects that are involved in reference cycles, and frees the memory occupied by those objects.\n"
   ]
  },
  {
   "cell_type": "markdown",
   "id": "efe85d96-1494-41e3-b921-6fa8e838207d",
   "metadata": {},
   "source": [
    "15. How te install Python on Windows and set path variables?"
   ]
  },
  {
   "cell_type": "markdown",
   "id": "b044ac14-10d2-4621-b94e-7edbf25a7d82",
   "metadata": {},
   "source": [
    "Answer \n",
    "\n",
    "To install Python on Windows and set the path variables, follow these steps:\n",
    "\n",
    "Download the Python installer from the official Python website.\n",
    "\n",
    "Run the installer and follow the prompts to install Python.\n",
    "\n",
    "After installation, open the Start menu and search for \"Environment Variables\".\n",
    "\n",
    "Click on \"Edit the system environment variables\".\n",
    "\n",
    "Click on the \"Environment Variables\" button.\n",
    "\n",
    "Under \"System Variables\", scroll down and find the \"Path\" variable, then click \"Edit\".\n",
    "\n",
    "Add the path to your Python installation, for example, \"C:\\Python38\".\n",
    "\n",
    "Save your changes and close the Environment Variables window.\n",
    "\n",
    "Open a new command prompt window and type \"python\" to verify that the Python path has been set correctly.\n",
    "\n",
    "You should now be able to run Python scripts from the command line by typing \"python script_name.py\".\n",
    "\n",
    "Note: The steps may vary slightly depending on the version of Windows you are using.\n"
   ]
  },
  {
   "cell_type": "markdown",
   "id": "ea63de23-85e7-45ae-97d3-90e8cdd757b9",
   "metadata": {},
   "source": [
    "16. Is indentation required in python?"
   ]
  },
  {
   "cell_type": "markdown",
   "id": "6fb487dd-1d38-4912-90e3-75537e5e849a",
   "metadata": {},
   "source": [
    "Answer \n",
    "\n",
    "Yes, indentation is required in Python. It is used to define a block of code and is an important aspect of Python's syntax. Indentation helps to keep the code organized and makes it easier to read and understand. Without proper indentation, the code can become difficult to maintain and may lead to errors.\n"
   ]
  },
  {
   "cell_type": "code",
   "execution_count": null,
   "id": "82c81ae9-008b-4537-b707-56707992f211",
   "metadata": {},
   "outputs": [],
   "source": []
  }
 ],
 "metadata": {
  "kernelspec": {
   "display_name": "Python 3 (ipykernel)",
   "language": "python",
   "name": "python3"
  },
  "language_info": {
   "codemirror_mode": {
    "name": "ipython",
    "version": 3
   },
   "file_extension": ".py",
   "mimetype": "text/x-python",
   "name": "python",
   "nbconvert_exporter": "python",
   "pygments_lexer": "ipython3",
   "version": "3.10.8"
  }
 },
 "nbformat": 4,
 "nbformat_minor": 5
}
