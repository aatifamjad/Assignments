{
 "cells": [
  {
   "cell_type": "markdown",
   "id": "c2065e1f-1058-4276-8db7-a24be53b0443",
   "metadata": {},
   "source": [
    "Q1. Load the flight price dataset and examine its dimensions. How many rows and columns does the\n",
    "dataset have?"
   ]
  },
  {
   "cell_type": "markdown",
   "id": "c390dbea-2eef-4715-b07b-e17d0004e0bf",
   "metadata": {},
   "source": [
    "Answer 1...\n",
    "\n",
    "Load the flight price dataset and examine its dimensions. How many rows and columns does the dataset have?\n",
    "\n",
    "To load the flight price dataset, we need to know the file format and location. Once we have this information, we can use a library like pandas to load the data and examine its dimensions. For example:"
   ]
  },
  {
   "cell_type": "code",
   "execution_count": null,
   "id": "7851e802-a717-401f-9522-fa64ef2eb20f",
   "metadata": {},
   "outputs": [],
   "source": [
    "import pandas as pd\n",
    "\n",
    "# Load the flight price dataset\n",
    "flight_prices = pd.read_csv('flight_prices.csv')\n",
    "\n",
    "# Examine the dimensions of the dataset\n",
    "print(flight_prices.shape)\n"
   ]
  },
  {
   "cell_type": "markdown",
   "id": "6408a2de-3ee2-4416-8a6e-e5185507a135",
   "metadata": {},
   "source": [
    "(10683, 11)\n"
   ]
  },
  {
   "cell_type": "markdown",
   "id": "27fa393b-beed-410d-918e-fc96a562a063",
   "metadata": {},
   "source": [
    "Q2. What is the distribution of flight prices in the dataset? Create a histogram to visualize the\n",
    "distribution."
   ]
  },
  {
   "cell_type": "code",
   "execution_count": null,
   "id": "7562b5b2-6bbd-49c4-8161-03a62a26b580",
   "metadata": {},
   "outputs": [],
   "source": [
    "# Answer 2...\n",
    "\n",
    "# To examine the distribution of flight prices in the dataset, we can create a histogram using the matplotlib library. For example:\n",
    "\n",
    "import matplotlib.pyplot as plt\n",
    "\n",
    "# Create a histogram of flight prices\n",
    "plt.hist(flight_prices['price'], bins=20)\n",
    "plt.xlabel('Price')\n",
    "plt.ylabel('Count')\n",
    "plt.title('Distribution of Flight Prices')\n",
    "plt.show()\n"
   ]
  },
  {
   "cell_type": "markdown",
   "id": "b751ef03-530d-4e85-9696-b8dca650d3e9",
   "metadata": {},
   "source": [
    "Q3. What is the range of prices in the dataset? What is the minimum and maximum price?"
   ]
  },
  {
   "cell_type": "code",
   "execution_count": null,
   "id": "1dec44e6-1b0b-4e4a-8ef5-41ef7f51cfe4",
   "metadata": {},
   "outputs": [],
   "source": [
    "# Answer 3...\n",
    "\n",
    "# Find the range of prices in the dataset\n",
    "price_range = df['price'].max() - df['price'].min()\n",
    "\n",
    "# Find the minimum and maximum prices in the dataset\n",
    "min_price = df['price'].min()\n",
    "max_price = df['price'].max()\n",
    "\n",
    "# Print the results\n",
    "print(f\"The range of prices in the dataset is {price_range}.\")\n",
    "print(f\"The minimum price is {min_price} and the maximum price is {max_price}.\")\n"
   ]
  },
  {
   "cell_type": "markdown",
   "id": "f805f60b-17e5-424e-aba0-06d8db106ac0",
   "metadata": {},
   "source": [
    "Q4. How does the price of flights vary by airline? Create a boxplot to compare the prices of different\n",
    "airlines."
   ]
  },
  {
   "cell_type": "code",
   "execution_count": null,
   "id": "5b474019-b3e9-434b-84c4-b386e3037c64",
   "metadata": {},
   "outputs": [],
   "source": [
    "Answer 4...\n",
    "\n",
    "import seaborn as sns\n",
    "\n",
    "# Create a boxplot of the flight prices by airline\n",
    "sns.boxplot(x='airline', y='price', data=df)\n",
    "\n",
    "# Set the title and labels of the boxplot\n",
    "plt.title(\"Flight Prices by Airline\")\n",
    "plt.xlabel(\"Airline\")\n",
    "plt.ylabel(\"Price\")\n",
    "\n",
    "# Display the boxplot\n",
    "plt.show()\n"
   ]
  },
  {
   "cell_type": "markdown",
   "id": "b3ea465e-e835-4796-8650-bd676c407279",
   "metadata": {},
   "source": [
    "Q5. Are there any outliers in the dataset? Identify any potential outliers using a boxplot and describe how\n",
    "they may impact your analysis."
   ]
  },
  {
   "cell_type": "code",
   "execution_count": null,
   "id": "bf9006b2-819e-4644-93d1-90c870846e0b",
   "metadata": {},
   "outputs": [],
   "source": [
    "Answer 5...\n",
    "# Create a boxplot of the flight prices\n",
    "sns.boxplot(df['price'])\n",
    "\n",
    "# Set the title and labels of the boxplot\n",
    "plt.title(\"Flight Prices\")\n",
    "plt.xlabel(\"Price\")\n",
    "\n",
    "# Display the boxplot\n",
    "plt.show()\n"
   ]
  },
  {
   "cell_type": "markdown",
   "id": "02e014ed-4f13-406d-8b24-b73bca0aba21",
   "metadata": {},
   "source": [
    "Q6. You are working for a travel agency, and your boss has asked you to analyze the Flight Price dataset\n",
    "to identify the peak travel season. What features would you analyze to identify the peak season, and how\n",
    "would you present your findings to your boss?"
   ]
  },
  {
   "cell_type": "markdown",
   "id": "0b619adb-639a-49bc-9d10-8b6124571e26",
   "metadata": {},
   "source": [
    "Answer 6...\n",
    "\n",
    "To identify the peak travel season, I would analyze the following features:\n",
    "\n",
    "Date of Travel: I would analyze the distribution of flight prices across different months of the year to identify months when prices are generally higher or lower. This could help identify the peak travel season.\n",
    "Destination: I would analyze the distribution of flight prices to different destinations to identify popular destinations and when prices tend to be higher.\n",
    "Duration of Stay: I would analyze the distribution of flight prices for different durations of stay to identify the duration that tends to be most popular and when prices tend to be higher.\n",
    "Day of the Week: I would analyze the distribution of flight prices across different days of the week to identify days when prices tend to be higher or lower.\n",
    "To present my findings to my boss, I would create visualizations such as line charts or bar charts to show the distribution of flight prices across different months, destinations, durations of stay, and days of the week. I would highlight the months or days when prices tend to be higher and explain the possible reasons behind the price fluctuations. I would also provide recommendations on how the travel agency could leverage the peak travel season to increase revenue."
   ]
  },
  {
   "cell_type": "markdown",
   "id": "4cad0ff0-634a-4b01-84cd-bfc3a14b4f71",
   "metadata": {},
   "source": [
    "Q7. You are a data analyst for a flight booking website, and you have been asked to analyze the Flight\n",
    "Price dataset to identify any trends in flight prices. What features would you analyze to identify these\n",
    "trends, and what visualizations would you use to present your findings to your team?"
   ]
  },
  {
   "cell_type": "markdown",
   "id": "ba20ece2-affb-4784-bdef-8cd426463284",
   "metadata": {},
   "source": [
    "Answer 7...\n",
    "\n",
    "To identify trends in flight prices, I would analyze the following features:\n",
    "\n",
    "Date of Travel: I would analyze the trend of flight prices over time to identify if there are any seasonal or long-term trends in the data.\n",
    "Destination: I would analyze the trend of flight prices to different destinations to identify if there are any destinations where prices are generally higher or lower.\n",
    "Flight Duration: I would analyze the trend of flight prices for different durations of the flight to identify if there are any trends in flight prices based on the duration of the flight.\n",
    "Airline: I would analyze the trend of flight prices for different airlines to identify if there are any airlines that consistently offer lower or higher prices.\n",
    "To present my findings to my team, I would create visualizations such as line charts or scatter plots to show the trend of flight prices over time or for different features. I would highlight any significant trends or patterns and explain the possible reasons behind them. I would also provide recommendations on how the flight booking website could leverage the identified trends to improve its pricing strategy."
   ]
  },
  {
   "cell_type": "markdown",
   "id": "ce132226-8ca6-4b45-9749-43a108d74688",
   "metadata": {},
   "source": [
    "Q8. You are a data scientist working for an airline company, and you have been asked to analyze the\n",
    "Flight Price dataset to identify the factors that affect flight prices. What features would you analyze to\n",
    "identify these factors, and how would you present your findings to the management team?"
   ]
  },
  {
   "cell_type": "markdown",
   "id": "89fc5faf-9442-4163-bd4e-843242b793bd",
   "metadata": {},
   "source": [
    "Answer 8...\n",
    "\n",
    "To identify the factors that affect flight prices, I would analyze the following features:\n",
    "\n",
    "Date of Travel: I would analyze the impact of different months, days of the week, and seasons on flight prices.\n",
    "Destination: I would analyze the impact of different destinations on flight prices, including distance, popularity, and competition.\n",
    "Flight Duration: I would analyze the impact of flight duration on flight prices, including the number of layovers and the time of day.\n",
    "Airline: I would analyze the impact of different airlines on flight prices, including the airline's reputation, service quality, and route network.\n",
    "To present my findings to the management team, I would create visualizations such as heatmaps or scatter plots to show the impact of different features on flight prices. I would highlight the most significant factors affecting flight prices and explain the possible reasons behind them. I would also provide recommendations on how the airline company could leverage the identified factors to improve its pricing strategy, such as adjusting its pricing for different seasons or destinations, improving its route network, or partnering with other airlines to offer more competitive prices."
   ]
  },
  {
   "cell_type": "markdown",
   "id": "3676df7d-7ef1-48c5-a320-233a8dbff2c5",
   "metadata": {},
   "source": [
    "Q9. Load the Google Playstore dataset and examine its dimensions. How many rows and columns does\n",
    "the dataset have?"
   ]
  },
  {
   "cell_type": "code",
   "execution_count": null,
   "id": "8ba2afe4-34bf-4a76-981b-ee065c78666a",
   "metadata": {},
   "outputs": [],
   "source": [
    "# Answer 9...\n",
    "\n",
    "import pandas as pd\n",
    "\n",
    "playstore_df = pd.read_csv('googleplaystore.csv')\n"
   ]
  },
  {
   "cell_type": "code",
   "execution_count": null,
   "id": "54b29b6d-f3ac-4147-8527-df760e1db22c",
   "metadata": {},
   "outputs": [],
   "source": [
    "print(\"Number of rows: \", playstore_df.shape[0])\n",
    "print(\"Number of columns: \", playstore_df.shape[1])\n"
   ]
  },
  {
   "cell_type": "markdown",
   "id": "d685eec5-57f9-4b55-95a5-2563e4bed62a",
   "metadata": {},
   "source": [
    "Q10. How does the rating of apps vary by category? Create a boxplot to compare the ratings of different\n",
    "app categories."
   ]
  },
  {
   "cell_type": "code",
   "execution_count": null,
   "id": "2b06661b-5ac6-4aba-90aa-ed1594362da4",
   "metadata": {},
   "outputs": [],
   "source": [
    "# Answer 10...\n",
    "\n",
    "import seaborn as sns\n",
    "\n",
    "top_categories = playstore_df['Category'].value_counts().nlargest(10).index.tolist()\n",
    "top_categories_df = playstore_df[playstore_df['Category'].isin(top_categories)]\n",
    "\n",
    "sns.boxplot(x='Category', y='Rating', data=top_categories_df)\n"
   ]
  },
  {
   "cell_type": "markdown",
   "id": "ab2e5c18-41ce-414c-88dc-e9b1ea623f80",
   "metadata": {},
   "source": [
    "Q11. Are there any missing values in the dataset? Identify any missing values and describe how they may\n",
    "impact your analysis."
   ]
  },
  {
   "cell_type": "code",
   "execution_count": null,
   "id": "17669c15-654e-41f8-9bdd-67605d010157",
   "metadata": {},
   "outputs": [],
   "source": [
    "# Answer 11...\n",
    "\n",
    "missing_values = playstore_df.isnull().sum()\n",
    "print(missing_values)\n"
   ]
  },
  {
   "cell_type": "markdown",
   "id": "10f73529-e179-4c70-9e69-becdccf0020f",
   "metadata": {},
   "source": [
    "Q12. What is the relationship between the size of an app and its rating? Create a scatter plot to visualize\n",
    "the relationship."
   ]
  },
  {
   "cell_type": "code",
   "execution_count": null,
   "id": "7147c1a6-d445-4726-900b-23628ac13018",
   "metadata": {},
   "outputs": [],
   "source": [
    "# Answer 12...\n",
    "\n",
    "import matplotlib.pyplot as plt\n",
    "\n",
    "plt.scatter(x=playstore_df['Size']/1e6, y=playstore_df['Rating'])\n",
    "plt.xlabel('App Size (MB)')\n",
    "plt.ylabel('App Rating')\n"
   ]
  },
  {
   "cell_type": "markdown",
   "id": "3d8ae961-65a4-408e-b079-ef3cf2438a61",
   "metadata": {},
   "source": [
    "Q13. How does the type of app affect its price? Create a bar chart to compare average prices by app type."
   ]
  },
  {
   "cell_type": "code",
   "execution_count": null,
   "id": "6959c881-07ac-4976-8aeb-5a271910ce58",
   "metadata": {},
   "outputs": [],
   "source": [
    "# Answer 13...\n",
    "\n",
    "import seaborn as sns\n",
    "\n",
    "price_by_type = playstore_df.groupby('Type')['Price'].mean().reset_index()\n",
    "sns.barplot(x='Type', y='Price', data=price_by_type)\n"
   ]
  },
  {
   "cell_type": "markdown",
   "id": "a8d9d875-c577-412a-bb9a-0d257b4d921d",
   "metadata": {},
   "source": [
    "Q14. What are the top 10 most popular apps in the dataset? Create a frequency table to identify the apps\n",
    "with the highest number of installs."
   ]
  },
  {
   "cell_type": "code",
   "execution_count": null,
   "id": "e2837f40-9712-414e-b54c-90da41dc7bb4",
   "metadata": {},
   "outputs": [],
   "source": [
    "# Answer 14...\n",
    "\n",
    "top_apps = playstore_df[['App', 'Installs']].groupby('App').sum().sort_values('Installs', ascending=False).head(10)\n",
    "print(top_apps)\n"
   ]
  },
  {
   "cell_type": "markdown",
   "id": "b009bee9-a033-4323-8d13-c6b65474392b",
   "metadata": {},
   "source": [
    "Q15. A company wants to launch a new app on the Google Playstore and has asked you to analyze the\n",
    "Google Playstore dataset to identify the most popular app categories. How would you approach this\n",
    "task, and what features would you analyze to make recommendations to the company?"
   ]
  },
  {
   "cell_type": "markdown",
   "id": "8c7cc851-9006-4363-b58c-c1fe909dfc3b",
   "metadata": {},
   "source": [
    "Answer 15...\n",
    "\n",
    "To approach this task, I would start by analyzing the Google Playstore dataset to identify the most popular app categories based on different criteria. Here are some potential steps I would take:\n",
    "\n",
    "Explore the dataset to understand the different features available and their distribution across categories. Some key features to look at include:\n",
    "\n",
    "Number of apps per category\n",
    "Average rating per category\n",
    "Average price per category\n",
    "Average number of installs per category\n",
    "Size of apps per category\n",
    "Content rating per category\n",
    "Identify the top app categories based on different criteria, such as the number of apps, the average rating, or the number of installs. This will help to provide an overview of the most popular categories in the Google Playstore and give us an idea of what users are interested in.\n",
    "\n",
    "Look for correlations between different features to gain a better understanding of what drives app popularity in different categories. For example, we might find that certain categories have higher average ratings because they have a higher average price, or that certain categories have a higher number of installs because they tend to have larger app sizes.\n",
    "\n",
    "Use the insights gained from the analysis to make recommendations to the company. For example, if we find that the top categories in the Google Playstore are games and entertainment, we might recommend that the company consider developing an app in one of these categories. Additionally, we might recommend that the app be priced competitively, have a high average rating, and be optimized for a wide range of devices to maximize its potential for success.\n",
    "\n",
    "Overall, the key to identifying the most popular app categories in the Google Playstore is to take a comprehensive approach to analyzing the available data, considering a wide range of factors that could impact app popularity, and drawing insights from the data to make informed recommendations.\n",
    "\n",
    "\n",
    "\n",
    "\n",
    "\n",
    "\n"
   ]
  },
  {
   "cell_type": "markdown",
   "id": "018877f0-c0a8-41d2-b2fd-97f36f20ab49",
   "metadata": {},
   "source": [
    "Q16. A mobile app development company wants to analyze the Google Playstore dataset to identify the\n",
    "most successful app developers. What features would you analyze to make recommendations to the\n",
    "company, and what data visualizations would you use to present your findings?\n",
    "\n",
    "Q17. A marketing research firm wants to analyze the Google Playstore dataset to identify the best time to\n",
    "launch a new app. What features would you analyze to make recommendations\n",
    "\n",
    "\n",
    "\n",
    "Answer 16...\n",
    "\n",
    "To identify the most successful app developers, some of the features that could be analyzed from the Google Playstore dataset include:\n",
    "\n",
    "1) Number of downloads and ratings: These can indicate the popularity of an app and how well it is received by users.\n",
    "\n",
    "2) Revenue and profitability: This can give an idea of the financial success of an app and its developer.\n",
    "\n",
    "3) User retention rate: This indicates the percentage of users who continue to use the app after downloading it, which is a measure of its quality and usefulness.\n",
    "\n",
    "4) Number of updates and their frequency: This can indicate how actively the developer is working on improving and maintaining their app.\n",
    "\n",
    "5) App category and genre: Different categories and genres have different levels of competition and user demand, so this can help identify the most successful developers within a specific category or genre.\n",
    "\n",
    "\n",
    "Some data visualizations that could be used to present these findings include:\n",
    "\n",
    "1) Bar charts or pie charts to show the number of downloads and ratings of each app developer.\n",
    "\n",
    "2) Line charts to show the trend of revenue and profitability over time.\n",
    "\n",
    "3) Scatter plots to show the relationship between user retention rate and number of downloads.\n",
    "\n",
    "4) Heat maps to show the frequency and timing of app updates.\n",
    "\n",
    "5) Stacked bar charts or bubble charts to show the distribution of app developers across different categories and genres.\n",
    "\n",
    "\n",
    "Answer 17...\n",
    "\n",
    "To identify the best time to launch a new app, some of the features that could be analyzed from the Google Playstore dataset include:\n",
    "\n",
    "1) Number of downloads and ratings over time: This can give an idea of the seasonality of user demand for different types of apps.\n",
    "\n",
    "2) Competitor analysis: Analyzing the launch dates and performance of similar apps can help identify patterns and trends in user behavior.\n",
    "\n",
    "3) App category and genre: Different categories and genres have different levels of competition and user demand, so this can help identify the best time to launch an app within a specific category or genre.\n",
    "\n",
    "4) User reviews: Analyzing user reviews can provide insights into the factors that influence user satisfaction and dissatisfaction with apps.\n",
    "\n",
    "5) Some data visualizations that could be used to present these findings include:\n",
    "\n",
    "6) Line charts or heat maps to show the trend of downloads and ratings over time.\n",
    "\n",
    "7) Bar charts or bubble charts to show the distribution of app launches across different categories and genres.\n",
    "\n",
    "8) Scatter plots to show the relationship between launch date and app performance.\n",
    "\n",
    "Word clouds or sentiment analysis charts to show the most common keywords and sentiments in user reviews."
   ]
  },
  {
   "cell_type": "code",
   "execution_count": null,
   "id": "c58ed473-5f74-4306-8c28-193748d58ebe",
   "metadata": {},
   "outputs": [],
   "source": []
  }
 ],
 "metadata": {
  "kernelspec": {
   "display_name": "Python 3 (ipykernel)",
   "language": "python",
   "name": "python3"
  },
  "language_info": {
   "codemirror_mode": {
    "name": "ipython",
    "version": 3
   },
   "file_extension": ".py",
   "mimetype": "text/x-python",
   "name": "python",
   "nbconvert_exporter": "python",
   "pygments_lexer": "ipython3",
   "version": "3.10.8"
  }
 },
 "nbformat": 4,
 "nbformat_minor": 5
}
