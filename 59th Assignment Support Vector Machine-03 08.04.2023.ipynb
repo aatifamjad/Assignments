{
 "cells": [
  {
   "cell_type": "markdown",
   "id": "71f7943d-67cc-463c-89bf-ffd6ebef19f0",
   "metadata": {},
   "source": [
    "Q1. In order to predict house price based on several characteristics, such as location, square footage,\n",
    "number of bedrooms, etc., you are developing an SVM regression model. Which regression metric in this\n",
    "situation would be the best to employ?\n",
    "\n",
    "Answer 1...\n",
    "\n",
    "In this situation, the most appropriate regression metric to employ would be the Mean Squared Error (MSE). This is because the MSE measures the average squared difference between the predicted and actual values, which is commonly used in regression problems where the goal is to minimize the difference between predicted and actual values.\n",
    "\n",
    "By minimizing the MSE, the SVM regression model can accurately predict house prices based on the given characteristics, such as location, square footage, and number of bedrooms. Additionally, the MSE is easily interpretable and commonly used in machine learning, making it a reliable metric for evaluating the performance of the model."
   ]
  },
  {
   "cell_type": "markdown",
   "id": "f67d3767-466a-48ac-afd3-f5f8c75e689f",
   "metadata": {},
   "source": [
    "Q2. You have built an SVM regression model and are trying to decide between using MSE or R-squared as\n",
    "your evaluation metric. Which metric would be more appropriate if your goal is to predict the actual price\n",
    "of a house as accurately as possible?\n",
    "\n",
    "Q3. You have a dataset with a significant number of outliers and are trying to select an appropriate\n",
    "regression metric to use with your SVM model. Which metric would be the most appropriate in this\n",
    "scenario?\n",
    "\n",
    "Q4. You have built an SVM regression model using a polynomial kernel and are trying to select the best\n",
    "metric to evaluate its performance. You have calculated both MSE and RMSE and found that both values\n",
    "are very close. Which metric should you choose to use in this case?\n",
    "\n",
    "Q5. You are comparing the performance of different SVM regression models using different kernels (linear,\n",
    "polynomial, and RBF) and are trying to select the best evaluation metric. Which metric would be most\n",
    "appropriate if your goal is to measure how well the model explains the variance in the target variable?"
   ]
  },
  {
   "cell_type": "markdown",
   "id": "548bda9e-ce80-44d0-bde8-f2e8081a2ee2",
   "metadata": {},
   "source": [
    "Answer 2...\n",
    "\n",
    "If the goal is to predict the actual price of a house as accurately as possible, MSE (Mean Squared Error) would be the more appropriate evaluation metric. This is because MSE measures the average of the squared differences between the predicted and actual values, giving a higher weight to larger differences. As the actual price of a house is a continuous variable, MSE would give a good indication of how close the predicted values are to the actual values.\n",
    "\n",
    "Answer 3...\n",
    "\n",
    "If the dataset has a significant number of outliers, it may be more appropriate to use a robust regression metric such as MAE (Mean Absolute Error) instead of MSE. This is because MSE is highly sensitive to outliers, as it squares the difference between the predicted and actual values. On the other hand, MAE measures the absolute differences between the predicted and actual values, which reduces the impact of outliers.\n",
    "\n",
    "Answer 4...\n",
    "\n",
    "If both MSE (Mean Squared Error) and RMSE (Root Mean Squared Error) are very close, it may be more appropriate to choose RMSE as the evaluation metric. This is because RMSE takes the square root of MSE, which puts the error metric in the same unit as the target variable. In this case, both metrics are measuring the same thing, but RMSE would give a more intuitive understanding of the error in the model.\n",
    "\n",
    "Answer 5...\n",
    "\n",
    "If the goal is to measure how well the model explains the variance in the target variable, R-squared would be the most appropriate evaluation metric. R-squared measures the proportion of variance in the target variable that is explained by the model. As the different SVM regression models use different kernels, it may be useful to compare their R-squared values to see which kernel performs the best at explaining the variance in the target variable.\n",
    "\n",
    "\n",
    "\n",
    "\n",
    "\n",
    "\n"
   ]
  },
  {
   "cell_type": "code",
   "execution_count": null,
   "id": "147d5d57-b78c-45fb-8dfe-319771df7f55",
   "metadata": {},
   "outputs": [],
   "source": []
  }
 ],
 "metadata": {
  "kernelspec": {
   "display_name": "Python 3 (ipykernel)",
   "language": "python",
   "name": "python3"
  },
  "language_info": {
   "codemirror_mode": {
    "name": "ipython",
    "version": 3
   },
   "file_extension": ".py",
   "mimetype": "text/x-python",
   "name": "python",
   "nbconvert_exporter": "python",
   "pygments_lexer": "ipython3",
   "version": "3.10.8"
  }
 },
 "nbformat": 4,
 "nbformat_minor": 5
}
