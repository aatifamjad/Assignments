{
 "cells": [
  {
   "cell_type": "markdown",
   "id": "4cec3110-5171-4cac-ae27-f1b285c51a79",
   "metadata": {},
   "source": [
    "Q1. Load the \"titanic\" dataset using the load_dataset function of seaborn. Use Plotly express to plot a\n",
    "scatter plot for age and fare columns in the titanic dataset."
   ]
  },
  {
   "cell_type": "code",
   "execution_count": null,
   "id": "1c256a0c-4788-4489-9851-4014e76ec755",
   "metadata": {},
   "outputs": [],
   "source": [
    "import seaborn as sns\n",
    "import plotly.express as px\n",
    "\n",
    "# Load the \"titanic\" dataset\n",
    "titanic_df = sns.load_dataset('titanic')\n",
    "\n",
    "# Plot a scatter plot for age and fare columns in the titanic dataset\n",
    "fig = px.scatter(titanic_df, x='age', y='fare')\n",
    "fig.show()\n"
   ]
  },
  {
   "cell_type": "markdown",
   "id": "34c9b74d-a460-49ca-ab1f-6bf3c10ef094",
   "metadata": {},
   "source": [
    "Q2. Using the tips dataset in the Plotly library, plot a box plot using Plotly express."
   ]
  },
  {
   "cell_type": "markdown",
   "id": "bd0adf03-21c4-4787-b275-da144b077b89",
   "metadata": {},
   "source": [
    "# Answer 2 ....\n",
    "import plotly.express as px\n",
    "\n",
    "# Load the \"tips\" dataset\n",
    "tips_df = px.data.tips()\n",
    "\n",
    "# Plot a box plot using Plotly express\n",
    "fig = px.box(tips_df, x=\"day\", y=\"total_bill\")\n",
    "\n",
    "\n"
   ]
  },
  {
   "cell_type": "markdown",
   "id": "aecae8fc-e48d-4b39-88d9-f4cef49234c2",
   "metadata": {},
   "source": [
    "Q3. Using the tips dataset in the Plotly library, Plot a histogram for x= \"sex\" and y=\"total_bill\" column in\n",
    "the tips dataset. Also, use the \"smoker\" column with the pattern_shape parameter and the \"day\"\n",
    "column with the color parameter."
   ]
  },
  {
   "cell_type": "code",
   "execution_count": null,
   "id": "f95a36f4-a62f-466f-a376-f529c0ea90ed",
   "metadata": {},
   "outputs": [],
   "source": [
    "# Answer 3...\n",
    "\n",
    "import plotly.express as px\n",
    "\n",
    "# Load the \"tips\" dataset\n",
    "tips_df = px.data.tips()\n",
    "\n",
    "# Plot a histogram for x=\"sex\" and y=\"total_bill\" column in the tips dataset,\n",
    "# using the \"smoker\" column with the \"pattern_shape\" parameter and the \"day\" column with the \"color\" parameter\n",
    "fig = px.histogram(tips_df, x=\"sex\", y=\"total_bill\", color=\"day\", pattern_shape=\"smoker\")\n",
    "fig.show()\n"
   ]
  },
  {
   "cell_type": "markdown",
   "id": "db0eedec-367f-42cc-a4a5-a63e1b73fcf6",
   "metadata": {},
   "source": [
    "Q4. Using the iris dataset in the Plotly library, Plot a scatter matrix plot, using the \"species\" column for the color parameters\n",
    "\n",
    "Note: Use \"sepal_length\", \"sepal_width\", \"petal_length\", \"petal_width\" columns only with the\n",
    "dimensions parameter."
   ]
  },
  {
   "cell_type": "code",
   "execution_count": null,
   "id": "4f4552a4-03c0-4c95-b30b-2056b80988e0",
   "metadata": {},
   "outputs": [],
   "source": [
    "# Answer 4...\n",
    "\n",
    "import plotly.express as px\n",
    "\n",
    "# Load the \"iris\" dataset\n",
    "iris_df = px.data.iris()\n",
    "\n",
    "# Plot a scatter matrix plot, using the \"species\" column for the color parameter\n",
    "# and only the \"sepal_length\", \"sepal_width\", \"petal_length\", and \"petal_width\" columns with the \"dimensions\" parameter\n",
    "fig = px.scatter_matrix(iris_df, dimensions=[\"sepal_length\", \"sepal_width\", \"petal_length\", \"petal_width\"],\n",
    "                        color=\"species\")\n",
    "fig.show()\n"
   ]
  },
  {
   "cell_type": "markdown",
   "id": "6e02a1e4-027d-4efd-a7b8-f4b63d63ba78",
   "metadata": {},
   "source": [
    "Q5. What is Distplot? Using Plotly express, plot a distplot."
   ]
  },
  {
   "cell_type": "code",
   "execution_count": null,
   "id": "b850dea4-9987-41b8-ad58-3743b3f66e22",
   "metadata": {},
   "outputs": [],
   "source": [
    "# Answer 5 ....\n",
    "\n",
    "import plotly.express as px\n",
    "\n",
    "# Load the \"tips\" dataset\n",
    "tips_df = px.data.tips()\n",
    "\n",
    "# Plot a distplot for the \"total_bill\" column in the \"tips\" dataset\n",
    "fig = px.histogram(tips_df, x=\"total_bill\", nbins=20, marginal=\"rug\", opacity=0.7)\n",
    "fig.show()\n"
   ]
  },
  {
   "cell_type": "code",
   "execution_count": null,
   "id": "264bc80e-a450-4702-8dc9-c12a8be822cc",
   "metadata": {},
   "outputs": [],
   "source": []
  }
 ],
 "metadata": {
  "kernelspec": {
   "display_name": "Python 3 (ipykernel)",
   "language": "python",
   "name": "python3"
  },
  "language_info": {
   "codemirror_mode": {
    "name": "ipython",
    "version": 3
   },
   "file_extension": ".py",
   "mimetype": "text/x-python",
   "name": "python",
   "nbconvert_exporter": "python",
   "pygments_lexer": "ipython3",
   "version": "3.10.8"
  }
 },
 "nbformat": 4,
 "nbformat_minor": 5
}
