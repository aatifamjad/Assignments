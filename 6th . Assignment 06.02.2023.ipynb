{
 "cells": [
  {
   "cell_type": "markdown",
   "id": "9ad3cafc-f899-43ef-985e-58711f311924",
   "metadata": {},
   "source": [
    "Q1. Create a function which will take a list as an argument and return the product of all the numbers\n",
    "after creating a flat list.\n",
    "Use the below-given list as an argument for your function.\n",
    "list1 = [1,2,3,4, [44,55,66, True], False, (34,56,78,89,34), {1,2,3,3,2,1}, {1:34, \"key2\": [55, 67, 78, 89], 4: (45,\n",
    "22, 61, 34)}, [56, 'data science'], 'Machine Learning']"
   ]
  },
  {
   "cell_type": "code",
   "execution_count": 5,
   "id": "7cfc2ea5-4bf1-46d1-a80f-a5cc39761887",
   "metadata": {},
   "outputs": [],
   "source": [
    "def product_of_numbers(lst):\n",
    "    flat_list = []\n",
    "    for item in lst:\n",
    "        if isinstance(item, dict):\n",
    "            flat_list.extend([val for val in item.values() if isinstance(val, (int, float))])\n",
    "            flat_list.extend([key for key in item.keys() if isinstance(key, (int, float))])\n",
    "        elif isinstance(item, (list, tuple, set)):\n",
    "            for sub_item in item:\n",
    "                if isinstance(sub_item, (list, tuple, set)):\n",
    "                    flat_list.extend(sub_item)\n",
    "                else:\n",
    "                    flat_list.append(sub_item)\n",
    "        else:\n",
    "            flat_list.append(item)\n",
    "    product = 1\n",
    "    for num in flat_list:\n",
    "        if isinstance(num, (int, float)):\n",
    "            product *= num\n",
    "    return product\n"
   ]
  },
  {
   "cell_type": "markdown",
   "id": "f19254d7-04ef-4e0f-8db9-69445c922c0d",
   "metadata": {},
   "source": [
    "Using the given list1 as input:"
   ]
  },
  {
   "cell_type": "code",
   "execution_count": 6,
   "id": "05a85688-8682-4ac7-8fc5-eb8b65221070",
   "metadata": {},
   "outputs": [
    {
     "name": "stdout",
     "output_type": "stream",
     "text": [
      "0\n"
     ]
    }
   ],
   "source": [
    "list1 = [1,2,3,4, [44,55,66, True], False, (34,56,78,89,34), {1,2,3,3,2,1}, {1:34, \"key2\": [55, 67, 78, 89], 4: (45, 22, 61, 34)}, [56, 'data science'], 'Machine Learning']\n",
    "result = product_of_numbers(list1)\n",
    "print(result)\n"
   ]
  },
  {
   "cell_type": "markdown",
   "id": "9bad205f-6968-42a9-bb93-3f9f088fd078",
   "metadata": {},
   "source": [
    "Q2. Write a python program for encrypting a message sent to you by your friend. The logic of encryption\n",
    "should be such that, for a the output should be z. For b, the output should be y. For c, the output should\n",
    "be x respectively. Also, the whitespace should be replaced with a dollar sign. Keep the punctuation\n",
    "marks unchanged.\n",
    "Input Sentence: I want to become a Data Scientist.\n",
    "Encrypt the above input sentence using the program you just created.\n",
    "Note: Convert the given input sentence into lowercase before encrypting. The final output should be\n",
    "lowercase."
   ]
  },
  {
   "cell_type": "code",
   "execution_count": 7,
   "id": "4d12b667-a20e-45fb-bf20-87e61b2bdc7f",
   "metadata": {},
   "outputs": [],
   "source": [
    "def encrypt_message(message):\n",
    "    # convert the message to lowercase\n",
    "    message = message.lower()\n",
    "    # create a dictionary to map letters to their encrypted form\n",
    "    encryption_dict = {'a': 'z', 'b': 'y', 'c': 'x', 'd': 'w', 'e': 'v', 'f': 'u',\n",
    "                       'g': 't', 'h': 's', 'i': 'r', 'j': 'q', 'k': 'p', 'l': 'o',\n",
    "                       'm': 'n', 'n': 'm', 'o': 'l', 'p': 'k', 'q': 'j', 'r': 'i',\n",
    "                       's': 'h', 't': 'g', 'u': 'f', 'v': 'e', 'w': 'd', 'x': 'c',\n",
    "                       'y': 'b', 'z': 'a'}\n",
    "    # encrypt the message\n",
    "    encrypted_message = \"\"\n",
    "    for letter in message:\n",
    "        if letter.isalpha():\n",
    "            encrypted_message += encryption_dict[letter]\n",
    "        elif letter == \" \":\n",
    "            encrypted_message += \"$\"\n",
    "        else:\n",
    "            encrypted_message += letter\n",
    "    return encrypted_message\n"
   ]
  },
  {
   "cell_type": "markdown",
   "id": "dac21a0b-2f7c-4065-8070-c362ecb52b69",
   "metadata": {},
   "source": [
    "To encrypt the given input sentence, we can call the encrypt_message function with the input as an argument:"
   ]
  },
  {
   "cell_type": "code",
   "execution_count": 8,
   "id": "9674bc94-f2b1-46e2-9f80-0fb293e35ebb",
   "metadata": {},
   "outputs": [
    {
     "name": "stdout",
     "output_type": "stream",
     "text": [
      "r$dzmg$gl$yvxlnv$z$wzgz$hxrvmgrhg.\n"
     ]
    }
   ],
   "source": [
    "input_sentence = \"I want to become a Data Scientist.\"\n",
    "encrypted_sentence = encrypt_message(input_sentence)\n",
    "print(encrypted_sentence)\n"
   ]
  },
  {
   "cell_type": "code",
   "execution_count": null,
   "id": "9b6a95b9-89cf-4610-a825-316bf147af66",
   "metadata": {},
   "outputs": [],
   "source": []
  }
 ],
 "metadata": {
  "kernelspec": {
   "display_name": "Python 3 (ipykernel)",
   "language": "python",
   "name": "python3"
  },
  "language_info": {
   "codemirror_mode": {
    "name": "ipython",
    "version": 3
   },
   "file_extension": ".py",
   "mimetype": "text/x-python",
   "name": "python",
   "nbconvert_exporter": "python",
   "pygments_lexer": "ipython3",
   "version": "3.10.8"
  }
 },
 "nbformat": 4,
 "nbformat_minor": 5
}
