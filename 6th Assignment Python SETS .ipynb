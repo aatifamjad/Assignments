{
 "cells": [
  {
   "cell_type": "markdown",
   "id": "17bd11e0-159d-4a71-8152-3e8076831811",
   "metadata": {},
   "source": [
    "Q1. What is a set in Python?\n",
    "\n",
    "Q2.How do you create a set in Python?\n",
    "\n",
    "Q3. How do you add elements to a set in Python?\n",
    "\n",
    "Q4. How do you remove elements from a set in Python?\n",
    "\n",
    "Q5. How do you get the length of a set in Python?"
   ]
  },
  {
   "cell_type": "markdown",
   "id": "acb8def5-5452-419b-9cf5-8b0ad62fa04c",
   "metadata": {},
   "source": [
    "Answer 1...\n",
    "\n",
    "A set in Python is a collection of unique elements, where each element in the set is immutable and unordered. Sets are represented by curly braces {} or the set() constructor."
   ]
  },
  {
   "cell_type": "markdown",
   "id": "72568c67-9af5-40ab-83be-af302670546a",
   "metadata": {},
   "source": [
    "Answer 2...\n",
    "\n",
    "You can create a set in Python by enclosing a comma-separated list of elements in curly braces {}. For example, to create a set of integers, you can do:"
   ]
  },
  {
   "cell_type": "code",
   "execution_count": 1,
   "id": "3f7dd175-ea68-43a7-94f4-8b70793397ca",
   "metadata": {},
   "outputs": [],
   "source": [
    "my_set = {1, 2, 3, 4, 5}\n"
   ]
  },
  {
   "cell_type": "code",
   "execution_count": 2,
   "id": "95f2b1b7-8f78-4ee8-bded-15c0d4578d26",
   "metadata": {},
   "outputs": [],
   "source": [
    "# You can also create a set using the set() constructor and passing a list of elements. For example:\n",
    "\n",
    "\n",
    "my_set = set([1, 2, 3, 4, 5])"
   ]
  },
  {
   "cell_type": "markdown",
   "id": "2bd430df-2ed9-475d-a65b-e6d23c02cac7",
   "metadata": {},
   "source": [
    "Answer 3...\n",
    "\n",
    "You can add elements to a set in Python using the add() method or the update() method. The add() method adds a single element to the set, while the update() method can add multiple elements at once.\n",
    "\n",
    "For example, to add a single element to a set, you can do:"
   ]
  },
  {
   "cell_type": "code",
   "execution_count": 3,
   "id": "91d8e39e-563c-4a88-ac4c-db3fb0182726",
   "metadata": {},
   "outputs": [],
   "source": [
    "my_set = {1, 2, 3}\n",
    "my_set.add(4)\n"
   ]
  },
  {
   "cell_type": "code",
   "execution_count": 4,
   "id": "4555ed05-4fcf-4c3a-a53a-f0e819749473",
   "metadata": {},
   "outputs": [],
   "source": [
    "# To add multiple elements to a set using the update() method, you can do:\n",
    "\n",
    "my_set = {1, 2, 3}\n",
    "my_set.update([4, 5, 6])\n"
   ]
  },
  {
   "cell_type": "markdown",
   "id": "99f05a2c-3341-440d-8602-5644cbb5f864",
   "metadata": {},
   "source": [
    "Answer 4...\n",
    "\n",
    "You can remove elements from a set in Python using the remove() method or the discard() method. The remove() method removes a specific element from the set, while the discard() method removes an element if it is present in the set, but does not raise an error if the element is not present.\n",
    "\n",
    "For example, to remove an element from a set, you can do:"
   ]
  },
  {
   "cell_type": "code",
   "execution_count": 5,
   "id": "efa45ee5-af0a-4ed1-93ce-ba36f6002142",
   "metadata": {},
   "outputs": [],
   "source": [
    "my_set = {1, 2, 3, 4}\n",
    "my_set.remove(3)\n"
   ]
  },
  {
   "cell_type": "code",
   "execution_count": 6,
   "id": "8242c8fc-f341-4edf-ba47-d4461c22c4f6",
   "metadata": {},
   "outputs": [],
   "source": [
    "# To remove an element using the discard() method, you can do:\n",
    "\n",
    "\n",
    "my_set = {1, 2, 3, 4}\n",
    "my_set.discard(3)"
   ]
  },
  {
   "cell_type": "markdown",
   "id": "a46a3a11-a278-4ce8-8459-2eb192da5ed7",
   "metadata": {},
   "source": [
    "Answer 5...\n",
    "\n",
    "You can get the length of a set in Python using the len() function. For example:"
   ]
  },
  {
   "cell_type": "code",
   "execution_count": 7,
   "id": "89d12a63-4d92-4b40-90ec-225abc7e1388",
   "metadata": {},
   "outputs": [
    {
     "name": "stdout",
     "output_type": "stream",
     "text": [
      "5\n"
     ]
    }
   ],
   "source": [
    "my_set = {1, 2, 3, 4, 5}\n",
    "print(len(my_set))  # output: 5\n"
   ]
  },
  {
   "cell_type": "code",
   "execution_count": null,
   "id": "9cf25c53-c694-4a58-90d2-a80389e308d6",
   "metadata": {},
   "outputs": [],
   "source": []
  }
 ],
 "metadata": {
  "kernelspec": {
   "display_name": "Python 3 (ipykernel)",
   "language": "python",
   "name": "python3"
  },
  "language_info": {
   "codemirror_mode": {
    "name": "ipython",
    "version": 3
   },
   "file_extension": ".py",
   "mimetype": "text/x-python",
   "name": "python",
   "nbconvert_exporter": "python",
   "pygments_lexer": "ipython3",
   "version": "3.10.8"
  }
 },
 "nbformat": 4,
 "nbformat_minor": 5
}
