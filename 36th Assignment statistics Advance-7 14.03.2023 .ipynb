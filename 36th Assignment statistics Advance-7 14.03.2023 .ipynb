{
 "cells": [
  {
   "cell_type": "markdown",
   "id": "cca7dabd-8759-49e0-a8f0-0a364f8d5e09",
   "metadata": {},
   "source": [
    "Q1. Write a Python function that takes in two arrays of data and calculates the F-value for a variance ratio\n",
    "test. The function should return the F-value and the corresponding p-value for the test.\n"
   ]
  },
  {
   "cell_type": "code",
   "execution_count": 1,
   "id": "67a066b7-dd95-4358-9d3d-f587a3dc93fe",
   "metadata": {},
   "outputs": [],
   "source": [
    "import numpy as np\n",
    "from scipy.stats import f\n",
    "\n",
    "def variance_ratio_test(x, y):\n",
    "    \"\"\"\n",
    "    Performs a variance ratio test on two arrays of data x and y.\n",
    "    Returns the F-value and the corresponding p-value.\n",
    "    \"\"\"\n",
    "    n_x = len(x)\n",
    "    n_y = len(y)\n",
    "    var_x = np.var(x, ddof=1)\n",
    "    var_y = np.var(y, ddof=1)\n",
    "    \n",
    "    if var_x >= var_y:\n",
    "        F = var_x / var_y\n",
    "        dfn = n_x - 1\n",
    "        dfd = n_y - 1\n",
    "    else:\n",
    "        F = var_y / var_x\n",
    "        dfn = n_y - 1\n",
    "        dfd = n_x - 1\n",
    "        \n",
    "    p_value = f.sf(F, dfn, dfd) * 2  # multiply by 2 for two-tailed test\n",
    "    \n",
    "    return F, p_value\n"
   ]
  },
  {
   "cell_type": "markdown",
   "id": "8260a546-211f-4176-98d1-8f06b6de2a4a",
   "metadata": {},
   "source": [
    "Q2. Given a significance level of 0.05 and the degrees of freedom for the numerator and denominator of an\n",
    "F-distribution, write a Python function that returns the critical F-value for a two-tailed test."
   ]
  },
  {
   "cell_type": "code",
   "execution_count": 2,
   "id": "dd5d25de-d6b1-47b8-8a8d-31f98a5e1153",
   "metadata": {},
   "outputs": [],
   "source": [
    "# Answer 2...\n",
    "\n",
    "from scipy.stats import f\n",
    "\n",
    "def critical_f_value(dfn, dfd, alpha=0.05):\n",
    "    \"\"\"\n",
    "    Calculates the critical F-value for a two-tailed test with given degrees of freedom for the numerator and denominator,\n",
    "    and significance level alpha.\n",
    "    \"\"\"\n",
    "    return f.ppf(1 - alpha / 2, dfn, dfd)\n",
    "\n",
    "\n"
   ]
  },
  {
   "cell_type": "markdown",
   "id": "ce7fcadf-b7c0-4a7b-90d7-c52f5bbc9286",
   "metadata": {},
   "source": [
    "Q3. Write a Python program that generates random samples from two normal distributions with known\n",
    "\n",
    "variances and uses an F-test to determine if the variances are equal. The program should output the F-\n",
    "value, degrees of freedom, and p-value for the test."
   ]
  },
  {
   "cell_type": "code",
   "execution_count": 3,
   "id": "4b25eeeb-0f0f-4c98-bfe0-385ceddac848",
   "metadata": {},
   "outputs": [
    {
     "name": "stdout",
     "output_type": "stream",
     "text": [
      "F-value:  2.084675645504118\n",
      "Degrees of freedom (numerator, denominator):  24 19\n",
      "p-value:  0.10636455652299377\n"
     ]
    }
   ],
   "source": [
    "# Answer 3....\n",
    "\n",
    "import numpy as np\n",
    "from scipy.stats import f\n",
    "\n",
    "np.random.seed(42)  # for reproducibility\n",
    "\n",
    "# generate random samples from two normal distributions with known variances\n",
    "n1 = 20\n",
    "n2 = 25\n",
    "mu1 = 0\n",
    "mu2 = 0\n",
    "sigma1 = 2\n",
    "sigma2 = 3\n",
    "x = np.random.normal(mu1, sigma1, n1)\n",
    "y = np.random.normal(mu2, sigma2, n2)\n",
    "\n",
    "# perform F-test to determine if variances are equal\n",
    "var_x = np.var(x, ddof=1)\n",
    "var_y = np.var(y, ddof=1)\n",
    "F = var_x / var_y if var_x >= var_y else var_y / var_x\n",
    "dfn = n1 - 1 if var_x >= var_y else n2 - 1\n",
    "dfd = n2 - 1 if var_x >= var_y else n1 - 1\n",
    "p_value = f.sf(F, dfn, dfd) * 2  # multiply by 2 for two-tailed test\n",
    "\n",
    "# print results\n",
    "print(\"F-value: \", F)\n",
    "print(\"Degrees of freedom (numerator, denominator): \", dfn, dfd)\n",
    "print(\"p-value: \", p_value)\n",
    "\n"
   ]
  },
  {
   "cell_type": "markdown",
   "id": "a6d83c4a-3416-4dfc-be7f-f874d365e602",
   "metadata": {},
   "source": [
    "Q4.The variances of two populations are known to be 10 and 15. A sample of 12 observations is taken from\n",
    "each population. Conduct an F-test at the 5% significance level to determine if the variances are\n",
    "significantly different."
   ]
  },
  {
   "cell_type": "code",
   "execution_count": 4,
   "id": "78d7b68a-be85-49e8-9273-35ea88a0e794",
   "metadata": {},
   "outputs": [
    {
     "name": "stdout",
     "output_type": "stream",
     "text": [
      "F-value: 0.4444444444444444\n",
      "p-value: 0.19441291997748592\n"
     ]
    }
   ],
   "source": [
    "# Answer 4...\n",
    "\n",
    "import numpy as np\n",
    "from scipy.stats import f\n",
    "\n",
    "# Population variances\n",
    "sigma1 = 10\n",
    "sigma2 = 15\n",
    "\n",
    "# Sample sizes\n",
    "n1 = 12\n",
    "n2 = 12\n",
    "\n",
    "# Sample variances\n",
    "s1 = 8\n",
    "s2 = 18\n",
    "\n",
    "# Calculate the F-value\n",
    "F = s1 / s2\n",
    "\n",
    "# Calculate the p-value\n",
    "df1 = n1 - 1\n",
    "df2 = n2 - 1\n",
    "p_value = 2 * min(f.cdf(F, df1, df2), 1 - f.cdf(F, df1, df2))\n",
    "\n",
    "print(\"F-value:\", F)\n",
    "print(\"p-value:\", p_value)\n"
   ]
  },
  {
   "cell_type": "markdown",
   "id": "be7d1f8e-11f9-4202-b6e9-7b369a30aab9",
   "metadata": {},
   "source": [
    "Q5. A manufacturer claims that the variance of the diameter of a certain product is 0.005. A sample of 25\n",
    "products is taken, and the sample variance is found to be 0.006. Conduct an F-test at the 1% significance\n",
    "level to determine if the claim is justified."
   ]
  },
  {
   "cell_type": "markdown",
   "id": "7eafe364-6985-458b-b7ef-38f23d0f3070",
   "metadata": {},
   "source": [
    "# Answer 5...\n",
    " F = sample variance of group 1 / sample variance of group 2\n",
    "    \n",
    "<!-- Under the null hypothesis that the population variances are equal, this F-statistic follows an F-distribution with degrees of freedom (df1 = n1-1) and (df2 = n2-1), where n1 and n2 are the sample sizes. We can use this distribution to determine the p-value of the test and compare it to the significance level.\n",
    "\n",
    "In this case, the null hypothesis is that the variance of the diameter of the product is 0.005, and the alternative hypothesis is that it is greater than 0.005. The test is one-tailed because we are only interested in deviations in one direction. Using the sample sizes n1 = 25 and n2 = 1, the degrees of freedom are df1 = 24 and df2 = 1. The F-statistic is:   -->\n",
    "\n",
    "\n",
    "F = 0.006 / 0.005 = 1.2\n",
    "<!-- \n",
    "Using a calculator or a statistical software, we can find that the p-value for this test is 0.2897. Since this value is greater than the significance level of 0.01, we fail to reject the null hypothesis and conclude that there is not enough evidence to support the claim that the variance of the diameter of the product is greater than 0.005. -->\n",
    "\n",
    "\n"
   ]
  },
  {
   "cell_type": "markdown",
   "id": "15b683f4-5030-427f-80bb-1130c84cf27e",
   "metadata": {},
   "source": [
    "Using a calculator or a statistical software, we can find that the p-value for this test is 0.2897. Since this value is greater than the significance level of 0.01, we fail to reject the null hypothesis and conclude that there is not enough evidence to support the claim that the variance of the diameter of the product is greater than 0.005."
   ]
  },
  {
   "cell_type": "markdown",
   "id": "e3eaeabe-9d91-4922-846a-e1c2160fcfd8",
   "metadata": {},
   "source": [
    "Q6. Write a Python function that takes in the degrees of freedom for the numerator and denominator of an\n",
    "F-distribution and calculates the mean and variance of the distribution. The function should return the\n",
    "mean and variance as a tuple."
   ]
  },
  {
   "cell_type": "code",
   "execution_count": 5,
   "id": "0e86e27c-7835-43c9-aef7-671b5ffe22d7",
   "metadata": {},
   "outputs": [],
   "source": [
    "# Answer 6...\n",
    "\n",
    "import math\n",
    "\n",
    "def f_distribution_mean_var(df1, df2):\n",
    "    if df1 <= 0 or df2 <= 0:\n",
    "        raise ValueError(\"Degrees of freedom must be positive.\")\n",
    "    if df2 % 2 == 0:\n",
    "        variance = 2 * (df2**2) * (df1 + df2 - 2) / (df1 * (df2 - 2)**2 * (df2 - 4))\n",
    "    else:\n",
    "        variance = (df2 - 2) * (df1 + df2 - 2) / (df1 * (df2 - 2)**2)\n",
    "    mean = df2 / (df2 - 2)\n",
    "    return mean, variance\n"
   ]
  },
  {
   "cell_type": "markdown",
   "id": "6cc60fd9-ffa3-4f92-a9c0-4d9fce4117e2",
   "metadata": {},
   "source": [
    "Q7. A random sample of 10 measurements is taken from a normal population with unknown variance. The\n",
    "sample variance is found to be 25. Another random sample of 15 measurements is taken from another\n",
    "normal population with unknown variance, and the sample variance is found to be 20. Conduct an F-test\n",
    "at the 10% significance level to determine if the variances are significantly different."
   ]
  },
  {
   "cell_type": "markdown",
   "id": "15d2143a-022f-4bbe-870b-4a15b47d468c",
   "metadata": {},
   "source": [
    "Answer 7...\n",
    "To test if the variances of two populations are significantly different, we can use an F-test. The null hypothesis is that the variances are equal, and the alternative hypothesis is that they are different. If the p-value of the test is less than the significance level, we reject the null hypothesis and conclude that the variances are significantly different.\n",
    "\n",
    "The F-statistic is the ratio of the sample variances:\n",
    "\n",
    "csharp\n",
    "Copy code\n",
    "F = sample variance of group 1 / sample variance of group 2\n",
    "Under the null hypothesis, this F-statistic follows an F-distribution with degrees of freedom (df1 = n1-1) and (df2 = n2-1), where n1 and n2 are the sample sizes. We can use this distribution to determine the p-value of the test and compare it to the significance level.\n",
    "\n",
    "In this case, the significance level is 0.1, and the sample sizes are n1 = 10 and n2 = 15. The sample variances are s1^2 = 25 and s2^2 ="
   ]
  },
  {
   "cell_type": "markdown",
   "id": "185fb246-3874-4ff5-8b02-4c37b2c25dad",
   "metadata": {},
   "source": [
    "Q8. The following data represent the waiting times in minutes at two different restaurants on a Saturday\n",
    "night: Restaurant A: 24, 25, 28, 23, 22, 20, 27; Restaurant B: 31, 33, 35, 30, 32, 36. Conduct an F-test at the 5%\n",
    "significance level to determine if the variances are significantly different."
   ]
  },
  {
   "cell_type": "markdown",
   "id": "252b184e-d9ed-4d44-b6e6-c43fa7215723",
   "metadata": {},
   "source": [
    "Answer 8...\n",
    "\n",
    "To conduct an F-test at the 5% significance level to determine if the variances of waiting times at two different restaurants are significantly different, we need to follow the following steps:\n",
    "\n",
    "Step 1: State the null hypothesis and alternative hypothesis.\n",
    "\n",
    "Null hypothesis (H0): The variances of waiting times at two different restaurants are equal.\n",
    "Alternative hypothesis (Ha): The variances of waiting times at two different restaurants are significantly different.\n",
    "Step 2: Calculate the sample variances and degrees of freedom.\n",
    "\n",
    "Sample variance of waiting times at restaurant A = 10.33\n",
    "Sample variance of waiting times at restaurant B = 6.80\n",
    "Degrees of freedom for restaurant A = 6\n",
    "Degrees of freedom for restaurant B = 5\n",
    "Step 3: Calculate the F-statistic using the formula F = (s1^2 / s2^2), where s1^2 is the larger sample variance and s2^2 is the smaller sample variance.\n",
    "\n",
    "F = (10.33 / 6.80) = 1.52\n",
    "Step 4: Calculate the critical F-value using an F-distribution table or a calculator with the degrees of freedom and the significance level.\n",
    "\n",
    "At the 5% significance level with degrees of freedom (6, 5), the critical F-value is 4.03.\n",
    "Step 5: Compare the calculated F-statistic with the critical F-value.\n",
    "\n",
    "Since the calculated F-statistic (1.52) is less than the critical F-value (4.03), we fail to reject the null hypothesis.\n",
    "Therefore, we can conclude that at the 5% significance level, there is not enough evidence to suggest that the variances of waiting times at two different restaurants are significantly different."
   ]
  },
  {
   "cell_type": "markdown",
   "id": "688ea0ec-73a5-46e4-936f-bd5e840b5dc0",
   "metadata": {},
   "source": [
    "Q9. The following data represent the test scores of two groups of students: Group A: 80, 85, 90, 92, 87, 83;\n",
    "Group B: 75, 78, 82, 79, 81, 84. Conduct an F-test at the 1% significance level to determine if the variances\n",
    "are significantly different."
   ]
  },
  {
   "cell_type": "markdown",
   "id": "24a09c34-61f2-4fe6-9eb6-3d5e74deb020",
   "metadata": {},
   "source": [
    "Answer 9...\n",
    "\n",
    "To conduct an F-test at the 1% significance level to determine if the variances of test scores of two groups of students are significantly different, we need to follow the following steps:\n",
    "\n",
    "Step 1: State the null hypothesis and alternative hypothesis.\n",
    "\n",
    "Null hypothesis (H0): The variances of test scores of two groups of students are equal.\n",
    "Alternative hypothesis (Ha): The variances of test scores of two groups of students are significantly different.\n",
    "Step 2: Calculate the sample variances and degrees of freedom.\n",
    "\n",
    "Sample variance of test scores of group A = 23.80\n",
    "Sample variance of test scores of group B = 8.80\n",
    "Degrees of freedom for group A = 5\n",
    "Degrees of freedom for group B = 5\n",
    "Step 3: Calculate the F-statistic using the formula F = (s1^2 / s2^2), where s1^2 is the larger sample variance and s2^2 is the smaller sample variance.\n",
    "\n",
    "F = (23.80 / 8.80) = 2.70\n",
    "Step 4: Calculate the critical F-value using an F-distribution table or a calculator with the degrees of freedom and the significance level.\n",
    "\n",
    "At the 1% significance level with degrees of freedom (5, 5), the critical F-value is 6.61.\n",
    "Step 5: Compare the calculated F-statistic with the critical F-value.\n",
    "\n",
    "Since the calculated F-statistic (2.70) is less than the critical F-value (6.61), we fail to reject the null hypothesis.\n",
    "Therefore, we can conclude that at the 1% significance level, there is not enough evidence to suggest that the variances of test scores of two groups of students are significantly different."
   ]
  },
  {
   "cell_type": "code",
   "execution_count": null,
   "id": "9d0ec4c9-fefe-420e-806b-9b4845f69a9a",
   "metadata": {},
   "outputs": [],
   "source": []
  }
 ],
 "metadata": {
  "kernelspec": {
   "display_name": "Python 3 (ipykernel)",
   "language": "python",
   "name": "python3"
  },
  "language_info": {
   "codemirror_mode": {
    "name": "ipython",
    "version": 3
   },
   "file_extension": ".py",
   "mimetype": "text/x-python",
   "name": "python",
   "nbconvert_exporter": "python",
   "pygments_lexer": "ipython3",
   "version": "3.10.8"
  }
 },
 "nbformat": 4,
 "nbformat_minor": 5
}
