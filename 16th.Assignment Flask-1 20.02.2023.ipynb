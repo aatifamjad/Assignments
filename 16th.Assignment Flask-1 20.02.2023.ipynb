{
 "cells": [
  {
   "cell_type": "markdown",
   "id": "4bbda160-3390-4948-be4a-a0e52ece4980",
   "metadata": {},
   "source": [
    "Q1. What is Flask Framework? What are the advantages of Flask Framework?"
   ]
  },
  {
   "cell_type": "markdown",
   "id": "f68909f5-2ec7-4213-a915-ff0c79fedca4",
   "metadata": {},
   "source": [
    "Answer.\n",
    "\n",
    "\n",
    "Flask is a popular web framework for building web applications in Python. It is a lightweight framework that allows developers to build web applications quickly and easily. Flask was originally released in 2010 and has since grown in popularity due to its simplicity and flexibility.\n",
    "\n",
    "Advantages of Flask Framework:\n",
    "\n",
    "1) Lightweight and easy to use: Flask is a lightweight framework that is easy to learn and use. It has a simple syntax and minimal setup, which makes it an ideal choice for beginners and small projects.\n",
    "\n",
    "2) Flexibility: Flask is a very flexible framework that allows developers to choose the tools and libraries they want to use. It doesn't force developers to use any particular way of doing things, which means they can choose the best approach for their particular use case.\n",
    "\n",
    "3) Extensibility: Flask is easily extensible through the use of plugins and extensions. It has a large and active community that has developed many useful extensions for Flask, such as Flask-RESTful, Flask-SQLAlchemy, and Flask-Login.\n",
    "\n",
    "4) Testability: Flask makes it easy to write and run tests for web applications. It has a built-in test client that allows developers to simulate requests to their application, which makes testing faster and more efficient.\n",
    "\n",
    "5) Scalability: Flask is scalable and can be used to build large-scale web applications. It has a simple and modular structure that makes it easy to add new features and functionality as the application grows.\n",
    "\n"
   ]
  },
  {
   "cell_type": "markdown",
   "id": "413e773c-0d09-4747-bd87-5d76492ea43d",
   "metadata": {},
   "source": [
    "Q2. Create a simple Flask application to display ‘Hello World!!’. Attach the screenshot of the output in\n",
    "Jupyter Notebook."
   ]
  },
  {
   "cell_type": "code",
   "execution_count": null,
   "id": "c4100b49-722d-4a04-9544-93f4b2acf3d3",
   "metadata": {},
   "outputs": [],
   "source": [
    "Answer.\n",
    "\n",
    "from flask import Flask\n",
    "\n",
    "app = Flask(__name__)\n",
    "\n",
    "@app.route('/')\n",
    "def hello():\n",
    "    return 'Hello World!!'\n",
    "\n",
    "if __name__ == '__main__':\n",
    "    app.run()\n"
   ]
  },
  {
   "cell_type": "markdown",
   "id": "30e0a51e-e56f-4d6b-8872-25d4d49dcab2",
   "metadata": {},
   "source": [
    "Q3. What is App routing in Flask? Why do we use app routes?"
   ]
  },
  {
   "cell_type": "markdown",
   "id": "4c34cd9d-fac0-4bfd-935c-faa791c1296e",
   "metadata": {},
   "source": [
    "Answer.\n",
    "\n",
    "In Flask, app routing refers to the process of defining the URL paths or routes that the application will respond to. When a user visits a specific URL, the Flask application will execute a Python function associated with that URL.\n",
    "\n",
    "In other words, app routing in Flask involves mapping URLs to Python functions that generate a response. This is done using the @app.route() decorator, which tells Flask which URL to respond to and which function to execute to generate the response.\n",
    "from flask import Flask\n",
    "\n",
    "app = Flask(__name__)\n",
    "\n",
    "@app.route('/')\n",
    "def index():\n",
    "    return 'This is the home page'\n",
    "\n",
    "if __name__ == '__main__':\n",
    "    app.run()\n",
    "\n"
   ]
  },
  {
   "cell_type": "markdown",
   "id": "73915461-75bc-4772-bea0-d96ea0817e45",
   "metadata": {},
   "source": [
    "Q4. Create a “/welcome” route to display the welcome message “Welcome to ABC Corporation” and a “/”\n",
    "route to show the following details:\n",
    "Company Name: ABC Corporation\n",
    "Location: India\n",
    "Contact Detail: 999-999-9999"
   ]
  },
  {
   "cell_type": "code",
   "execution_count": null,
   "id": "d2b9138c-e17e-4213-afca-06120dd083b5",
   "metadata": {},
   "outputs": [],
   "source": [
    "Answer.\n",
    "\n",
    "from flask import Flask\n",
    "\n",
    "app = Flask(__name__)\n",
    "\n",
    "@app.route('/welcome')\n",
    "def welcome():\n",
    "    return 'Welcome to ABC Corporation'\n",
    "\n",
    "@app.route('/')\n",
    "def details():\n",
    "    return 'Company Name: ABC Corporation<br>Location: India<br>Contact Detail: 999-999-9999'\n",
    "\n",
    "if __name__ == '__main__':\n",
    "    app.run()\n"
   ]
  },
  {
   "cell_type": "markdown",
   "id": "aaf33de9-669f-4693-b5c5-b3ea6cfddc0b",
   "metadata": {},
   "source": [
    "Q5. What function is used in Flask for URL Building? Write a Python code to demonstrate the working of the\n",
    "url_for() function."
   ]
  },
  {
   "cell_type": "markdown",
   "id": "81b6993f-e08d-492c-b8c0-430aab05db78",
   "metadata": {},
   "source": [
    "Answer.\n",
    "\n",
    "In Flask, the url_for() function is used for URL building. This function takes the name of a function as its first argument and returns the URL for that function. The function name can be specified as a string, or it can be passed as a reference to the actual function."
   ]
  },
  {
   "cell_type": "code",
   "execution_count": null,
   "id": "3f759e0e-8389-4e00-996a-c2de8518eb7a",
   "metadata": {},
   "outputs": [],
   "source": [
    "from flask import Flask, url_for\n",
    "\n",
    "app = Flask(__name__)\n",
    "\n",
    "@app.route('/')\n",
    "def index():\n",
    "    return 'This is the home page'\n",
    "\n",
    "@app.route('/user/<username>')\n",
    "def user_profile(username):\n",
    "    return f'This is the profile page for {username}'\n",
    "\n",
    "if __name__ == '__main__':\n",
    "    with app.test_request_context():\n",
    "        print(url_for('index'))\n",
    "        print(url_for('user_profile', username='john'))\n"
   ]
  },
  {
   "cell_type": "code",
   "execution_count": null,
   "id": "b8d0a7ed-4f94-437a-a9dc-9f9f3bc045f2",
   "metadata": {},
   "outputs": [],
   "source": []
  }
 ],
 "metadata": {
  "kernelspec": {
   "display_name": "Python 3 (ipykernel)",
   "language": "python",
   "name": "python3"
  },
  "language_info": {
   "codemirror_mode": {
    "name": "ipython",
    "version": 3
   },
   "file_extension": ".py",
   "mimetype": "text/x-python",
   "name": "python",
   "nbconvert_exporter": "python",
   "pygments_lexer": "ipython3",
   "version": "3.10.8"
  }
 },
 "nbformat": 4,
 "nbformat_minor": 5
}
