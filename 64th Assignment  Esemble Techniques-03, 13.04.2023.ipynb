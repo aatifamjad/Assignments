{
 "cells": [
  {
   "cell_type": "markdown",
   "id": "a12f25f1-5d4e-426b-9643-5a7fd89ede75",
   "metadata": {},
   "source": [
    "Q1. What is Random Forest Regressor?\n",
    "\n",
    "Answer 1...\n",
    "\n",
    "A Random Forest Regressor is a machine learning algorithm used for regression tasks that combines multiple decision trees to produce an ensemble prediction. In this algorithm, each decision tree is built independently, and the final prediction is made by aggregating the predictions of all trees in the forest. The final prediction is based on the majority vote of all the decision trees, making it a robust and accurate model for regression tasks.\n",
    "\n",
    "Q2. How does Random Forest Regressor reduce the risk of overfitting?\n",
    "\n",
    "Answer 2...\n",
    "\n",
    "Random Forest Regressor reduces the risk of overfitting by using a technique called bagging, which stands for bootstrap aggregating. In this technique, a random subset of the training data is selected to build each decision tree in the forest. This process is repeated multiple times, and each tree is trained on a different subset of data. The final prediction is then obtained by aggregating the predictions of all trees in the forest. By using different subsets of data to train each decision tree, the model reduces the risk of overfitting to the training data.\n",
    "\n",
    "Q3. How does Random Forest Regressor aggregate the predictions of multiple decision trees?\n",
    "\n",
    "Answer 3...\n",
    "\n",
    "Random Forest Regressor aggregates the predictions of multiple decision trees by taking the average of all the predictions made by each decision tree. In some cases, a weighted average is used, where the weight is determined by the accuracy of the decision tree. The final prediction is then based on the average of all the predictions made by each decision tree.\n",
    "\n",
    "Q4. What are the hyperparameters of Random Forest Regressor?\n",
    "\n",
    "Answer 4...\n",
    "\n",
    "The hyperparameters of Random Forest Regressor include the number of decision trees in the forest, the maximum depth of each tree, the minimum number of samples required to split an internal node, the minimum number of samples required to be at a leaf node, and the maximum number of features to consider when looking for the best split.\n",
    "\n",
    "Q5. What is the difference between Random Forest Regressor and Decision Tree Regressor?\n",
    "\n",
    "Answer 5...\n",
    "\n",
    "The main difference between Random Forest Regressor and Decision Tree Regressor is that Random Forest Regressor uses an ensemble of decision trees to make predictions, while Decision Tree Regressor uses only one decision tree. Random Forest Regressor is also less prone to overfitting, as it uses bagging to build an ensemble of decision trees from different subsets of the training data.\n",
    "\n",
    "Q6. What are the advantages and disadvantages of Random Forest Regressor?\n",
    "\n",
    "Answer 6...\n",
    "\n",
    "Advantages of Random Forest Regressor include its high accuracy, robustness, and ability to handle both categorical and numerical data. Random Forest Regressor is also less prone to overfitting than Decision Tree Regressor. Disadvantages of Random Forest Regressor include its complexity, which can make it difficult to interpret, and the computational resources required to train the model.\n",
    "\n",
    "Q7. What is the output of Random Forest Regressor?\n",
    "\n",
    "Answer 7...\n",
    "\n",
    "The output of Random Forest Regressor is a continuous numerical value, which represents the predicted output for the given input.\n",
    "\n",
    "Q8. Can Random Forest Regressor be used for classification tasks?\n",
    "\n",
    "Answer 8...\n",
    "\n",
    "Yes, Random Forest Regressor can be used for classification tasks by changing the objective function and using it to predict discrete categorical values instead of continuous numerical values. The resulting algorithm is called Random Forest Classifier."
   ]
  },
  {
   "cell_type": "code",
   "execution_count": null,
   "id": "158c6de8-5b23-45d5-9aa1-6d79278b0196",
   "metadata": {},
   "outputs": [],
   "source": []
  }
 ],
 "metadata": {
  "kernelspec": {
   "display_name": "Python 3 (ipykernel)",
   "language": "python",
   "name": "python3"
  },
  "language_info": {
   "codemirror_mode": {
    "name": "ipython",
    "version": 3
   },
   "file_extension": ".py",
   "mimetype": "text/x-python",
   "name": "python",
   "nbconvert_exporter": "python",
   "pygments_lexer": "ipython3",
   "version": "3.10.8"
  }
 },
 "nbformat": 4,
 "nbformat_minor": 5
}
