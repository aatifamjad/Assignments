{
 "cells": [
  {
   "cell_type": "markdown",
   "id": "2c2040d3-9951-46fb-9e78-f78e9fb262af",
   "metadata": {},
   "source": [
    "Q1. Explain the assumptions required to use ANOVA and provide examples of violations that could impact\n",
    "the validity of the results."
   ]
  },
  {
   "cell_type": "markdown",
   "id": "efb2e15d-20ff-4a44-bb7f-295b7f1504bc",
   "metadata": {},
   "source": [
    "Answer 1..\n",
    "\n",
    "Assumptions for ANOVA and violations:\n",
    "\n",
    "Assumptions for ANOVA include:\n",
    "\n",
    "a) Normality: The residuals of the data should be normally distributed.\n",
    "\n",
    "b) Homogeneity of variance: The variance of the residuals should be equal across groups.\n",
    "\n",
    "c) Independence: The observations should be independent of each other.\n",
    "\n",
    " Violations of these assumptions can impact the validity of the results. For example:\n",
    "\n",
    "a) Normality violation: If the residuals are not normally distributed, it can lead to incorrect conclusions about the statistical significance of the groups.\n",
    "\n",
    "b) Homogeneity of variance violation: If the variances of the residuals are not equal across groups, it can affect the power of the statistical test.\n",
    "\n",
    "c) Independence violation: If the observations are not independent of each other, it can lead to overestimation of the significance of the results."
   ]
  },
  {
   "cell_type": "markdown",
   "id": "4def3266-151a-4dd7-a4d2-9a9571e13d39",
   "metadata": {},
   "source": [
    "Q2. What are the three types of ANOVA, and in what situations would each be used?"
   ]
  },
  {
   "cell_type": "markdown",
   "id": "a5d59a2b-169c-4c8f-b660-b91779edafbc",
   "metadata": {},
   "source": [
    "ANswer..\n",
    "\n",
    "Three types of ANOVA and their usage:\n",
    "\n",
    "a) One-way ANOVA: Used when there is one categorical independent variable and one continuous dependent variable.\n",
    "\n",
    "b) Two-way ANOVA: Used when there are two categorical independent variables and one continuous dependent variable.\n",
    "\n",
    "c) Repeated measures ANOVA: Used when the same participants are measured multiple times."
   ]
  },
  {
   "cell_type": "markdown",
   "id": "de25044b-dd49-4239-9918-2796e7c84dec",
   "metadata": {},
   "source": [
    "Q3. What is the partitioning of variance in ANOVA, and why is it important to understand this concept?"
   ]
  },
  {
   "cell_type": "markdown",
   "id": "a3f623e4-b578-46c3-adcf-5f1876e20c26",
   "metadata": {},
   "source": [
    "Answer 3...\n",
    "\n",
    "Partitioning of variance in ANOVA and its importance:\n",
    "\n",
    "Partitioning of variance in ANOVA refers to the division of the total variation in the dependent variable into different sources of variation, such as between-group variation and within-group variation. It is important to understand this concept because it helps in determining the amount of variation that can be attributed to the independent variables and the amount that is due to chance."
   ]
  },
  {
   "cell_type": "markdown",
   "id": "51e8461e-90cd-4f2b-b10b-f6467276b25f",
   "metadata": {},
   "source": [
    "Q4. How would you calculate the total sum of squares (SST), explained sum of squares (SSE), and residual\n",
    "sum of squares (SSR) in a one-way ANOVA using Python?"
   ]
  },
  {
   "cell_type": "markdown",
   "id": "65170805-83cf-4675-87c4-8e17fd3a6e7b",
   "metadata": {},
   "source": [
    "Answer 4...\n",
    "\n",
    "Calculation of SST, SSE, and SSR in a one-way ANOVA using Python:\n",
    "\n",
    "In Python, SST can be calculated as the sum of the squared deviations of all the observations from the grand mean. SSE can be calculated as the sum of the squared deviations of the group means from the grand mean. SSR can be calculated as the sum of the squared deviations of the individual observations from their respective group means."
   ]
  },
  {
   "cell_type": "markdown",
   "id": "873ee2e2-9a12-41ae-ac32-aa769113ba0a",
   "metadata": {},
   "source": [
    "Q5. In a two-way ANOVA, how would you calculate the main effects and interaction effects using Python?"
   ]
  },
  {
   "cell_type": "markdown",
   "id": "f29e46c6-1d76-4f7f-bc83-980d32ae2080",
   "metadata": {},
   "source": [
    "Answer 5...\n",
    "\n",
    "Calculation of main and interaction effects in a two-way ANOVA using Python:\n",
    "\n",
    "In Python, the main effects can be calculated by comparing the means of the groups within each independent variable. The interaction effect can be calculated by comparing the differences in the means of the groups between the two independent variables."
   ]
  },
  {
   "cell_type": "markdown",
   "id": "3ae828e1-e6e8-4c00-a964-c8799e872d0b",
   "metadata": {},
   "source": [
    "Q6. Suppose you conducted a one-way ANOVA and obtained an F-statistic of 5.23 and a p-value of 0.02.\n",
    "What can you conclude about the differences between the groups, and how would you interpret these\n",
    "results?"
   ]
  },
  {
   "cell_type": "markdown",
   "id": "070f9723-b8a1-4b9a-b762-d2053f626e32",
   "metadata": {},
   "source": [
    "Answer 6..\n",
    "\n",
    "Interpretation of F-statistic and p-value in a one-way ANOVA:\n",
    "\n",
    "A low p-value (less than 0.05) indicates that the differences between the groups are statistically significant. The F-statistic represents the ratio of the variance between the groups to the variance within the groups. In other words, a higher F-statistic means that the differences between the groups are larger compared to the differences within the groups."
   ]
  },
  {
   "cell_type": "markdown",
   "id": "14a0489b-1628-4da6-84b5-d60841b4d669",
   "metadata": {},
   "source": [
    "Q7. In a repeated measures ANOVA, how would you handle missing data, and what are the potential\n",
    "consequences of using different methods to handle missing data?"
   ]
  },
  {
   "cell_type": "markdown",
   "id": "092072f5-c3e5-48e6-8e0f-6d9f56be8910",
   "metadata": {},
   "source": [
    "Answer 7...\n",
    "\n",
    "Handling missing data in repeated measures ANOVA and potential consequences of different methods:\n",
    "\n",
    "Missing data in repeated measures ANOVA can be handled using various methods such as imputation, listwise deletion, or pairwise deletion. The consequences of using different methods can vary from loss of power to biased results."
   ]
  },
  {
   "cell_type": "markdown",
   "id": "78166fc5-3088-4bfb-875c-d0839cf5166c",
   "metadata": {},
   "source": [
    "Q8. What are some common post-hoc tests used after ANOVA, and when would you use each one? Provide\n",
    "an example of a situation where a post-hoc test might be necessary."
   ]
  },
  {
   "cell_type": "markdown",
   "id": "8a65e5dc-119f-406a-be48-98b00ae1ad1c",
   "metadata": {},
   "source": [
    "Answer 8..\n",
    "\n",
    "Common post-hoc tests and their usage:\n",
    "\n",
    "a) Tukey's HSD (Honestly Significant Difference): Used to determine which group means are significantly different from each other.\n",
    "\n",
    "b) Bonferroni correction: Used to control for multiple comparisons when conducting post-hoc tests.\n",
    "\n",
    "c) Dunnett's test: Used to compare the mean of one group with the means of all other groups combined.\n",
    "Post-hoc tests are necessary when a significant difference is found between groups in ANOVA to determine which groups are different from each other."
   ]
  },
  {
   "cell_type": "markdown",
   "id": "b1fb83de-0f79-4052-b2d4-864dded5971b",
   "metadata": {},
   "source": [
    "Q9. A researcher wants to compare the mean weight loss of three diets: A, B, and C. They collect data from\n",
    "50 participants who were randomly assigned to one of the diets. Conduct a one-way ANOVA using Python\n",
    "to determine if there are any significant differences between the mean weight loss of the three diets.\n",
    "Report the F-statistic and p-value, and interpret the results."
   ]
  },
  {
   "cell_type": "code",
   "execution_count": 1,
   "id": "bd927c29-a95c-4016-a6d3-0462c459b363",
   "metadata": {},
   "outputs": [],
   "source": [
    "import pandas as pd\n",
    "import scipy.stats as stats\n",
    "\n",
    "# create\n"
   ]
  },
  {
   "cell_type": "markdown",
   "id": "22f14b4b-0c57-4165-a420-2af7bfab5ae9",
   "metadata": {},
   "source": [
    "Q10. A company wants to know if there are any significant differences in the average time it takes to\n",
    "complete a task using three different software programs: Program A, Program B, and Program C. They\n",
    "randomly assign 30 employees to one of the programs and record the time it takes each employee to\n",
    "complete the task. Conduct a two-way ANOVA using Python to determine if there are any main effects or\n",
    "interaction effects between the software programs and employee experience level (novice vs.\n",
    "experienced). Report the F-statistics and p-values, and interpret the results."
   ]
  },
  {
   "cell_type": "code",
   "execution_count": null,
   "id": "7d0abcf4-4f0b-4c3e-b868-6481f81366c6",
   "metadata": {},
   "outputs": [],
   "source": [
    "# Answer 10...\n",
    "\n",
    "import pandas as pd\n",
    "import statsmodels.api as sm\n",
    "from statsmodels.formula.api import ols\n",
    "\n",
    "# Create a pandas DataFrame with the data\n",
    "data = {'program': ['A']*30 + ['B']*30 + ['C']*30,\n",
    "        'experience': ['novice']*45 + ['experienced']*45,\n",
    "        'time': [10, 11, 13, 12, 9, 8, 14, 16, 15, 11, 13, 12, 14, 16, 15,\n",
    "                 17, 18, 19, 13, 14, 15, 21, 20, 22, 12, 11, 10, 11, 9, 10,\n",
    "                 15, 13, 16, 12, 10, 11, 17, 19, 20, 11, 12, 13, 8, 10, 9,\n",
    "                 12, 14, 15, 19, 21, 20, 13, 14, 16, 14, 15, 16, 17, 19, 20,\n",
    "                 18, 15, 14, 13, 16, 18, 17, 12, 13, 11, 9, 8, 10, 15, 13, 16,\n",
    "                 12, 10, 11, 17, 19, 20, 13, 14, 15, 21, 20, 22, 11, 12, 13,\n",
    "                 8, 10, 9, 12, 14, 15, 19, 21, 20, 13, 14, 16, 14, 15, 16, 17,\n",
    "                 19, 20, 18, 15, 14, 13, 16, 18, 17]}\n",
    "\n",
    "df = pd.DataFrame(data)\n",
    "\n",
    "# Fit the two-way ANOVA model\n",
    "model = ols('time ~ C(program) + C(experience) + C(program):C(experience)', data=df).fit()\n",
    "\n",
    "# Print the ANOVA table\n",
    "print(sm.stats.anova_lm(model, typ=2))\n"
   ]
  },
  {
   "cell_type": "markdown",
   "id": "cd64e03b-f7ce-4705-92b7-8a9393c31a88",
   "metadata": {},
   "source": [
    "The output of the ANOVA table will show the F-statistics and p-values for each main effect and interaction effect. You can interpret the results by checking if the p-values are less than the significance level (usually 0.05). If the p-value is less than the significance level, it means that there is significant evidence to reject the null hypothesis and conclude that there is a difference in means between the groups. If the p-value is greater than the significance level, it means that there is not enough evidence to reject the null hypothesis and conclude that there is no difference in means between the groups."
   ]
  },
  {
   "cell_type": "markdown",
   "id": "be65bbdd-80ea-4b5e-a019-cd8bcde5c1ce",
   "metadata": {},
   "source": [
    "Q11. An educational researcher is interested in whether a new teaching method improves student test\n",
    "scores. They randomly assign 100 students to either the control group (traditional teaching method) or the\n",
    "experimental group (new teaching method) and administer a test at the end of the semester. Conduct a\n",
    "two-sample t-test using Python to determine if there are any significant differences in test scores\n",
    "between the two groups. If the results are significant, follow up with a post-hoc test to determine which\n",
    "group(s) differ significantly from each other."
   ]
  },
  {
   "cell_type": "code",
   "execution_count": 5,
   "id": "f85d4cf9-3b4c-4079-8737-2bc6d5652783",
   "metadata": {},
   "outputs": [
    {
     "name": "stdout",
     "output_type": "stream",
     "text": [
      "t-statistic: -2.0136986301369886\n",
      "p-value: 0.059238299493137296\n"
     ]
    }
   ],
   "source": [
    "# Answer 11...\n",
    "\n",
    "import numpy as np\n",
    "from scipy.stats import ttest_ind\n",
    "\n",
    "# create two arrays of test scores for the control and experimental groups\n",
    "control_scores = np.array([85, 80, 75, 90, 82, 88, 75, 92, 78, 85])\n",
    "experimental_scores = np.array([90, 92, 88, 85, 95, 80, 85, 92, 90, 82])\n",
    "\n",
    "# conduct a two-sample t-test\n",
    "t_stat, p_val = ttest_ind(control_scores, experimental_scores)\n",
    "\n",
    "print('t-statistic:', t_stat)\n",
    "print('p-value:', p_val)\n",
    "\n"
   ]
  },
  {
   "cell_type": "markdown",
   "id": "1e5ae11e-d7ff-4f44-a1c7-37c4107e7693",
   "metadata": {},
   "source": [
    "The ttest_ind function takes two arrays of data as input and returns the t-statistic and p-value for the test. In this case, control_scores represents the scores for the control group and experimental_scores represents the scores for the experimental group.\n",
    "\n",
    "The output will show the t-statistic and p-value. If the p-value is less than the significance level (usually 0.05), we can reject the null hypothesis that there is no difference in test scores between the two groups, and conclude that there is a significant difference.\n",
    "\n",
    "If the results are significant, we can follow up with a post-hoc test to determine which group(s) differ significantly from each other. One commonly used post-hoc test is the Tukey HSD test, which we can perform using the pairwise_tukeyhsd function from the statsmodels module. \n",
    "\n",
    "Here's an example:"
   ]
  },
  {
   "cell_type": "code",
   "execution_count": 6,
   "id": "d23320ce-9596-4043-ba38-5fc5e05c4b6c",
   "metadata": {},
   "outputs": [
    {
     "name": "stdout",
     "output_type": "stream",
     "text": [
      "    Multiple Comparison of Means - Tukey HSD, FWER=0.05    \n",
      "===========================================================\n",
      " group1    group2    meandiff p-adj   lower   upper  reject\n",
      "-----------------------------------------------------------\n",
      "control experimental      4.9 0.0592 -0.2122 10.0122  False\n",
      "-----------------------------------------------------------\n"
     ]
    }
   ],
   "source": [
    "from statsmodels.stats.multicomp import pairwise_tukeyhsd\n",
    "\n",
    "# combine the test scores for both groups into a single array\n",
    "all_scores = np.concatenate([control_scores, experimental_scores])\n",
    "\n",
    "# create an array of group labels\n",
    "group_labels = np.array(['control'] * len(control_scores) + ['experimental'] * len(experimental_scores))\n",
    "\n",
    "# perform Tukey's HSD test\n",
    "tukey_results = pairwise_tukeyhsd(all_scores, group_labels, alpha=0.05)\n",
    "\n",
    "print(tukey_results)\n"
   ]
  },
  {
   "cell_type": "markdown",
   "id": "1f1bc93f-d779-40f0-be9c-0700ea56d6c6",
   "metadata": {},
   "source": [
    "Q12. A researcher wants to know if there are any significant differences in the average daily sales of three\n",
    "retail stores: Store A, Store B, and Store C. They randomly select 30 days and record the sales for each store\n",
    "on those days. Conduct a repeated measures ANOVA using Python to determine if there are any\n",
    "\n",
    "significant differences in sales between the three stores. If the results are significant, follow up with a post-\n",
    "hoc test to determine which store(s) differ significantly from each other."
   ]
  },
  {
   "cell_type": "code",
   "execution_count": null,
   "id": "d78a75ff-daf2-4a4b-8e80-17b887326dd6",
   "metadata": {},
   "outputs": [],
   "source": [
    "# Answer 12..\n",
    "\n",
    "# To conduct a repeated measures ANOVA using Python to determine if there are any significant differences in sales between the three stores, we can use the scipy.stats module. \n",
    "\n",
    "import pandas as pd\n",
    "import numpy as np\n",
    "from scipy.stats import f_oneway, ttest_ind\n",
    "\n",
    "sales_data = pd.read_csv('sales_data.csv')\n",
    "\n",
    "sales_data_pivot = pd.pivot_table(sales_data, values='sales', index='day', columns='store')\n",
    "\n",
    "f_stat, p_val = f_oneway(sales_data_pivot['Store A'], sales_data_pivot['Store B'], sales_data_pivot['Store C'])\n",
    "\n",
    "\n",
    "if p_val < 0.05:\n",
    "    print(\"The results are significant (p = %.3f).\" % p_val)\n",
    "else:\n",
    "    print(\"The results are not significant (p = %.3f).\" % p_val)\n",
    "    \n",
    "   \n",
    "\n"
   ]
  },
  {
   "cell_type": "code",
   "execution_count": null,
   "id": "3a01fdd6-904e-49bf-989b-19f2502d2474",
   "metadata": {},
   "outputs": [],
   "source": []
  }
 ],
 "metadata": {
  "kernelspec": {
   "display_name": "Python 3 (ipykernel)",
   "language": "python",
   "name": "python3"
  },
  "language_info": {
   "codemirror_mode": {
    "name": "ipython",
    "version": 3
   },
   "file_extension": ".py",
   "mimetype": "text/x-python",
   "name": "python",
   "nbconvert_exporter": "python",
   "pygments_lexer": "ipython3",
   "version": "3.10.8"
  }
 },
 "nbformat": 4,
 "nbformat_minor": 5
}
