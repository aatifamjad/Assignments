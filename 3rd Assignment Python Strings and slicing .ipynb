{
 "cells": [
  {
   "cell_type": "markdown",
   "id": "5e78ec96-e089-457d-bfb4-0a0a37891996",
   "metadata": {},
   "source": [
    "Q 1 How can we store a s1ngle quote (‘) as a str1ng 1n a var1able?\n",
    "\n",
    "Q 2 Refer the below var1able:\n",
    "x = ‘a(\n",
    "Here, 1s x a character type or str1ng type var1able? Support your answer w1th an explanat1on.\n",
    "\n",
    "Q 3 Apply the follow1ng funct1ons on th1s var1able: ‘Welcome to Python foun at1on course'\n",
    "SP f1n (0\n",
    ".P count(0\n",
    "?P len(0\n",
    "P Concatenat1on\n",
    "Note: You can use your cho1ce of parametersQ But make sure 1t 1s correct.\n",
    "\n",
    "Q4 For the var1able: wor = ‘PanaJ1@T//56(\n",
    "Calculate the follow1ng:\n",
    "(a) Total number of alphabets 1n lowercase\n",
    "(b) Total number of alphabets 1n uppercase\n",
    "(c) Total number of numer1cal 1n str1ng\n",
    "\n",
    "Q5 Wr1te a co e to store a numer1cal value 1ns1 e a var1able then convert 1t 1nto str1ngQ"
   ]
  },
  {
   "cell_type": "markdown",
   "id": "01a2629f-c9a0-48c3-b70e-c7b020859232",
   "metadata": {},
   "source": [
    "Answer 1...\n",
    "\n",
    "To store a single quote (') as a string in a variable, you can use double quotes (\"'\") to enclose the string, or you can use a backslash to escape the single quote like this: '''.\n",
    "\n",
    "Answer 2...\n",
    "\n",
    "The variable x = 'a(' is a string type variable because it is enclosed in single quotes. In Python, single quotes and double quotes are used interchangeably to create string literals.\n",
    "\n",
    "Answer 3...\n",
    "\n",
    "Here are the results of applying the functions to the string 'Welcome to Python foundation course':\n",
    "\n",
    "a) f1n(0) returns the index of the first occurrence of 'n' in the string, which is 5.\n",
    "\n",
    "b) count(0) returns the number of occurrences of '0' in the string, which is 3.\n",
    "\n",
    "c) len(0) returns the length of the string, which is 32.\n",
    "\n",
    "d)Concatenation: To concatenate two strings, you can use the + operator. For example, to concatenate the string 'Hello' and 'world', you can use 'Hello' + 'world', which will result in 'Helloworld'.\n",
    "\n",
    "Answer 4... \n",
    "\n",
    "For the variable wor = 'PanaJ1@T//56(', the answers are:\n",
    "\n",
    "(a) Total number of alphabets in lowercase: 2\n",
    "\n",
    "(b) Total number of alphabets in uppercase: 3\n",
    "\n",
    "(c) Total number of numericals in string: 3"
   ]
  },
  {
   "cell_type": "markdown",
   "id": "067a6f69-695d-4fcb-bf84-072a0b02efe5",
   "metadata": {},
   "source": [
    "Answer 5...\n",
    "\n",
    "Here is the code to store a numerical value inside a variable and convert it into a string:"
   ]
  },
  {
   "cell_type": "code",
   "execution_count": null,
   "id": "ab53a57b-738b-4b79-8870-efec243c0835",
   "metadata": {},
   "outputs": [],
   "source": [
    "num = 42   # storing numerical value in variable num\n",
    "num_str = str(num)   # converting num to a string and storing it in variable num_str\n"
   ]
  },
  {
   "cell_type": "markdown",
   "id": "0f9d2919-f60a-481d-9abb-f726605937b6",
   "metadata": {},
   "source": [
    "In this code, we first store the numerical value 42 inside the variable num. Then, we use the str() function to convert the numerical value into a string and store it in the variable num_str. Now, num_str will contain the string value \"42\"."
   ]
  },
  {
   "cell_type": "code",
   "execution_count": null,
   "id": "ce0c57dc-6ede-4755-b891-757e3615d4af",
   "metadata": {},
   "outputs": [],
   "source": []
  }
 ],
 "metadata": {
  "kernelspec": {
   "display_name": "Python 3 (ipykernel)",
   "language": "python",
   "name": "python3"
  },
  "language_info": {
   "codemirror_mode": {
    "name": "ipython",
    "version": 3
   },
   "file_extension": ".py",
   "mimetype": "text/x-python",
   "name": "python",
   "nbconvert_exporter": "python",
   "pygments_lexer": "ipython3",
   "version": "3.10.8"
  }
 },
 "nbformat": 4,
 "nbformat_minor": 5
}
