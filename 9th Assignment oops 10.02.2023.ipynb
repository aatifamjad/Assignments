{
 "cells": [
  {
   "cell_type": "markdown",
   "id": "55ec3051-8504-4a0d-9c46-fd964ea9f093",
   "metadata": {},
   "source": [
    "Q1. Which function is used to open a file? What are the different modes of opening a file? Explain each mode\n",
    "of file opening."
   ]
  },
  {
   "cell_type": "markdown",
   "id": "6040e4b6-59e3-4073-8c49-66a00ff5b1cd",
   "metadata": {},
   "source": [
    "The open() function is used to open a file in Python.\n",
    "\n",
    "The different modes of opening a file are:\n",
    "\n",
    "1. r (read mode): This mode opens the file for reading (default mode). If the file does not exist, it raises a FileNotFoundError exception.\n",
    "\n",
    "2. w (write mode): This mode opens the file for writing. If the file already exists, its contents are truncated. If the file does not exist, a new file is created.\n",
    "\n",
    "3. a (append mode): This mode opens the file for appending. If the file already exists, new data is written to the end of the file. If the file does not exist, a new file is created.\n",
    "\n",
    "4. x (exclusive creation mode): This mode opens the file for exclusive creation. If the file already exists, it raises a FileExistsError exception. If the file does not exist, a new file is created.\n",
    "\n",
    "5. b (binary mode): This mode opens the file in binary mode, which is used for non-text files like images and executables. By default, files are opened in text mode.\n",
    "\n",
    "6. t (text mode): This mode opens the file in text mode, which is used for text files. By default, files are opened in text mode.\n",
    "\n",
    "7. '+' (read and write mode): This mode opens the file for both reading and writing."
   ]
  },
  {
   "cell_type": "markdown",
   "id": "cb9b652f-b524-4366-a51a-d0ee1b593b6a",
   "metadata": {},
   "source": [
    "Q2. Why close() function is used? Why is it important to close a file?"
   ]
  },
  {
   "cell_type": "markdown",
   "id": "83fc97c0-5a35-4fe0-aaca-19e94c35da8e",
   "metadata": {},
   "source": [
    "Ans. The close() function is used to close a file after it has been opened in a program. It is important to close a file because it releases the resources associated with the file, such as memory and system file descriptors. Failing to close a file can lead to resource leaks and other issues, such as the file being inaccessible or corrupted if the program terminates unexpectedly. Additionally, on some systems, there is a limit to the number of files that can be open at once, so failing to close files can lead to reaching this limit and preventing other programs from opening new files."
   ]
  },
  {
   "cell_type": "markdown",
   "id": "40f783c3-2f27-429c-a6bc-32f09d244649",
   "metadata": {},
   "source": [
    "Q3. Write a python program to create a text file. Write ‘I want to become a Data Scientist’ in that file. Then\n",
    "close the file. Open this file and read the content of the file."
   ]
  },
  {
   "cell_type": "code",
   "execution_count": 1,
   "id": "6ef79592-cf6c-4a5e-b37b-64b290c1be65",
   "metadata": {},
   "outputs": [
    {
     "name": "stdout",
     "output_type": "stream",
     "text": [
      "I want to become a Data Scientist\n"
     ]
    }
   ],
   "source": [
    "# Create and write to a file\n",
    "with open('data_scientist.txt', 'w') as file:\n",
    "    file.write('I want to become a Data Scientist')\n",
    "\n",
    "# Read from the file\n",
    "with open('data_scientist.txt', 'r') as file:\n",
    "    content = file.read()\n",
    "    print(content)\n"
   ]
  },
  {
   "cell_type": "markdown",
   "id": "43d6bfb1-c47e-4da2-ac04-cc6718d31720",
   "metadata": {},
   "source": [
    "Q4. Explain the following with python code: read(), readline() and readlines()."
   ]
  },
  {
   "cell_type": "markdown",
   "id": "449a18dc-76c1-4579-ba50-62f344f9383a",
   "metadata": {},
   "source": [
    "1.   read(): This method reads the entire content of the file and returns it as a string."
   ]
  },
  {
   "cell_type": "code",
   "execution_count": null,
   "id": "e4a6366e-bec5-4989-aa76-9d8dbd542161",
   "metadata": {},
   "outputs": [],
   "source": [
    "with open('file.txt', 'r') as f:\n",
    "    content = f.read()\n",
    "    print(content)\n"
   ]
  },
  {
   "cell_type": "markdown",
   "id": "cf6f4f4c-b129-46da-9798-99fcce0f5488",
   "metadata": {},
   "source": [
    "2.readline(): This method reads a single line from the file and returns it as a string. Each time this method is called, it reads the next line of the file."
   ]
  },
  {
   "cell_type": "code",
   "execution_count": null,
   "id": "0b6ca718-b09f-4328-ab60-40479ebf5eb4",
   "metadata": {},
   "outputs": [],
   "source": [
    "with open('file.txt', 'r') as f:\n",
    "    line = f.readline()\n",
    "    while line:\n",
    "        print(line)\n",
    "        line = f.readline()\n"
   ]
  },
  {
   "cell_type": "markdown",
   "id": "df78ed7e-23f1-4f05-8b28-87749c16d0b4",
   "metadata": {},
   "source": [
    "3.readlines(): This method reads all the lines of the file and returns them as a list of strings. Each string in the list corresponds to a line in the file."
   ]
  },
  {
   "cell_type": "code",
   "execution_count": null,
   "id": "d0e31d46-8540-4b33-a969-5562c8eb24b8",
   "metadata": {},
   "outputs": [],
   "source": [
    "with open('file.txt', 'r') as f:\n",
    "    lines = f.readlines()\n",
    "    for line in lines:\n",
    "        print(line)\n"
   ]
  },
  {
   "cell_type": "markdown",
   "id": "a6fcb130-d9cb-46dc-b88e-1b6f588f6d12",
   "metadata": {},
   "source": [
    "Q5. Explain why with statement is used with open(). What is the advantage of using with statement and\n",
    "open() together?"
   ]
  },
  {
   "cell_type": "markdown",
   "id": "14044a8e-7b54-4d12-9124-465ad824f663",
   "metadata": {},
   "source": [
    "The with statement is used with open() to ensure that the file is properly closed after its suite finishes, even if an error occurs during the execution of the suite.\n",
    "\n",
    "The advantage of using with statement and open() together is that it provides a clean and efficient way to work with file objects. With this approach, you don't need to explicitly close the file after reading or writing to it. The with statement takes care of closing the file automatically. This can help avoid common issues such as leaving files open, which can cause problems with file locking, resource exhaustion, and other errors. Additionally, using with statement and open() together can help improve the readability of your code by making it more concise and easier to follow."
   ]
  },
  {
   "cell_type": "markdown",
   "id": "d3dd7521-79a7-4d67-bdc3-de9706fbb1f3",
   "metadata": {},
   "source": [
    "Q6. Explain the write() and writelines() functions. Give a suitable example."
   ]
  },
  {
   "cell_type": "markdown",
   "id": "6e5e382b-9931-404a-ab94-0bbc042e6f75",
   "metadata": {},
   "source": [
    "Both write() and writelines() are functions in Python used to write data to a file.\n",
    "\n",
    "The write() function is used to write a string to a file. It takes a string as an argument and writes it to the file."
   ]
  },
  {
   "cell_type": "code",
   "execution_count": null,
   "id": "e4cbbcb4-f18e-42d7-9495-6fbc647c9788",
   "metadata": {},
   "outputs": [],
   "source": [
    "with open('file.txt', 'w') as f:\n",
    "    f.write('Hello World!\\n')\n",
    "    f.write('This is an example of using the write function.\\n')\n"
   ]
  },
  {
   "cell_type": "markdown",
   "id": "13cc1d4b-2fe3-4da0-9a8b-ee682ce3ff84",
   "metadata": {},
   "source": [
    "The writelines() function is used to write a list of strings to a file. It takes a list of strings as an argument and writes each string to the file."
   ]
  },
  {
   "cell_type": "code",
   "execution_count": null,
   "id": "87b86c0b-eaff-48eb-8c1c-eb14fd675b0a",
   "metadata": {},
   "outputs": [],
   "source": [
    "lines = ['Hello World!\\n', 'This is an example of using the writelines function.\\n']\n",
    "with open('file.txt', 'w') as f:\n",
    "    f.writelines(lines)\n"
   ]
  },
  {
   "cell_type": "code",
   "execution_count": null,
   "id": "b23d7a9b-4e45-46c8-b93c-e0fcfbecdc9c",
   "metadata": {},
   "outputs": [],
   "source": []
  }
 ],
 "metadata": {
  "kernelspec": {
   "display_name": "Python 3 (ipykernel)",
   "language": "python",
   "name": "python3"
  },
  "language_info": {
   "codemirror_mode": {
    "name": "ipython",
    "version": 3
   },
   "file_extension": ".py",
   "mimetype": "text/x-python",
   "name": "python",
   "nbconvert_exporter": "python",
   "pygments_lexer": "ipython3",
   "version": "3.10.8"
  }
 },
 "nbformat": 4,
 "nbformat_minor": 5
}
