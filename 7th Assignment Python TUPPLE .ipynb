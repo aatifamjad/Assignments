{
 "cells": [
  {
   "cell_type": "markdown",
   "id": "7964e685-11c7-449c-a8fe-ba30c77bf93c",
   "metadata": {},
   "source": [
    "Q1. What is a tuple in Python?\n",
    "\n",
    "Q2. How do you create a tuple in Python?\n",
    "\n",
    "Q3. What is the difference between a tuple and a list in Python?\n",
    "\n",
    "Q4. Can a tuple be changed in Python?\n",
    "\n",
    "Q5. How do you access elements in a tuple?\n",
    "\n",
    "Q6. How do you unpack a tuple in Python?"
   ]
  },
  {
   "cell_type": "markdown",
   "id": "1c5d82c2-f88f-4f3e-acb1-846339346587",
   "metadata": {},
   "source": [
    "Answer 1...\n",
    "\n",
    "In Python, a tuple is an immutable sequence of values. It is similar to a list, but once a tuple is created, it cannot be modified."
   ]
  },
  {
   "cell_type": "markdown",
   "id": "f0887515-4c55-429b-8abe-3cb377d0f7c9",
   "metadata": {},
   "source": [
    "Answer 2...\n",
    "\n",
    "You can create a tuple in Python by enclosing a comma-separated sequence of values inside a pair of parentheses. For example:"
   ]
  },
  {
   "cell_type": "code",
   "execution_count": 1,
   "id": "fd9d7f5e-dcfd-43c5-8f7f-8658222cfa7c",
   "metadata": {},
   "outputs": [],
   "source": [
    "my_tuple = (1, 2, 3, \"hello\")\n"
   ]
  },
  {
   "cell_type": "markdown",
   "id": "99b1c092-ca1a-4b6c-9629-b3a2c6853535",
   "metadata": {},
   "source": [
    "Answer 3...\n",
    "\n",
    "The main difference between a tuple and a list in Python is that a tuple is immutable, meaning it cannot be changed after it is created, while a list is mutable and can be modified. Additionally, tuples are usually used to group related data that shouldn't be changed, while lists are often used for sequences of values that can be modified."
   ]
  },
  {
   "cell_type": "markdown",
   "id": "f8a802f9-1cbe-4308-b2d4-164036f34e06",
   "metadata": {},
   "source": [
    "Answer 4...\n",
    "\n",
    "No, a tuple cannot be changed in Python. Once a tuple is created, its values cannot be modified or appended. If you need to modify the values in a sequence, you should use a list instead."
   ]
  },
  {
   "cell_type": "markdown",
   "id": "ccfebf35-424f-4d6a-831a-556b7c24d5bb",
   "metadata": {},
   "source": [
    "Answer 5...\n",
    "\n",
    "You can access individual elements in a tuple using indexing. For example, if you have a tuple called my_tuple containing the values (1, 2, 3, \"hello\"), you can access the third element using my_tuple[2], which will return the value 3."
   ]
  },
  {
   "cell_type": "markdown",
   "id": "bc25ff65-6db3-4323-9ed0-d9bfcba15bf3",
   "metadata": {},
   "source": [
    "Answer 6...\n",
    "\n",
    "You can unpack a tuple in Python by assigning its values to separate variables. For example:"
   ]
  },
  {
   "cell_type": "code",
   "execution_count": 2,
   "id": "303e9d2c-c666-48d9-9285-f0b88573f057",
   "metadata": {},
   "outputs": [],
   "source": [
    "my_tuple = (1, 2, 3)\n",
    "a, b, c = my_tuple\n"
   ]
  },
  {
   "cell_type": "markdown",
   "id": "7cc4e57b-b0f7-4692-b182-e2198a1d8277",
   "metadata": {},
   "source": [
    "This will assign the value 1 to the variable a, the value 2 to the variable b, and the value 3 to the variable c."
   ]
  },
  {
   "cell_type": "code",
   "execution_count": null,
   "id": "2c4d396a-7135-4918-b88f-bda1d377492f",
   "metadata": {},
   "outputs": [],
   "source": []
  }
 ],
 "metadata": {
  "kernelspec": {
   "display_name": "Python 3 (ipykernel)",
   "language": "python",
   "name": "python3"
  },
  "language_info": {
   "codemirror_mode": {
    "name": "ipython",
    "version": 3
   },
   "file_extension": ".py",
   "mimetype": "text/x-python",
   "name": "python",
   "nbconvert_exporter": "python",
   "pygments_lexer": "ipython3",
   "version": "3.10.8"
  }
 },
 "nbformat": 4,
 "nbformat_minor": 5
}
