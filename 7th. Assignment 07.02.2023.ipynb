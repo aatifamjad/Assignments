{
 "cells": [
  {
   "cell_type": "markdown",
   "id": "ec2a97e9-7280-4e65-b1c7-70b68960b6f9",
   "metadata": {},
   "source": [
    "Q1. You are writing code for a company. The requirement of the company is that you create a python\n",
    "function that will check whether the password entered by the user is correct or not. The function should\n",
    "take the password as input and return the string “Valid Password” if the entered password follows the\n",
    "below-given password guidelines else it should return “Invalid Password”.\n",
    "Note: 1. The Password should contain at least two uppercase letters and at least two lowercase letters.\n",
    "2. The Password should contain at least a number and three special characters.\n",
    "3. The length of the password should be 10 characters long."
   ]
  },
  {
   "cell_type": "code",
   "execution_count": 1,
   "id": "2ecfb72a-3e3e-4f06-9f17-328dacdb5bf7",
   "metadata": {},
   "outputs": [],
   "source": [
    "import re\n",
    "\n",
    "def check_password(password):\n",
    "    uppercase_count = sum(1 for c in password if c.isupper())\n",
    "    lowercase_count = sum(1 for c in password if c.islower())\n",
    "    digit_count = sum(1 for c in password if c.isdigit())\n",
    "    special_char_count = sum(1 for c in password if not c.isalnum())\n",
    "\n",
    "    if (len(password) == 10 and \n",
    "        uppercase_count >= 2 and \n",
    "        lowercase_count >= 2 and \n",
    "        digit_count >= 1 and \n",
    "        special_char_count >= 3):\n",
    "        return \"Valid Password\"\n",
    "    else:\n",
    "        return \"Invalid Password\"\n",
    "    \n",
    "    \n"
   ]
  },
  {
   "cell_type": "markdown",
   "id": "6f40757c-6556-490c-a01c-1616173fd0a9",
   "metadata": {},
   "source": [
    "The function uses regular expressions to count the number of uppercase letters, lowercase letters, digits, and special characters in the password. It then checks that these counts satisfy the password requirements and returns the appropriate string."
   ]
  },
  {
   "cell_type": "markdown",
   "id": "1e5b2a82-06f6-4fbc-9c2a-5ed32b5bbdd0",
   "metadata": {},
   "source": [
    "Q2. Solve the below-given questions using at least one of the following:\n",
    "1. Lambda functioJ\n",
    "2. Filter functioJ\n",
    "3. Zap functioJ\n",
    "4. List ComprehensioI\n",
    "B Check if the string starts with a particular letterY\n",
    "B Check if the string is numericY\n",
    "B Sort a list of tuples having fruit names and their quantity. [(\"mango\",99),(\"orange\",80), (\"grapes\", 1000)-\n",
    "B Find the squares of numbers from 1 to 10Y\n",
    "B Find the cube root of numbers from 1 to 10Y\n",
    "B Check if a given number is evenY\n",
    "B Filter odd numbers from the given list.\n",
    "[1,2,3,4,5,6,7,8,9,10-\n",
    "B Sort a list of integers into positive and negative integers lists.\n",
    "[1,2,3,4,5,6,-1,-2,-3,-4,-5,0]"
   ]
  },
  {
   "cell_type": "code",
   "execution_count": 2,
   "id": "50c88f6e-f686-40d9-a664-589b40fbf18e",
   "metadata": {},
   "outputs": [
    {
     "name": "stdout",
     "output_type": "stream",
     "text": [
      "True\n"
     ]
    }
   ],
   "source": [
    "#Using lambda function and string method startswith():\n",
    "\n",
    "starts_with = lambda s, l: s.startswith(l)\n",
    "result = starts_with(\"hello world\", \"h\")\n",
    "print(result) \n"
   ]
  },
  {
   "cell_type": "code",
   "execution_count": 3,
   "id": "aa1149e4-1a61-40c5-b89a-d7faaf5c7ce0",
   "metadata": {},
   "outputs": [
    {
     "name": "stdout",
     "output_type": "stream",
     "text": [
      "True\n"
     ]
    }
   ],
   "source": [
    "#Using lambda function and string method isnumeric():\n",
    "\n",
    "is_numeric = lambda s: s.isnumeric()\n",
    "result = is_numeric(\"123\")\n",
    "print(result) \n"
   ]
  },
  {
   "cell_type": "code",
   "execution_count": 6,
   "id": "eb7fbdde-7d0c-40a1-866e-3b84d5321c4f",
   "metadata": {},
   "outputs": [
    {
     "name": "stdout",
     "output_type": "stream",
     "text": [
      "[('orange', 80), ('mango', 99), ('grapes', 1000)]\n"
     ]
    }
   ],
   "source": [
    "#Sort a list of tuples having fruit names and their quantity:\n",
    "# Using lambda function and sorted():\n",
    "\n",
    "fruits = [(\"mango\", 99), (\"orange\", 80), (\"grapes\", 1000)]\n",
    "sorted_fruits = sorted(fruits, key=lambda x: x[1])\n",
    "print(sorted_fruits) \n"
   ]
  },
  {
   "cell_type": "code",
   "execution_count": 7,
   "id": "b33a384e-83a9-440f-a8a1-29dd2ca3c0a2",
   "metadata": {},
   "outputs": [
    {
     "name": "stdout",
     "output_type": "stream",
     "text": [
      "[1, 4, 9, 16, 25, 36, 49, 64, 81, 100]\n"
     ]
    }
   ],
   "source": [
    "#Find the squares of numbers from 1 to 10:\n",
    " #Using list comprehension:\n",
    "\n",
    "squares = [x**2 for x in range(1, 11)]\n",
    "print(squares) \n"
   ]
  },
  {
   "cell_type": "code",
   "execution_count": 9,
   "id": "c0d030f6-79e4-46ee-b782-c8378666af89",
   "metadata": {},
   "outputs": [
    {
     "name": "stdout",
     "output_type": "stream",
     "text": [
      "[1.0, 1.2599210498948732, 1.4422495703074083, 1.5874010519681994, 1.7099759466766968, 1.8171205928321397, 1.912931182772389, 2.0, 2.080083823051904, 2.154434690031884]\n"
     ]
    }
   ],
   "source": [
    "#Find the cube root of numbers from 1 to 10:\n",
    "#Using list comprehension and math module:\n",
    "\n",
    "import math\n",
    "cube_roots = [math.pow(x, 1/3) for x in range(1, 11)]\n",
    "print(cube_roots) \n"
   ]
  },
  {
   "cell_type": "code",
   "execution_count": 11,
   "id": "4026ee3c-6dc4-4276-b940-ce1c18a8c8e6",
   "metadata": {},
   "outputs": [
    {
     "name": "stdout",
     "output_type": "stream",
     "text": [
      "False\n"
     ]
    }
   ],
   "source": [
    "#Check if a given number is even:\n",
    "#Using lambda function and modulo operator:\n",
    "\n",
    "is_even = lambda n: n % 2 == 0\n",
    "result = is_even(5)\n",
    "print(result) \n"
   ]
  },
  {
   "cell_type": "code",
   "execution_count": 12,
   "id": "afda8c5a-110d-4480-aec8-9cff4c7bd03e",
   "metadata": {},
   "outputs": [
    {
     "name": "stdout",
     "output_type": "stream",
     "text": [
      "[1, 3, 5, 7, 9]\n"
     ]
    }
   ],
   "source": [
    "#Filter odd numbers from the given list:\n",
    "#Using filter function and lambda function:\n",
    "\n",
    "numbers = [1, 2, 3, 4, 5, 6, 7, 8, 9, 10]\n",
    "odd_numbers = list(filter(lambda x: x % 2 != 0, numbers))\n",
    "print(odd_numbers) \n"
   ]
  },
  {
   "cell_type": "code",
   "execution_count": 13,
   "id": "63ee72ef-06c6-43d6-97d4-2ccac34d18ba",
   "metadata": {},
   "outputs": [
    {
     "name": "stdout",
     "output_type": "stream",
     "text": [
      "[1, 2, 3, 4, 5, 6]\n",
      "[-1, -2, -3, -4, -5]\n"
     ]
    }
   ],
   "source": [
    "#Sort a list of integers into positive and negative integers lists:\n",
    "#Using list comprehension:\n",
    "\n",
    "numbers = [1, 2, 3, 4, 5, 6, -1, -2, -3, -4, -5, 0]\n",
    "positive_numbers = [x for x in numbers if x > 0]\n",
    "negative_numbers = [x for x in numbers if x < 0]\n",
    "print(positive_numbers) \n",
    "print(negative_numbers) \n"
   ]
  },
  {
   "cell_type": "code",
   "execution_count": null,
   "id": "2fdfc663-be66-4b21-88e4-1c2a54332b7e",
   "metadata": {},
   "outputs": [],
   "source": []
  }
 ],
 "metadata": {
  "kernelspec": {
   "display_name": "Python 3 (ipykernel)",
   "language": "python",
   "name": "python3"
  },
  "language_info": {
   "codemirror_mode": {
    "name": "ipython",
    "version": 3
   },
   "file_extension": ".py",
   "mimetype": "text/x-python",
   "name": "python",
   "nbconvert_exporter": "python",
   "pygments_lexer": "ipython3",
   "version": "3.10.8"
  }
 },
 "nbformat": 4,
 "nbformat_minor": 5
}
