{
 "cells": [
  {
   "cell_type": "markdown",
   "id": "a14fe859-36b1-460b-8a26-7e811dbba73b",
   "metadata": {},
   "source": [
    "1. Accept any city from the user and display monuments of that city."
   ]
  },
  {
   "cell_type": "markdown",
   "id": "268535e4-a567-442c-85db-c86cbbe0a11e",
   "metadata": {},
   "source": [
    "Answer\n",
    "\n",
    "city = input(\"Enter a city: \")\n",
    "\n",
    "if city == \"Delhi\":\n",
    "print(\"Red Fort\")\n",
    "elif city == \"Agra\":\n",
    "print(\"Taj Mahal\")\n",
    "elif city == \"Jaipur\":\n",
    "print(\"Jal Mahal\")\n",
    "else:\n",
    "print(\"Monument information not available for the entered city.\")"
   ]
  },
  {
   "cell_type": "markdown",
   "id": "c90f69ad-adaa-4fea-8d82-f497bc69610e",
   "metadata": {},
   "source": [
    "2. Check how many times a given number can be divided by 3 before it is less than or equal to 10."
   ]
  },
  {
   "cell_type": "markdown",
   "id": "f28b0784-7ff2-4393-91cc-b2d6f5973990",
   "metadata": {},
   "source": [
    "Answer\n",
    "\n",
    "\n",
    "num = int(input(\"Enter a number: \"))\n",
    "count = 0\n",
    "while num > 10:\n",
    "num = num / 3\n",
    "count += 1\n",
    "print(\"The number can be divided by 3\", count, \"times before it is less than or equal to 10.\")"
   ]
  },
  {
   "cell_type": "markdown",
   "id": "322e8ba0-6e4f-49ba-b1ed-d19bd2a71842",
   "metadata": {},
   "source": [
    "3.  Why and When to Use while Loop in Python give a detailed description with example"
   ]
  },
  {
   "cell_type": "markdown",
   "id": "8045ab37-8d50-4376-a4cd-31be9ced0714",
   "metadata": {},
   "source": [
    "Answer\n",
    "\n",
    "A while loop in Python is used to repeatedly execute a block of code as long as a specific condition is met. The loop continues to execute until the condition becomes false. The basic \n",
    "\n",
    "\n",
    "For example, let's say you want to print the numbers from 1 to 10. You can use a while loop for this:"
   ]
  },
  {
   "cell_type": "code",
   "execution_count": 1,
   "id": "c1cf156f-5cfe-4ac7-ae33-33cf9c710831",
   "metadata": {},
   "outputs": [
    {
     "name": "stdout",
     "output_type": "stream",
     "text": [
      "1\n",
      "2\n",
      "3\n",
      "4\n",
      "5\n",
      "6\n",
      "7\n",
      "8\n",
      "9\n",
      "10\n"
     ]
    }
   ],
   "source": [
    "count = 1\n",
    "while count <= 10:\n",
    "    print(count)\n",
    "    count += 1\n"
   ]
  },
  {
   "cell_type": "markdown",
   "id": "263e16c8-f52f-44d4-a22f-ed321c20a2ff",
   "metadata": {},
   "source": [
    "4. Use nested while loop to print 3 different pattern."
   ]
  },
  {
   "cell_type": "code",
   "execution_count": 2,
   "id": "31d7d745-32d2-4c95-a62c-c3845ebef9d4",
   "metadata": {},
   "outputs": [
    {
     "name": "stdout",
     "output_type": "stream",
     "text": [
      "*\n",
      "**\n",
      "***\n",
      "****\n",
      "*****\n"
     ]
    }
   ],
   "source": [
    "#Answer \n",
    "\n",
    "#Triangle pattern:\n",
    "    \n",
    "rows = 5\n",
    "for i in range(1, rows+1):\n",
    "    for j in range(1, i+1):\n",
    "        print(\"*\", end=\"\")\n",
    "    print(\"\")\n",
    "    \n",
    "\n"
   ]
  },
  {
   "cell_type": "code",
   "execution_count": 3,
   "id": "7d60a393-9b16-4382-afc4-5ed246667e25",
   "metadata": {},
   "outputs": [
    {
     "name": "stdout",
     "output_type": "stream",
     "text": [
      "    *\n",
      "   **\n",
      "  ***\n",
      " ****\n",
      "*****\n"
     ]
    }
   ],
   "source": [
    "#pyramid pattern\n",
    "\n",
    "rows = 5\n",
    "for i in range(1, rows+1):\n",
    "    for j in range(rows-i):\n",
    "        print(end=\" \")\n",
    "    for j in range(1, i+1):\n",
    "        print(\"*\", end=\"\")\n",
    "    print(\"\")\n"
   ]
  },
  {
   "cell_type": "code",
   "execution_count": 5,
   "id": "37b05dde-48cd-4994-b191-7acd08271b9a",
   "metadata": {},
   "outputs": [
    {
     "name": "stdout",
     "output_type": "stream",
     "text": [
      "*****\n",
      " ****\n",
      "  ***\n",
      "   **\n",
      "    *\n"
     ]
    }
   ],
   "source": [
    "#Reverse pyramid pattern:\n",
    "\n",
    "rows = 5\n",
    "for i in range(rows, 0, -1):\n",
    "    for j in range(rows-i):\n",
    "        print(end=\" \")\n",
    "    for j in range(i):\n",
    "        print(\"*\", end=\"\")\n",
    "    print(\"\")\n"
   ]
  },
  {
   "cell_type": "markdown",
   "id": "121a9ab1-3422-44b1-bb6d-33745f0f21d9",
   "metadata": {},
   "source": [
    " 5.  Reverse a while loop to display numbers from 10 to 1."
   ]
  },
  {
   "cell_type": "code",
   "execution_count": 6,
   "id": "57129f0b-997a-4117-ba8e-f9997442b02e",
   "metadata": {},
   "outputs": [
    {
     "name": "stdout",
     "output_type": "stream",
     "text": [
      "10\n",
      "9\n",
      "8\n",
      "7\n",
      "6\n",
      "5\n",
      "4\n",
      "3\n",
      "2\n",
      "1\n"
     ]
    }
   ],
   "source": [
    "#Answer\n",
    "\n",
    "num = 10\n",
    "while num >= 1:\n",
    "    print(num)\n",
    "    num -= 1\n"
   ]
  },
  {
   "cell_type": "code",
   "execution_count": null,
   "id": "69fd42ae-1e6d-4029-9c58-db463299473d",
   "metadata": {},
   "outputs": [],
   "source": []
  }
 ],
 "metadata": {
  "kernelspec": {
   "display_name": "Python 3 (ipykernel)",
   "language": "python",
   "name": "python3"
  },
  "language_info": {
   "codemirror_mode": {
    "name": "ipython",
    "version": 3
   },
   "file_extension": ".py",
   "mimetype": "text/x-python",
   "name": "python",
   "nbconvert_exporter": "python",
   "pygments_lexer": "ipython3",
   "version": "3.10.8"
  }
 },
 "nbformat": 4,
 "nbformat_minor": 5
}
