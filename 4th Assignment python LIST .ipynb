{
 "cells": [
  {
   "cell_type": "markdown",
   "id": "e6f2e145-9b28-47af-9cb5-188f31ac594f",
   "metadata": {},
   "source": [
    "Q1. Create an empty list.\n",
    "\n",
    "Q2. Create a list and add an element to the end of this list.\n",
    "\n",
    "Q3. For the above created list print the last element.\n",
    "\n",
    "Q4. Reverse the above created list.\n",
    "\n",
    "Q5. Sort the above created list.\n",
    "\n",
    "Q6. Create a list of your top three favorite movies, then print the second movie title.\n",
    "\n",
    "Q7. Create a list of your favorite animals, then add a new animal to the list and print the updated list.\n",
    "\n",
    "Q8. Create a list of your favorite cities, then use the index() method to find the position of a specific city\n",
    "on the list and print it."
   ]
  },
  {
   "cell_type": "code",
   "execution_count": 1,
   "id": "b64738ea-4e76-4227-b4ef-2c863b923e6a",
   "metadata": {},
   "outputs": [],
   "source": [
    "# Answer 1...\n",
    "\n",
    "# Here's how you can create an empty list in Python:\n",
    "\n",
    "\n",
    "\n",
    "my_list = []"
   ]
  },
  {
   "cell_type": "code",
   "execution_count": 2,
   "id": "922626fd-3102-43f1-beca-db8cd1afc99d",
   "metadata": {},
   "outputs": [],
   "source": [
    "# Answer 2...\n",
    "\n",
    "# Here's how you can create a list and add an element to the end of it:\n",
    "\n",
    "\n",
    "my_list = [1, 2, 3]\n",
    "my_list.append(4)\n",
    "\n",
    "# This will create a list [1, 2, 3, 4] with 4 added to the end."
   ]
  },
  {
   "cell_type": "code",
   "execution_count": 3,
   "id": "a98c5c84-889e-4dcd-8269-efe11002d75f",
   "metadata": {},
   "outputs": [
    {
     "name": "stdout",
     "output_type": "stream",
     "text": [
      "4\n"
     ]
    }
   ],
   "source": [
    "# Answer 3...\n",
    "\n",
    "# Here's how you can print the last element of a list:\n",
    "\n",
    "my_list = [1, 2, 3, 4]\n",
    "print(my_list[-1])\n"
   ]
  },
  {
   "cell_type": "code",
   "execution_count": 5,
   "id": "dddddf17-c8e8-45cc-9602-b209e47cde17",
   "metadata": {},
   "outputs": [
    {
     "name": "stdout",
     "output_type": "stream",
     "text": [
      "[4, 3, 2, 1]\n"
     ]
    }
   ],
   "source": [
    "# Answer 4...\n",
    "\n",
    "# Here's how you can reverse a list:\n",
    "\n",
    "my_list = [1, 2, 3, 4]\n",
    "my_list.reverse()\n",
    "\n",
    "# This will modify the list in-place, and you can print it using:\n",
    "\n",
    "\n",
    "print(my_list)"
   ]
  },
  {
   "cell_type": "code",
   "execution_count": 6,
   "id": "573b159a-df79-4b9d-be88-275f78e7502b",
   "metadata": {},
   "outputs": [
    {
     "name": "stdout",
     "output_type": "stream",
     "text": [
      "[1, 2, 3, 4]\n"
     ]
    }
   ],
   "source": [
    "# Answer 5...\n",
    "\n",
    "# Here's how you can sort a list:\n",
    "\n",
    "\n",
    "my_list = [4, 1, 3, 2]\n",
    "my_list.sort()\n",
    "\n",
    "# This will modify the list in-place, and you can print it using:\n",
    "\n",
    "\n",
    "print(my_list)"
   ]
  },
  {
   "cell_type": "code",
   "execution_count": 7,
   "id": "c51aeecc-0a51-4b5c-8e49-0417ed165b1d",
   "metadata": {},
   "outputs": [
    {
     "name": "stdout",
     "output_type": "stream",
     "text": [
      "The Shawshank Redemption\n"
     ]
    }
   ],
   "source": [
    "# Answer 6...\n",
    "\n",
    "# Here's how you can create a list of your top three favorite movies and print the second movie title:\n",
    "\n",
    "\n",
    "favorite_movies = [\"The Godfather\", \"The Shawshank Redemption\", \"The Dark Knight\"]\n",
    "print(favorite_movies[1])"
   ]
  },
  {
   "cell_type": "code",
   "execution_count": 8,
   "id": "9174b3d6-a318-4892-82af-e2317cecfef3",
   "metadata": {},
   "outputs": [
    {
     "name": "stdout",
     "output_type": "stream",
     "text": [
      "['Dog', 'Cat', 'Penguin', 'Elephant']\n"
     ]
    }
   ],
   "source": [
    "# Answer 7...\n",
    "\n",
    "# Here's how you can create a list of your favorite animals, add a new animal to the list, and print the updated list:\n",
    "\n",
    "\n",
    "favorite_animals = [\"Dog\", \"Cat\", \"Penguin\"]\n",
    "favorite_animals.append(\"Elephant\")\n",
    "print(favorite_animals)"
   ]
  },
  {
   "cell_type": "code",
   "execution_count": 9,
   "id": "f072470e-4476-47cf-a3f6-663d321fef73",
   "metadata": {},
   "outputs": [
    {
     "name": "stdout",
     "output_type": "stream",
     "text": [
      "2\n"
     ]
    }
   ],
   "source": [
    "# Answer 8...\n",
    "\n",
    "# Here's how you can create a list of your favorite cities, use the index() method to find the position of a specific city, and print it:\n",
    "\n",
    "\n",
    "favorite_cities = [\"New York\", \"London\", \"Tokyo\", \"Paris\"]\n",
    "print(favorite_cities.index(\"Tokyo\"))"
   ]
  },
  {
   "cell_type": "markdown",
   "id": "f8d8ae3b-936a-4568-b9a8-a053a787acf0",
   "metadata": {},
   "source": [
    "This will output 2, which is the position of \"Tokyo\" in the list. Note that the index() method raises a ValueError if the value is not found in the list, so you should handle that error if necessary."
   ]
  },
  {
   "cell_type": "code",
   "execution_count": null,
   "id": "08b46a41-5478-4e41-b648-522d13b5eed6",
   "metadata": {},
   "outputs": [],
   "source": []
  }
 ],
 "metadata": {
  "kernelspec": {
   "display_name": "Python 3 (ipykernel)",
   "language": "python",
   "name": "python3"
  },
  "language_info": {
   "codemirror_mode": {
    "name": "ipython",
    "version": 3
   },
   "file_extension": ".py",
   "mimetype": "text/x-python",
   "name": "python",
   "nbconvert_exporter": "python",
   "pygments_lexer": "ipython3",
   "version": "3.10.8"
  }
 },
 "nbformat": 4,
 "nbformat_minor": 5
}
