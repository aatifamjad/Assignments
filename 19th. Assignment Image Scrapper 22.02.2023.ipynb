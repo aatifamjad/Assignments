{
 "cells": [
  {
   "cell_type": "markdown",
   "id": "361f43da-9e02-4712-aa64-6bf29deed808",
   "metadata": {},
   "source": [
    "Q1. Write a python program to extract the video URL of the first five videos."
   ]
  },
  {
   "cell_type": "code",
   "execution_count": null,
   "id": "db0adfab-e969-4c32-b3e9-2ccc7cfacd66",
   "metadata": {},
   "outputs": [],
   "source": [
    "import requests\n",
    "from bs4 import BeautifulSoup\n",
    "\n",
    "url = \"https://www.youtube.com/@PW-Foundation/videos\"\n",
    "response = requests.get(url)\n",
    "soup = BeautifulSoup(response.content, \"html.parser\")\n",
    "\n",
    "video_urls = []\n",
    "for link in soup.find_all(\"a\", {\"class\": \"yt-simple-endpoint style-scope ytd-grid-video-renderer\"}):\n",
    "    video_url = \"https://www.youtube.com\" + link.get(\"href\")\n",
    "    video_urls.append(video_url)\n",
    "\n",
    "print(video_urls[:5])\n"
   ]
  },
  {
   "cell_type": "markdown",
   "id": "8850cd17-ce26-48b3-9fff-bd6c98adcf57",
   "metadata": {},
   "source": [
    "Q2. To extract the URL of the video thumbnails of the first five videos, you can use the following code:"
   ]
  },
  {
   "cell_type": "code",
   "execution_count": null,
   "id": "6f15ef0c-08aa-45fb-b800-a6bac2738410",
   "metadata": {},
   "outputs": [],
   "source": [
    "import requests\n",
    "from bs4 import BeautifulSoup\n",
    "\n",
    "url = \"https://www.youtube.com/@PW-Foundation/videos\"\n",
    "response = requests.get(url)\n",
    "soup = BeautifulSoup(response.content, \"html.parser\")\n",
    "\n",
    "thumbnail_urls = []\n",
    "for img in soup.find_all(\"img\", {\"class\": \"style-scope yt-img-shadow\"}):\n",
    "    thumbnail_url = img.get(\"src\")\n",
    "    thumbnail_urls.append(thumbnail_url)\n",
    "\n",
    "print(thumbnail_urls[:5])\n"
   ]
  },
  {
   "cell_type": "markdown",
   "id": "09f9bbae-8826-4b70-b81a-5645fca7b605",
   "metadata": {},
   "source": [
    "Q3. To extract the title of the first five videos, you can use the following code:"
   ]
  },
  {
   "cell_type": "code",
   "execution_count": null,
   "id": "10301d73-5be2-4470-add9-3c44892f5793",
   "metadata": {},
   "outputs": [],
   "source": [
    "import requests\n",
    "from bs4 import BeautifulSoup\n",
    "\n",
    "url = \"https://www.youtube.com/@PW-Foundation/videos\"\n",
    "response = requests.get(url)\n",
    "soup = BeautifulSoup(response.content, \"html.parser\")\n",
    "\n",
    "titles = []\n",
    "for title in soup.find_all(\"a\", {\"class\": \"yt-simple-endpoint style-scope ytd-grid-video-renderer\"}):\n",
    "    title_text = title.get(\"title\")\n",
    "    titles.append(title_text)\n",
    "\n",
    "print(titles[:5])\n"
   ]
  },
  {
   "cell_type": "markdown",
   "id": "074fdad4-bd50-48c1-b996-8b567a167316",
   "metadata": {},
   "source": [
    "Q4. To extract the number of views of the first five videos, you can use the following code:"
   ]
  },
  {
   "cell_type": "code",
   "execution_count": null,
   "id": "25aeafe9-66db-4abd-a0e3-d2030295d09c",
   "metadata": {},
   "outputs": [],
   "source": [
    "import requests\n",
    "from bs4 import BeautifulSoup\n",
    "\n",
    "url = \"https://www.youtube.com/@PW-Foundation/videos\"\n",
    "response = requests.get(url)\n",
    "soup = BeautifulSoup(response.content, \"html.parser\")\n",
    "\n",
    "views = []\n",
    "for view in soup.find_all(\"span\", {\"class\": \"style-scope ytd-grid-video-renderer\"}):\n",
    "    view_text = view.get_text()\n",
    "    if \"views\" in view_text:\n",
    "        views.append(view_text)\n",
    "\n",
    "print(views[:5])\n"
   ]
  },
  {
   "cell_type": "markdown",
   "id": "d3dcb324-4c7d-45b8-a0b4-765f84893dce",
   "metadata": {},
   "source": [
    "Q5. To extract the time of posting of video for the first five videos, you can use the following code:"
   ]
  },
  {
   "cell_type": "code",
   "execution_count": null,
   "id": "bb692e54-e2c0-4578-b495-cf4fc6911cbb",
   "metadata": {},
   "outputs": [],
   "source": [
    "import requests\n",
    "from bs4 import BeautifulSoup\n",
    "\n",
    "url = \"https://www.youtube.com/@PW-Foundation/videos\"\n",
    "response = requests.get(url)\n",
    "soup = BeautifulSoup(response.content, \"html.parser\")\n",
    "\n",
    "posting_times = []\n",
    "for time in soup.find_all(\"span\", {\"class\": \"style-scope ytd-grid-video-renderer\"}):\n",
    "    time_text = time.get_text()\n",
    "    if \"ago\" in time_text:\n",
    "        posting_times.append(time_text)\n",
    "\n",
    "print(posting_times[:5])\n"
   ]
  },
  {
   "cell_type": "code",
   "execution_count": null,
   "id": "4cdafcb8-1f34-4650-aa1e-f1f964d96df5",
   "metadata": {},
   "outputs": [],
   "source": []
  }
 ],
 "metadata": {
  "kernelspec": {
   "display_name": "Python 3 (ipykernel)",
   "language": "python",
   "name": "python3"
  },
  "language_info": {
   "codemirror_mode": {
    "name": "ipython",
    "version": 3
   },
   "file_extension": ".py",
   "mimetype": "text/x-python",
   "name": "python",
   "nbconvert_exporter": "python",
   "pygments_lexer": "ipython3",
   "version": "3.10.8"
  }
 },
 "nbformat": 4,
 "nbformat_minor": 5
}
