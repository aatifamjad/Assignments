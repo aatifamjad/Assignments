{
 "cells": [
  {
   "cell_type": "markdown",
   "id": "d4a1c5a0-3010-4b0f-ac67-e14b9025ecb4",
   "metadata": {},
   "source": [
    "Q1. List any five functions of the pandas library with execution."
   ]
  },
  {
   "cell_type": "code",
   "execution_count": null,
   "id": "41b27819-b84e-4241-9c4f-4726a4a37b55",
   "metadata": {},
   "outputs": [],
   "source": [
    "# Answer....\n",
    "\n",
    " read_csv(): This function is used to read a CSV file into a Pandas DataFrame.\n",
    "\n",
    "import pandas as pd\n",
    "\n",
    "df = pd.read_csv('filename.csv')\n"
   ]
  },
  {
   "cell_type": "code",
   "execution_count": null,
   "id": "fa671545-ff2d-4aaa-81bf-c7248868b81b",
   "metadata": {},
   "outputs": [],
   "source": [
    "head(): This function is used to display the first n rows of a DataFrame.\n",
    "\n",
    "python\n",
    "Copy code\n",
    "import pandas as pd\n",
    "\n",
    "df = pd.read_csv('filename.csv')\n",
    "print(df.head(10)) # display the first 10 rows"
   ]
  },
  {
   "cell_type": "code",
   "execution_count": null,
   "id": "0cf1c3f8-fda6-4864-85b9-f41f9b71e5c3",
   "metadata": {},
   "outputs": [],
   "source": [
    "groupby(): This function is used to group the data in a DataFrame based on one or more columns.\n",
    "\n",
    "python\n",
    "Copy code\n",
    "import pandas as pd\n",
    "\n",
    "df = pd.read_csv('filename.csv')\n",
    "grouped_data = df.groupby('column_name')"
   ]
  },
  {
   "cell_type": "code",
   "execution_count": null,
   "id": "2dd7444a-072f-4362-a088-0b61e00d5460",
   "metadata": {},
   "outputs": [],
   "source": [
    "merge(): This function is used to merge two DataFrames into a single DataFrame based on a common column.\n",
    "\n",
    "python\n",
    "Copy code\n",
    "import pandas as pd\n",
    "\n",
    "df1 = pd.read_csv('filename1.csv')\n",
    "df2 = pd.read_csv('filename2.csv')\n",
    "merged_data = pd.merge(df1, df2, on='column_name')"
   ]
  },
  {
   "cell_type": "code",
   "execution_count": null,
   "id": "04eacc8e-436d-46db-bc0b-4a749f2fe259",
   "metadata": {},
   "outputs": [],
   "source": [
    "pivot_table(): This function is used to create a pivot table from a DataFrame.\n",
    "\n",
    "python\n",
    "Copy code\n",
    "import pandas as pd\n",
    "\n",
    "df = pd.read_csv('filename.csv')\n",
    "pivot_table = df.pivot_table(index='column_name', values='value_column', aggfunc='mean')"
   ]
  },
  {
   "cell_type": "markdown",
   "id": "d2bd18b2-662a-4c8a-92b6-99e1ddbddf17",
   "metadata": {},
   "source": [
    "Q2. Given a Pandas DataFrame df with columns 'A', 'B', and 'C', write a Python function to re-index the\n",
    "DataFrame with a new index that starts from 1 and increments by 2 for each row."
   ]
  },
  {
   "cell_type": "code",
   "execution_count": null,
   "id": "e2ecc7c7-cac4-4ea9-ac26-c91f16ea210b",
   "metadata": {},
   "outputs": [],
   "source": [
    "# Answer...\n",
    "\n",
    "# Sure, here's a Python function that re-indexes a Pandas DataFrame with a new index that starts from 1 and increments by 2 for each row:\n",
    "\n",
    "python\n",
    "Copy code\n",
    "import pandas as pd\n",
    "\n",
    "def reindex_df(df):\n",
    "    # Create a new index with range starting from 1 and incrementing by 2 for each row\n",
    "    new_index = pd.RangeIndex(start=1, step=2, stop=len(df)*2+1)\n",
    "    # Assign the new index to the DataFrame\n",
    "    df.index = new_index\n",
    "    return df"
   ]
  },
  {
   "cell_type": "code",
   "execution_count": null,
   "id": "9f24b05e-4f2a-493b-a947-01efab7e7a5a",
   "metadata": {},
   "outputs": [],
   "source": [
    "# You can then pass your DataFrame df as an argument to this function to re-index it:\n",
    "\n",
    "python\n",
    "Copy code\n",
    "df = pd.DataFrame({'A': [1, 2, 3], 'B': [4, 5, 6], 'C': [7, 8, 9]})\n",
    "reindexed_df = reindex_df(df)\n",
    "print(reindexed_df)"
   ]
  },
  {
   "cell_type": "markdown",
   "id": "00ffaa36-3069-4fce-96a7-24d851868f60",
   "metadata": {},
   "source": [
    "Q3. You have a Pandas DataFrame df with a column named 'Values'. Write a Python function that\n",
    "iterates over the DataFrame and calculates the sum of the first three values in the 'Values' column. The\n",
    "function should print the sum to the console."
   ]
  },
  {
   "cell_type": "code",
   "execution_count": null,
   "id": "b355821a-098e-46f1-a80f-e9a28fcb3e40",
   "metadata": {},
   "outputs": [],
   "source": [
    "# Answer 3....\n",
    "\n",
    "# Sure, here's a Python function that iterates over a Pandas DataFrame df and calculates the sum of the first three values in the 'Values' column:\n",
    "\n",
    "python\n",
    "Copy code\n",
    "import pandas as pd\n",
    "\n",
    "def calculate_sum(df):\n",
    "    values_sum = 0\n",
    "    # Iterate over the first three rows of the 'Values' column and calculate their sum\n",
    "    for value in df['Values'].iloc[:3]:\n",
    "        values_sum += value\n",
    "    # Print the sum to the console\n",
    "    print(\"Sum of the first three values in the 'Values' column: \", values"
   ]
  },
  {
   "cell_type": "code",
   "execution_count": null,
   "id": "1fe6f2b8-ce5c-4cf7-b2f6-06dcc318d94f",
   "metadata": {},
   "outputs": [],
   "source": [
    "# You can then pass your DataFrame df as an argument to this function to calculate the sum:\n",
    "\n",
    "python\n",
    "Copy code\n",
    "df = pd.DataFrame({'Values': [1, 2, 3, 4, 5]})\n",
    "calculate_sum(df)"
   ]
  },
  {
   "cell_type": "markdown",
   "id": "1c66f38a-e144-4b33-866a-71645cfd1304",
   "metadata": {},
   "source": [
    "Sum of the first three values in the 'Values' column:  6\n"
   ]
  },
  {
   "cell_type": "markdown",
   "id": "cb633bce-462b-4a20-a5f5-4d537bdd7a51",
   "metadata": {},
   "source": [
    "Q4. Given a Pandas DataFrame df with a column 'Text', write a Python function to create a new column\n",
    "'Word_Count' that contains the number of words in each row of the 'Text' column."
   ]
  },
  {
   "cell_type": "code",
   "execution_count": null,
   "id": "0162501c-6ee5-4737-90f3-75b3dace61aa",
   "metadata": {},
   "outputs": [],
   "source": [
    "# Answer 4....\n",
    "\n",
    "# Sure, here's a Python function that creates a new column 'Word_Count' in a Pandas DataFrame df that contains the number of words in each row of the 'Text' column:\n",
    "\n",
    "python\n",
    "Copy code\n",
    "import pandas as pd\n",
    "\n",
    "def count_words(df):\n",
    "    # Split the 'Text' column by whitespace and count the number of resulting words\n",
    "    df['Word_Count'] = df['Text'].apply(lambda x: len(str(x).split()))\n",
    "    return df"
   ]
  },
  {
   "cell_type": "code",
   "execution_count": null,
   "id": "544c0ecb-67b2-4dbb-8f3b-23b12f4dc0d7",
   "metadata": {},
   "outputs": [],
   "source": [
    "# You can then pass your DataFrame df as an argument to this function to create the new 'Word_Count' column:\n",
    "\n",
    "python\n",
    "Copy code\n",
    "df = pd.DataFrame({'Text': ['This is a sentence.', 'Here is another sentence with more words.']})\n",
    "df = count_words(df)\n",
    "print(df)"
   ]
  },
  {
   "cell_type": "markdown",
   "id": "32311e26-fc30-4b12-bbbd-59cf71da6737",
   "metadata": {},
   "source": [
    "                                        Text  Word_Count\n",
    "0                          This is a sentence.           4\n",
    "1  Here is another sentence with more words.           7\n"
   ]
  },
  {
   "cell_type": "markdown",
   "id": "94265604-c56e-48e3-9037-9f41dff2e43b",
   "metadata": {},
   "source": [
    "Q5. How are DataFrame.size() and DataFrame.shape() different?"
   ]
  },
  {
   "cell_type": "markdown",
   "id": "5e6fd172-1e6b-4c87-a465-8c80dff94b68",
   "metadata": {},
   "source": [
    "Answer 5...\n",
    "\n",
    "DataFrame.size() and DataFrame.shape() are both methods of the Pandas DataFrame class, but they have different purposes and return different information.\n",
    "\n",
    "DataFrame.size() returns the total number of elements in a DataFrame. It is equivalent to the number of rows multiplied by the number of columns. This method returns a scalar value.\n",
    "\n",
    "DataFrame.shape() returns a tuple containing the number of rows and columns in a DataFrame. The first element of the tuple is the number of rows and the second element is the number of columns. This method returns a tuple."
   ]
  },
  {
   "cell_type": "code",
   "execution_count": null,
   "id": "ff5d3da4-e57b-4058-a690-e34e8b8ad5da",
   "metadata": {},
   "outputs": [],
   "source": [
    "# For example, consider the following Pandas DataFrame:\n",
    "\n",
    "python\n",
    "Copy code\n",
    "import pandas as pd\n",
    "\n",
    "df = pd.DataFrame({'A': [1, 2, 3], 'B': [4, 5, 6]})"
   ]
  },
  {
   "cell_type": "code",
   "execution_count": null,
   "id": "1398bf52-087f-4136-9a82-7f916847cad1",
   "metadata": {},
   "outputs": [],
   "source": [
    "print(df.size)     \n",
    "print(df.shape)    \n"
   ]
  },
  {
   "cell_type": "markdown",
   "id": "e26cee27-02b5-4177-a721-aeda6b38faa0",
   "metadata": {},
   "source": [
    "6\n",
    "(3,2)"
   ]
  },
  {
   "cell_type": "markdown",
   "id": "2afcd5fa-6886-42b5-af83-4e2a063c40bb",
   "metadata": {},
   "source": [
    "Q6. Which function of pandas do we use to read an excel file?"
   ]
  },
  {
   "cell_type": "markdown",
   "id": "9e82c0a7-9e6a-459b-a041-020cdf158d51",
   "metadata": {},
   "source": [
    "Answer 6...\n",
    "\n",
    "To read an Excel file into a Pandas DataFrame, you can use the read_excel() function provided by the pandas library.\n",
    "\n",
    "The read_excel() function reads the contents of an Excel file and returns a Pandas DataFrame. It provides various parameters to customize the behavior of the reading process, such as specifying the sheet name, header row, data types, and column names.\n",
    "\n",
    "Here is an example of how to use the read_excel() function to read an Excel file named 'data.xlsx' located in the current directory:"
   ]
  },
  {
   "cell_type": "code",
   "execution_count": null,
   "id": "f1450a81-625d-4743-b03b-c40c0eeee0bd",
   "metadata": {},
   "outputs": [],
   "source": [
    "import pandas as pd\n",
    "\n",
    "df = pd.read_excel('data.xlsx')\n"
   ]
  },
  {
   "cell_type": "code",
   "execution_count": null,
   "id": "9f760924-70e5-46a9-b0a2-8c0ad0162ebe",
   "metadata": {},
   "outputs": [],
   "source": [
    " # To read the second sheet and skip the first row, you can use the following code:\n",
    "    \n",
    "    df = pd.read_excel('data.xlsx', sheet_name=1, header=1)\n"
   ]
  },
  {
   "cell_type": "markdown",
   "id": "26c2311c-381b-468f-afe3-504fcf8abbe0",
   "metadata": {},
   "source": [
    "Q7. You have a Pandas DataFrame df that contains a column named 'Email' that contains email\n",
    "addresses in the format 'username@domain.com'. Write a Python function that creates a new column\n",
    "'Username' in df that contains only the username part of each email address."
   ]
  },
  {
   "cell_type": "markdown",
   "id": "81531d50-38ba-48f2-909d-d609b5ace20d",
   "metadata": {},
   "source": [
    "Answer 7...\n",
    "\n",
    "To extract the username part from email addresses in the 'Email' column of a Pandas DataFrame and create a new 'Username' column with the extracted values, you can use the str accessor with the split() method and string indexing. Here is an example Python function that achieves this:"
   ]
  },
  {
   "cell_type": "code",
   "execution_count": null,
   "id": "7a4df864-b960-4980-be77-6b030f916c7d",
   "metadata": {},
   "outputs": [],
   "source": [
    "import pandas as pd\n",
    "\n",
    "def extract_username(df):\n",
    "    # Extract the username from the 'Email' column using the 'str' accessor and 'split()' method\n",
    "    usernames = df['Email'].str.split('@').str[0]\n",
    "    \n",
    "    # Add the 'Username' column to the DataFrame with the extracted usernames\n",
    "    df['Username'] = usernames\n",
    "    \n",
    "    return df\n"
   ]
  },
  {
   "cell_type": "code",
   "execution_count": null,
   "id": "097b6150-46c6-4e1f-87c6-8ff8d548dddf",
   "metadata": {},
   "outputs": [],
   "source": [
    "# Here is an example usage of the function:\n",
    "\n",
    "python\n",
    "Copy code\n",
    "# Create a sample DataFrame\n",
    "df = pd.DataFrame({'Email': ['jdoe@example.com', 'jsmith@example.com']})\n",
    "\n",
    "# Call the extract_username() function to extract the usernames from the email addresses\n",
    "df_with_usernames = extract_username(df)\n",
    "\n",
    "# Print the resulting DataFrame\n",
    "print(df_with_usernames)"
   ]
  },
  {
   "cell_type": "markdown",
   "id": "00764773-56f5-47ff-8763-d01e9c6cd1a8",
   "metadata": {},
   "source": [
    "              \n",
    "0  jdoe@example.com     jdoe\n",
    "1  jsmith@example.com   jsmith\n"
   ]
  },
  {
   "cell_type": "markdown",
   "id": "7e8427a2-df6e-4b43-a1ad-b2e086f206ee",
   "metadata": {},
   "source": [
    "Q8. You have a Pandas DataFrame df with columns 'A', 'B', and 'C'. Write a Python function that selects\n",
    "all rows where the value in column 'A' is greater than 5 and the value in column 'B' is less than 10. The\n",
    "function should return a new DataFrame that contains only the selected rows.\n",
    "For example, if df contains the following values:\n",
    "A B C\n",
    "0 3 5 1\n",
    "1 8 2 7\n",
    "2 6 9 4\n",
    "3 2 3 5\n",
    "4 9 1 2"
   ]
  },
  {
   "cell_type": "markdown",
   "id": "ad4533d6-050c-4c1f-8023-c2ae688bc5df",
   "metadata": {},
   "source": [
    "Answer 8...\n",
    "\n",
    "You can use boolean indexing to filter the rows that meet the criteria of column A being greater than 5 and column B being less than 10. Here's an example Python function that should achieve this:"
   ]
  },
  {
   "cell_type": "code",
   "execution_count": 6,
   "id": "b6c615fc-1461-4972-a8b2-ad7d5fb2993c",
   "metadata": {},
   "outputs": [],
   "source": [
    "import pandas as pd\n",
    "\n",
    "def select_rows(df):\n",
    "    selected_rows = df[(df['A'] > 5) & (df['B'] < 10)]\n",
    "    return selected_rows\n"
   ]
  },
  {
   "cell_type": "code",
   "execution_count": null,
   "id": "7cc93701-9fb5-48a6-b675-ed012519b0e1",
   "metadata": {},
   "outputs": [],
   "source": [
    "new_df = select_rows(df)\n"
   ]
  },
  {
   "cell_type": "code",
   "execution_count": null,
   "id": "0acb380f-4cd6-440e-ac17-771ddc24d411",
   "metadata": {},
   "outputs": [],
   "source": []
  }
 ],
 "metadata": {
  "kernelspec": {
   "display_name": "Python 3 (ipykernel)",
   "language": "python",
   "name": "python3"
  },
  "language_info": {
   "codemirror_mode": {
    "name": "ipython",
    "version": 3
   },
   "file_extension": ".py",
   "mimetype": "text/x-python",
   "name": "python",
   "nbconvert_exporter": "python",
   "pygments_lexer": "ipython3",
   "version": "3.10.8"
  }
 },
 "nbformat": 4,
 "nbformat_minor": 5
}
