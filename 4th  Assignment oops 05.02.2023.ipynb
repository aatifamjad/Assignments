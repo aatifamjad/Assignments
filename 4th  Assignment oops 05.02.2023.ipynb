{
 "cells": [
  {
   "cell_type": "markdown",
   "id": "f29f0198-c753-4d21-8717-74a93117d0b8",
   "metadata": {},
   "source": [
    "OOPS Assignment 05.02.2022"
   ]
  },
  {
   "cell_type": "markdown",
   "id": "dfa194db-9c69-4b0e-af4f-521859650702",
   "metadata": {},
   "source": [
    "Q1. Explain Class and Object with respect to Object-Oriented Programming. Give a suitable example."
   ]
  },
  {
   "cell_type": "markdown",
   "id": "7847fe40-7dc0-46eb-98c7-55d0fd25d82b",
   "metadata": {},
   "source": [
    "Class defines the properties and behaviors of objects of a certain type.  "
   ]
  },
  {
   "cell_type": "markdown",
   "id": "16b68876-5aed-4005-8cd5-d85b98c1201e",
   "metadata": {},
   "source": [
    "For example, a car object could have the values: model=\"Vitara Brezza\", make=\"Maruti\", year=2020, color=\"Blue\".\n",
    "\n",
    "\n",
    "\n"
   ]
  },
  {
   "cell_type": "markdown",
   "id": "04cfdb0f-402f-4ab7-b9f1-1c1f66753d12",
   "metadata": {},
   "source": [
    "Q2. Name the four pillars of OOPs."
   ]
  },
  {
   "cell_type": "markdown",
   "id": "af2d6e87-2d17-4785-9e0d-0ce9a22b14d6",
   "metadata": {},
   "source": [
    "The four pillars are Inheritance, Polymorphism, Encapsulation and Abstraction"
   ]
  },
  {
   "cell_type": "markdown",
   "id": "c85cee25-cf46-46c0-8980-c83c11090bab",
   "metadata": {},
   "source": [
    "Q3. Explain why the __init__() function is used. Give a suitable example."
   ]
  },
  {
   "cell_type": "markdown",
   "id": "4ca2ffe8-79e9-42a0-acad-c78bd9fb56fc",
   "metadata": {},
   "source": [
    "The __init__ method lets the class initialize the object's attributes and serves no other purpose. It is only used within classes."
   ]
  },
  {
   "cell_type": "markdown",
   "id": "11decd71-fde9-458f-bd97-3f70319c48ae",
   "metadata": {},
   "source": [
    "Example:\n",
    "Consider a class \"Person\". A person object can have attributes like name, age, gender, etc. The __init__() function can be used to initialize these attributes when a person object is created."
   ]
  },
  {
   "cell_type": "code",
   "execution_count": 2,
   "id": "0a9543bc-17fe-473a-b8bd-7820fcfe4b48",
   "metadata": {},
   "outputs": [
    {
     "name": "stdout",
     "output_type": "stream",
     "text": [
      "Aatif\n",
      "28\n",
      "Male\n"
     ]
    }
   ],
   "source": [
    "class Person:\n",
    "    def __init__(self, name, age, gender):\n",
    "        self.name = name\n",
    "        self.age = age\n",
    "        self.gender = gender\n",
    "\n",
    "p1 = Person(\"Aatif\", 28, \"Male\")\n",
    "print(p1.name)\n",
    "print(p1.age)\n",
    "print(p1.gender)\n",
    "\n",
    "\n"
   ]
  },
  {
   "cell_type": "markdown",
   "id": "ea7b43e6-c09e-40a2-9583-831ced51dd62",
   "metadata": {},
   "source": [
    "Q4. Why self is used in OOPs?"
   ]
  },
  {
   "cell_type": "markdown",
   "id": "78f3820a-1478-42cb-aafc-e26aef5b1bbe",
   "metadata": {},
   "source": [
    "The self keyword is used to represent an instance (object) of the given class. In this case, the two Cat objects cat1 and cat2 have their own name and age ..."
   ]
  },
  {
   "cell_type": "markdown",
   "id": "9687ab86-e489-4304-83c3-695d14cf1c51",
   "metadata": {},
   "source": [
    "Q5. What is inheritance? Give an example for each type of inheritance."
   ]
  },
  {
   "cell_type": "markdown",
   "id": "424b621c-4a1d-4e51-bb77-3d16e1e49f79",
   "metadata": {},
   "source": [
    "Inheritance is a mechanism in Object-Oriented Programming (OOP) that allows a new class to be derived from an existing class. The new class is called a derived class or a subclass, and the existing class is called the base class or a superclass. The derived class inherits the properties and behaviors of the base class and can also have additional properties and behaviors of its own.\n",
    "\n",
    "There are different types of inheritance, which include:\n",
    "\n",
    "1. Single inheritance: When a class is derived from only one base class, it is called single inheritance.\n",
    "\n",
    "2. Multi-level inheritance: When a class is derived from a derived class, it is called multi-level inheritance.\n",
    "\n",
    "3. Multiple inheritance: When a class is derived from multiple base classes, it is called multiple inheritance."
   ]
  },
  {
   "cell_type": "code",
   "execution_count": null,
   "id": "2d32c4ff-1c11-4908-b3f2-6118e4747a52",
   "metadata": {},
   "outputs": [],
   "source": []
  }
 ],
 "metadata": {
  "kernelspec": {
   "display_name": "Python 3 (ipykernel)",
   "language": "python",
   "name": "python3"
  },
  "language_info": {
   "codemirror_mode": {
    "name": "ipython",
    "version": 3
   },
   "file_extension": ".py",
   "mimetype": "text/x-python",
   "name": "python",
   "nbconvert_exporter": "python",
   "pygments_lexer": "ipython3",
   "version": "3.10.8"
  }
 },
 "nbformat": 4,
 "nbformat_minor": 5
}
