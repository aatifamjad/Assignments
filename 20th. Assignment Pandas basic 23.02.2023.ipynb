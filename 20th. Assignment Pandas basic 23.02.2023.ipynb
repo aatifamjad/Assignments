{
 "cells": [
  {
   "cell_type": "markdown",
   "id": "a67ea9cc-a248-4d92-adac-d5ff7b123b30",
   "metadata": {},
   "source": [
    "Q1. Create a Pandas Series that contains the following data: 4, 8, 15, 16, 23, and 42. Then, print the series."
   ]
  },
  {
   "cell_type": "code",
   "execution_count": 1,
   "id": "6cb40a2a-496e-413a-bbe9-9df5c3bdc7c2",
   "metadata": {},
   "outputs": [
    {
     "name": "stdout",
     "output_type": "stream",
     "text": [
      "0     4\n",
      "1     8\n",
      "2    15\n",
      "3    16\n",
      "4    23\n",
      "5    42\n",
      "dtype: int64\n"
     ]
    }
   ],
   "source": [
    "import pandas as pd\n",
    "\n",
    "data = [4, 8, 15, 16, 23, 42]\n",
    "series = pd.Series(data)\n",
    "\n",
    "print(series)\n"
   ]
  },
  {
   "cell_type": "markdown",
   "id": "3fb1c18e-6f09-4e8b-9ac5-74e09f7eed9f",
   "metadata": {},
   "source": [
    "Q2. Create a variable of list type containing 10 elements in it, and apply pandas.Series function on the\n",
    "variable print it."
   ]
  },
  {
   "cell_type": "code",
   "execution_count": 2,
   "id": "f9a846bf-f3ff-40d1-8aef-dd3892331ce7",
   "metadata": {},
   "outputs": [
    {
     "name": "stdout",
     "output_type": "stream",
     "text": [
      "0     1\n",
      "1     2\n",
      "2     3\n",
      "3     4\n",
      "4     5\n",
      "5     6\n",
      "6     7\n",
      "7     8\n",
      "8     9\n",
      "9    10\n",
      "dtype: int64\n"
     ]
    }
   ],
   "source": [
    "# Answer..\n",
    "\n",
    "import pandas as pd\n",
    "\n",
    "my_list = [1, 2, 3, 4, 5, 6, 7, 8, 9, 10]\n",
    "\n",
    "my_series = pd.Series(my_list)\n",
    "\n",
    "print(my_series)\n"
   ]
  },
  {
   "cell_type": "markdown",
   "id": "c03eed49-282f-432b-b359-7b7e56f9e6e2",
   "metadata": {},
   "source": [
    "Q3. Create a Pandas DataFrame that contains the following data:\n",
    "    Name\n",
    "Alice\n",
    "Bob\n",
    "Claire\n",
    "\n",
    "Age\n",
    "25\n",
    "30\n",
    "27\n",
    "\n",
    "Gender\n",
    "Female\n",
    "Male\n",
    "Female\n",
    "\n",
    "Then, print the DataFrame."
   ]
  },
  {
   "cell_type": "code",
   "execution_count": 4,
   "id": "e37bb9a5-766d-42dd-86b0-aaa9c3ccf805",
   "metadata": {},
   "outputs": [
    {
     "name": "stdout",
     "output_type": "stream",
     "text": [
      "     Name  Age  Gender\n",
      "0   Alice   25  Female\n",
      "1     Bob   30    Male\n",
      "2  Claire   27  Female\n"
     ]
    }
   ],
   "source": [
    "# Answer 3....\n",
    "\n",
    "\n",
    "import pandas as pd\n",
    "\n",
    "data = {'Name': ['Alice', 'Bob', 'Claire'], \n",
    "        'Age': [25, 30, 27], \n",
    "        'Gender': ['Female', 'Male', 'Female']}\n",
    "\n",
    "df = pd.DataFrame(data)\n",
    "\n",
    "print(df)\n"
   ]
  },
  {
   "cell_type": "markdown",
   "id": "1370589b-3634-4f38-8e45-839abfa51e65",
   "metadata": {},
   "source": [
    "Q4. What is ‘DataFrame’ in pandas and how is it different from pandas.series? Explain with an example."
   ]
  },
  {
   "cell_type": "markdown",
   "id": "fdb63acd-cb8e-4876-b52b-47f5da8c4ee4",
   "metadata": {},
   "source": [
    "Answer 4.....\n",
    "\n",
    "In pandas, a DataFrame is a 2-dimensional labeled data structure with columns of potentially different types. It is similar to a spreadsheet or SQL table, where data is organized in rows and columns. A Pandas DataFrame can be thought of as a collection of Pandas Series, where each column is a Pandas Series.\n",
    "\n",
    "A Pandas Series is a one-dimensional labeled array that can hold any data type. It is similar to a column in a spreadsheet or a single column of data in an SQL table. In other words, a Series is a single column of data in a DataFrame.\n",
    "\n",
    "Here's an example to illustrate the difference between a Pandas DataFrame and a Pandas Series:"
   ]
  },
  {
   "cell_type": "code",
   "execution_count": 5,
   "id": "a3af6e0d-5fe3-42aa-ad8a-bb656657ef26",
   "metadata": {},
   "outputs": [
    {
     "name": "stdout",
     "output_type": "stream",
     "text": [
      "My Series:\n",
      "0    1\n",
      "1    2\n",
      "2    3\n",
      "3    4\n",
      "4    5\n",
      "dtype: int64\n",
      "\n",
      "My DataFrame:\n",
      "   My Column\n",
      "0          1\n",
      "1          2\n",
      "2          3\n",
      "3          4\n",
      "4          5\n"
     ]
    }
   ],
   "source": [
    "import pandas as pd\n",
    "\n",
    "# Creating a Pandas Series\n",
    "my_series = pd.Series([1, 2, 3, 4, 5])\n",
    "\n",
    "# Creating a Pandas DataFrame with a single column\n",
    "my_dataframe = pd.DataFrame({'My Column': [1, 2, 3, 4, 5]})\n",
    "\n",
    "# Displaying the Series and DataFrame\n",
    "print(\"My Series:\")\n",
    "print(my_series)\n",
    "\n",
    "print(\"\\nMy DataFrame:\")\n",
    "print(my_dataframe)\n"
   ]
  },
  {
   "cell_type": "markdown",
   "id": "375435c6-34f1-41ed-8c18-9a42b0ddf99a",
   "metadata": {},
   "source": [
    "Q5. What are some common functions you can use to manipulate data in a Pandas DataFrame? Can\n",
    "you give an example of when you might use one of these functions?"
   ]
  },
  {
   "cell_type": "markdown",
   "id": "ad577b86-e75d-4a70-9ecf-df68f5046f06",
   "metadata": {},
   "source": [
    "Answer 5....\n",
    "\n",
    "Pandas provides many functions to manipulate data in a DataFrame. Some of the most commonly used functions include:"
   ]
  },
  {
   "cell_type": "code",
   "execution_count": 6,
   "id": "60088638-6b5b-45a9-b497-4add2dfc4b3a",
   "metadata": {},
   "outputs": [
    {
     "name": "stdout",
     "output_type": "stream",
     "text": [
      "     Name  Age  Gender\n",
      "0   Alice   25  Female\n",
      "1     Bob   30    Male\n",
      "2  Claire   27  Female\n",
      "     Name  Age  Gender\n",
      "0   Alice   25  Female\n",
      "1     Bob   30    Male\n",
      "2  Claire   27  Female\n"
     ]
    }
   ],
   "source": [
    "# 1)  head() and tail(): These functions are used to display the first few and last few rows of a DataFrame, respectively. They are useful for quickly inspecting the contents of a DataFrame.\n",
    "\n",
    "import pandas as pd\n",
    "\n",
    "# Creating a DataFrame\n",
    "df = pd.DataFrame({'Name': ['Alice', 'Bob', 'Claire'], \n",
    "                   'Age': [25, 30, 27], \n",
    "                   'Gender': ['Female', 'Male', 'Female']})\n",
    "\n",
    "# Displaying the first few rows\n",
    "print(df.head())\n",
    "\n",
    "# Displaying the last few rows\n",
    "print(df.tail())\n"
   ]
  },
  {
   "cell_type": "code",
   "execution_count": 7,
   "id": "754b85dd-feb5-4ba7-8e14-c55d86296842",
   "metadata": {},
   "outputs": [
    {
     "name": "stdout",
     "output_type": "stream",
     "text": [
      "             Age\n",
      "count   3.000000\n",
      "mean   27.333333\n",
      "std     2.516611\n",
      "min    25.000000\n",
      "25%    26.000000\n",
      "50%    27.000000\n",
      "75%    28.500000\n",
      "max    30.000000\n"
     ]
    }
   ],
   "source": [
    "# 2) describe(): This function provides a statistical summary of the DataFrame, including the count, mean, standard deviation, minimum, maximum, and quartile values. It is useful for quickly getting an idea of the distribution of the data in the DataFrame.\n",
    "\n",
    "import pandas as pd\n",
    "\n",
    "# Creating a DataFrame\n",
    "df = pd.DataFrame({'Name': ['Alice', 'Bob', 'Claire'], \n",
    "                   'Age': [25, 30, 27], \n",
    "                   'Gender': ['Female', 'Male', 'Female']})\n",
    "\n",
    "# Displaying the statistical summary\n",
    "print(df.describe())\n"
   ]
  },
  {
   "cell_type": "code",
   "execution_count": 8,
   "id": "05c0452e-cbd4-430a-972e-c0243156bee4",
   "metadata": {},
   "outputs": [
    {
     "name": "stdout",
     "output_type": "stream",
     "text": [
      "Gender\n",
      "Female    26.0\n",
      "Male      29.0\n",
      "Name: Age, dtype: float64\n"
     ]
    }
   ],
   "source": [
    "# 3) groupby(): This function is used to group the data in the DataFrame based on one or more columns. It is useful for performing aggregate operations on the grouped data, such as calculating the mean or sum.\n",
    "\n",
    "import pandas as pd\n",
    "\n",
    "# Creating a DataFrame\n",
    "df = pd.DataFrame({'Name': ['Alice', 'Bob', 'Claire', 'Bob'], \n",
    "                   'Age': [25, 30, 27, 28], \n",
    "                   'Gender': ['Female', 'Male', 'Female', 'Male']})\n",
    "\n",
    "# Grouping by the 'Gender' column and calculating the mean age\n",
    "grouped = df.groupby('Gender')\n",
    "print(grouped['Age'].mean())\n"
   ]
  },
  {
   "cell_type": "code",
   "execution_count": 9,
   "id": "11f21cba-d218-45f9-b047-d890008bdb17",
   "metadata": {},
   "outputs": [
    {
     "name": "stdout",
     "output_type": "stream",
     "text": [
      "    Name   Age  Gender\n",
      "0  Alice  25.0  Female\n",
      "1    Bob  30.0    Male\n"
     ]
    }
   ],
   "source": [
    "# 4) drop(): This function is used to drop one or more rows or columns from the DataFrame. It is useful for removing data that is not needed or that contains missing values.\n",
    "\n",
    "import pandas as pd\n",
    "\n",
    "# Creating a DataFrame\n",
    "df = pd.DataFrame({'Name': ['Alice', 'Bob', 'Claire'], \n",
    "                   'Age': [25, 30, None], \n",
    "                   'Gender': ['Female', 'Male', 'Female']})\n",
    "\n",
    "# Dropping the rows that contain missing values\n",
    "df = df.dropna()\n",
    "\n",
    "print(df)\n"
   ]
  },
  {
   "cell_type": "markdown",
   "id": "4df63653-ca72-4ba5-a7e5-472018f5e115",
   "metadata": {},
   "source": [
    "Q6. Which of the following is mutable in nature Series, DataFrame, Panel?"
   ]
  },
  {
   "cell_type": "markdown",
   "id": "a74e0cb6-b935-4599-80d3-32d2a9bb4f88",
   "metadata": {},
   "source": [
    "Answer 6....\n",
    "\n",
    "In Pandas, both Series and DataFrame are mutable in nature, which means that they can be modified after they are created. However, Panel is an immutable data structure in Pandas, which means that it cannot be modified after it is created.\n",
    "\n",
    "In general, mutable objects are those that can be modified after they are created, while immutable objects cannot be modified after they are created. The mutability of an object can have implications for how it is used and shared in a program, so it is important to be aware of the mutability of the data structures used in a particular context.\n",
    "\n",
    "\n",
    "\n"
   ]
  },
  {
   "cell_type": "markdown",
   "id": "cfcd8d22-b33e-45fd-be7b-96495cfbffc4",
   "metadata": {},
   "source": [
    "Q7. Create a DataFrame using multiple Series. Explain with an example."
   ]
  },
  {
   "cell_type": "markdown",
   "id": "082f7c66-9bd6-4c4e-a288-cdeb65c21d8f",
   "metadata": {},
   "source": [
    "Answer 7....\n",
    "\n",
    "We can create a Pandas DataFrame using multiple Pandas Series. To do this, we can first create each Series and then combine them into a single DataFrame using the pd.DataFrame() function. Each Series will correspond to a column in the resulting DataFrame, and we can specify the column names when creating the DataFrame. Here's an example:"
   ]
  },
  {
   "cell_type": "code",
   "execution_count": 10,
   "id": "84820df0-0b10-4e04-a73b-1be9b6cefbc1",
   "metadata": {},
   "outputs": [
    {
     "name": "stdout",
     "output_type": "stream",
     "text": [
      "     Name  Age  Gender\n",
      "0   Alice   25  Female\n",
      "1     Bob   30    Male\n",
      "2  Claire   27  Female\n"
     ]
    }
   ],
   "source": [
    "import pandas as pd\n",
    "\n",
    "# Creating three Pandas Series\n",
    "name_series = pd.Series(['Alice', 'Bob', 'Claire'])\n",
    "age_series = pd.Series([25, 30, 27])\n",
    "gender_series = pd.Series(['Female', 'Male', 'Female'])\n",
    "\n",
    "# Combining the Series into a single DataFrame\n",
    "df = pd.DataFrame({\n",
    "    'Name': name_series,\n",
    "    'Age': age_series,\n",
    "    'Gender': gender_series\n",
    "})\n",
    "\n",
    "# Displaying the resulting DataFrame\n",
    "print(df)\n"
   ]
  },
  {
   "cell_type": "code",
   "execution_count": null,
   "id": "e4b5eb43-7312-44cc-b163-eac3ed233495",
   "metadata": {},
   "outputs": [],
   "source": []
  }
 ],
 "metadata": {
  "kernelspec": {
   "display_name": "Python 3 (ipykernel)",
   "language": "python",
   "name": "python3"
  },
  "language_info": {
   "codemirror_mode": {
    "name": "ipython",
    "version": 3
   },
   "file_extension": ".py",
   "mimetype": "text/x-python",
   "name": "python",
   "nbconvert_exporter": "python",
   "pygments_lexer": "ipython3",
   "version": "3.10.8"
  }
 },
 "nbformat": 4,
 "nbformat_minor": 5
}
