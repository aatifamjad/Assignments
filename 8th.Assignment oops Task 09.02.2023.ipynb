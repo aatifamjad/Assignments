{
 "cells": [
  {
   "cell_type": "markdown",
   "id": "a1febc43-36c3-4c24-a371-bc7d7784ec8d",
   "metadata": {},
   "source": [
    "Q1, Create a vehicle class with an init method having instance variables as name_of_vehicle, max_speed\n",
    "and average_of_vehicle."
   ]
  },
  {
   "cell_type": "code",
   "execution_count": 1,
   "id": "6bf08e0c-aa4d-4d51-91e2-f563762cca1b",
   "metadata": {},
   "outputs": [],
   "source": [
    "class Vehicle:\n",
    "    def __init__(self, name_of_vehicle, max_speed, average_of_vehicle):\n",
    "        self.name_of_vehicle = name_of_vehicle\n",
    "        self.max_speed = max_speed\n",
    "        self.average_of_vehicle = average_of_vehicle\n"
   ]
  },
  {
   "cell_type": "markdown",
   "id": "32d62b4e-23e0-44e7-905e-506b1a2f3a18",
   "metadata": {},
   "source": [
    "Q2. Create a child class car from the vehicle class created in Que 1, which will inherit the vehicle class.\n",
    "Create a method named seating_capacity which takes capacity as an argument and returns the name of\n",
    "the vehicle and its seating capacity."
   ]
  },
  {
   "cell_type": "code",
   "execution_count": 2,
   "id": "bfe88964-3870-4609-ab38-d93090860a35",
   "metadata": {},
   "outputs": [],
   "source": [
    "class Car(Vehicle):\n",
    "    def __init__(self, name_of_vehicle, max_speed, average_of_vehicle):\n",
    "        super().__init__(name_of_vehicle, max_speed, average_of_vehicle)\n",
    "    \n",
    "    def seating_capacity(self, capacity):\n",
    "        return f\"{self.name_of_vehicle} has a seating capacity of {capacity} passengers.\"\n"
   ]
  },
  {
   "cell_type": "markdown",
   "id": "d415ce71-a0d1-4ffa-8d20-7f844bf74613",
   "metadata": {},
   "source": [
    "Q3. What is multiple inheritance? Write a python code to demonstrate multiple inheritance."
   ]
  },
  {
   "cell_type": "code",
   "execution_count": 4,
   "id": "05a3af24-2b4c-468e-963d-290090a4d97f",
   "metadata": {},
   "outputs": [
    {
     "name": "stdout",
     "output_type": "stream",
     "text": [
      "The dog is moving.\n",
      "Buddy is playing.\n"
     ]
    }
   ],
   "source": [
    "class Animal:\n",
    "    def __init__(self, species):\n",
    "        self.species = species\n",
    "\n",
    "    def move(self):\n",
    "        print(f\"The {self.species} is moving.\")\n",
    "\n",
    "class Pet:\n",
    "    def __init__(self, name):\n",
    "        self.name = name\n",
    "\n",
    "    def play(self):\n",
    "        print(f\"{self.name} is playing.\")\n",
    "\n",
    "class Dog(Animal, Pet):\n",
    "    def __init__(self, name):\n",
    "        Animal.__init__(self, \"dog\")\n",
    "        Pet.__init__(self, name)\n",
    "\n",
    "dog = Dog(\"Buddy\")\n",
    "dog.move()  \n",
    "dog.play()  \n"
   ]
  },
  {
   "cell_type": "markdown",
   "id": "b3485783-8a46-4806-b845-0b424ae77672",
   "metadata": {},
   "source": [
    "Q4. What are getter and setter in python? Create a class and create a getter and a setter method in this\n",
    "class."
   ]
  },
  {
   "cell_type": "markdown",
   "id": "1032d25f-da98-44fa-ab6f-080ab4b99c5c",
   "metadata": {},
   "source": [
    "Getter and setter methods in Python are used to get and set the values of instance variables of a class, respectively. They allow controlled access to these variables and provide a layer of abstraction to the implementation details of the class."
   ]
  },
  {
   "cell_type": "code",
   "execution_count": 5,
   "id": "16889a2b-6e80-465c-b00a-55e08dcf5b5a",
   "metadata": {},
   "outputs": [],
   "source": [
    "class Person:\n",
    "    def __init__(self, name, age):\n",
    "        self._name = name\n",
    "        self._age = age\n",
    "\n",
    "    def get_name(self):\n",
    "        return self._name\n",
    "\n",
    "    def set_name(self, name):\n",
    "        self._name = name\n",
    "\n",
    "    def get_age(self):\n",
    "        return self._age\n",
    "\n",
    "    def set_age(self, age):\n",
    "        if age < 0:\n",
    "            raise ValueError(\"Age cannot be negative\")\n",
    "        self._age = age\n"
   ]
  },
  {
   "cell_type": "markdown",
   "id": "ef877d68-6712-43d8-b8ce-4883c835b8d6",
   "metadata": {},
   "source": [
    "Q5.What is method overriding in python? Write a python code to demonstrate method overriding."
   ]
  },
  {
   "cell_type": "markdown",
   "id": "5a508473-3cef-4610-9799-78303982ad4a",
   "metadata": {},
   "source": [
    "Method overriding in Python is a mechanism that allows a subclass to provide a different implementation of a method that is already defined in its superclass. This is achieved by defining a method with the same name in the subclass, which then replaces the method in the superclass."
   ]
  },
  {
   "cell_type": "code",
   "execution_count": 6,
   "id": "5a4514ea-4351-4e3b-8bcb-5df2d3434b75",
   "metadata": {},
   "outputs": [
    {
     "name": "stdout",
     "output_type": "stream",
     "text": [
      "The animal makes a sound\n",
      "Meow\n",
      "Woof\n"
     ]
    }
   ],
   "source": [
    "class Animal:\n",
    "    def make_sound(self):\n",
    "        print(\"The animal makes a sound\")\n",
    "\n",
    "class Cat(Animal):\n",
    "    def make_sound(self):\n",
    "        print(\"Meow\")\n",
    "\n",
    "class Dog(Animal):\n",
    "    def make_sound(self):\n",
    "        print(\"Woof\")\n",
    "\n",
    "animal = Animal()\n",
    "animal.make_sound()  \n",
    "\n",
    "cat = Cat()\n",
    "cat.make_sound()  \n",
    "\n",
    "dog = Dog()\n",
    "dog.make_sound()  \n"
   ]
  },
  {
   "cell_type": "code",
   "execution_count": null,
   "id": "06e81807-b308-4bf1-890b-c9310ceeda6f",
   "metadata": {},
   "outputs": [],
   "source": []
  }
 ],
 "metadata": {
  "kernelspec": {
   "display_name": "Python 3 (ipykernel)",
   "language": "python",
   "name": "python3"
  },
  "language_info": {
   "codemirror_mode": {
    "name": "ipython",
    "version": 3
   },
   "file_extension": ".py",
   "mimetype": "text/x-python",
   "name": "python",
   "nbconvert_exporter": "python",
   "pygments_lexer": "ipython3",
   "version": "3.10.8"
  }
 },
 "nbformat": 4,
 "nbformat_minor": 5
}
