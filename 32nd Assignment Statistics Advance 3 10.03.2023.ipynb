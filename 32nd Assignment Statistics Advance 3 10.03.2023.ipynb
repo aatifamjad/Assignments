{
 "cells": [
  {
   "cell_type": "markdown",
   "id": "e40de5c6-db44-470c-8726-d980c5f3bcf3",
   "metadata": {},
   "source": [
    "Q1: What is Estimation Statistics? Explain point estimate and interval estimate.\n",
    "\n",
    "Answer 1)\n",
    "\n",
    "Estimation statistics is a branch of statistics that deals with estimating population parameters (such as mean, variance, etc.) using sample statistics (such as sample mean, sample variance, etc.). Point estimate refers to a single value that is used to estimate the population parameter. For example, the sample mean is a point estimate of the population mean. Interval estimate, on the other hand, refers to a range of values within which the population parameter is likely to fall. For example, a confidence interval is an interval estimate of the population parameter."
   ]
  },
  {
   "cell_type": "markdown",
   "id": "8d8c2c81-b604-4341-8c54-64b7663bb534",
   "metadata": {},
   "source": [
    "Q2. Write a Python function to estimate the population mean using a sample mean and standard deviation."
   ]
  },
  {
   "cell_type": "code",
   "execution_count": 1,
   "id": "17582b43-cfc2-49eb-a599-14031012d901",
   "metadata": {},
   "outputs": [],
   "source": [
    "# Answer 2\n",
    "\n",
    "def estimate_population_mean(sample_mean, sample_std_dev, sample_size):\n",
    "    import math\n",
    "    t_value = 1.96 # for a 95% confidence interval and degrees of freedom > 30\n",
    "    standard_error = sample_std_dev / math.sqrt(sample_size)\n",
    "    lower_bound = sample_mean - t_value * standard_error\n",
    "    upper_bound = sample_mean + t_value * standard_error\n",
    "    return (lower_bound, upper_bound)\n"
   ]
  },
  {
   "cell_type": "markdown",
   "id": "9f1b3e9c-7638-4384-962f-5fe4f6414ac5",
   "metadata": {},
   "source": [
    "Q3: What is Hypothesis testing? Why is it used? State the importance of Hypothesis testing.\n",
    "\n",
    "Answer 3)\n",
    "\n",
    "Hypothesis testing is a statistical method used to make inferences about population parameters based on sample data. It involves setting up two hypotheses - a null hypothesis and an alternative hypothesis - and using sample data to either reject or fail to reject the null hypothesis. The null hypothesis is typically the hypothesis of no effect or no difference, while the alternative hypothesis is the hypothesis of some effect or difference. Hypothesis testing is used to determine whether the sample data provides sufficient evidence to support the alternative hypothesis or not.\n",
    "\n",
    "The importance of hypothesis testing lies in its ability to help us make decisions based on data. By using statistical tests to evaluate hypotheses, we can determine whether the results of an experiment or study are due to chance or whether they reflect a real effect. Hypothesis testing is widely used in fields such as medicine, psychology, engineering, and business to draw conclusions from data and make informed decisions.\n",
    "\n",
    "Q4. Create a hypothesis that states whether the average weight of male college students is greater than the average weight of female college students.\n",
    "\n",
    "Answer 4)\n",
    "\n",
    "The null hypothesis is that the average weight of male college students is equal to or less than the average weight of female college students. The alternative hypothesis is that the average weight of male college students is greater than the average weight of female college students.\n",
    "\n",
    "Null hypothesis: H0: μm ≤ μf\n",
    "Alternative hypothesis: Ha: μm > μf\n",
    "\n",
    "where μm is the population mean weight of male college students and μf is the population mean weight of female college students.\n",
    "\n"
   ]
  },
  {
   "cell_type": "markdown",
   "id": "8ceb564c-399a-4970-95e9-060f6e12de05",
   "metadata": {},
   "source": [
    "Q5: Write a Python script to conduct a hypothesis test on the difference between two population means, given a sample from each population."
   ]
  },
  {
   "cell_type": "code",
   "execution_count": 2,
   "id": "b1d35683-c4ba-4b5f-aba0-990cbc7cfdba",
   "metadata": {},
   "outputs": [
    {
     "name": "stdout",
     "output_type": "stream",
     "text": [
      "t-statistic: 0.5694947974514991\n"
     ]
    },
    {
     "data": {
      "text/plain": [
       "<function print>"
      ]
     },
     "execution_count": 2,
     "metadata": {},
     "output_type": "execute_result"
    }
   ],
   "source": [
    "# Answer 5)\n",
    "\n",
    "import scipy.stats as stats\n",
    "\n",
    "# Sample data\n",
    "sample1 = [10, 12, 14, 16, 18]\n",
    "sample2 = [8, 11, 13, 15, 17]\n",
    "\n",
    "# Conduct a two-sample t-test\n",
    "t_statistic, p_value = stats.ttest_ind(sample1, sample2)\n",
    "\n",
    "# Output the results\n",
    "print(\"t-statistic:\", t_statistic)\n",
    "print\n"
   ]
  },
  {
   "cell_type": "markdown",
   "id": "6b1e29de-7191-463f-9658-7ba75ac1cd14",
   "metadata": {},
   "source": [
    "Q6: What is a null and alternative hypothesis? Give some examples.\n",
    "\n",
    "Answer 6) \n",
    "\n",
    "A null hypothesis is a statement that there is no significant difference between two variables or no relationship between them. An alternative hypothesis is a statement that contradicts the null hypothesis, suggesting that there is a significant difference or relationship between the variables. For example:\n",
    "\n",
    "a) Null hypothesis: There is no significant difference in the mean scores of two groups.\n",
    " \n",
    " Alternative hypothesis: There is a significant difference in the mean scores of two groups.\n",
    "\n",
    "b) Null hypothesis: A new drug has no effect on patients' blood pressure.\n",
    "\n",
    "Alternative hypothesis: A new drug has a significant effect on patients' blood pressure.\n",
    "\n",
    "c) Null hypothesis: There is no relationship between gender and job satisfaction.\n",
    "\n",
    "Alternative hypothesis: There is a relationship between gender and job satisfaction.\n",
    "\n",
    "\n",
    "Q7: Write down the steps involved in hypothesis testing.\n",
    "\n",
    "Answer 7) \n",
    "\n",
    "The steps involved in hypothesis testing are:\n",
    "\n",
    "a) Formulate a null and alternative hypothesis.\n",
    "\n",
    "b) Determine the appropriate statistical test based on the type of data and hypothesis being tested.\n",
    "\n",
    "c) Set the significance level (alpha) for the test.\n",
    "\n",
    "d) Collect the data and calculate the test statistic.\n",
    "\n",
    "e) Determine the p-value associated with the test statistic.\n",
    "\n",
    "f) Compare the p-value to the significance level (alpha).\n",
    "\n",
    "g) If the p-value is less than the significance level, reject the null hypothesis. If the p-value is greater than or equal to the significance level, fail to reject the null hypothesis.\n",
    "\n",
    "h) Draw conclusions and interpret the results in the context of the problem.\n",
    "\n",
    "Q8. Define p-value and explain its significance in hypothesis testing.\n",
    "\n",
    "Answer 8)\n",
    "\n",
    "\n",
    "The p-value is the probability of obtaining a test statistic as extreme as, or more extreme than, the observed value, assuming that the null hypothesis is true. It is used to determine whether the null hypothesis should be rejected or not. If the p-value is less than the significance level (alpha), the null hypothesis is rejected, indicating that there is evidence to support the alternative hypothesis. If the p-value is greater than or equal to the significance level, the null hypothesis is not rejected, indicating that there is not enough evidence to support the alternative hypothesis."
   ]
  },
  {
   "cell_type": "markdown",
   "id": "0c72b64a-5788-4d1b-9c82-0eb0ce0bb050",
   "metadata": {},
   "source": [
    "Q9. Generate a Student's t-distribution plot using Python's matplotlib library, with the degrees of freedom parameter set to 10."
   ]
  },
  {
   "cell_type": "code",
   "execution_count": 3,
   "id": "bc366564-5f2e-45a8-bb8b-4c9d3c571711",
   "metadata": {},
   "outputs": [
    {
     "data": {
      "image/png": "[encoded data removed]",
      "text/plain": [
       "<Figure size 640x480 with 1 Axes>"
      ]
     },
     "metadata": {},
     "output_type": "display_data"
    }
   ],
   "source": [
    "# Answer 9)\n",
    "\n",
    "import numpy as np\n",
    "import matplotlib.pyplot as plt\n",
    "\n",
    "df = 10\n",
    "x = np.linspace(-4, 4, 1000)\n",
    "y = np.exp(-(df + 1)/2 * np.log(1 + x**2/df)) / (np.sqrt(df) * np.sqrt(np.pi) * np.exp(np.log(np.abs(np.sqrt(x**2/df) - 1)) - np.log(np.sqrt(df) - 1.5)))\n",
    "plt.plot(x, y)\n",
    "plt.title(\"Student's t-distribution with df = 10\")\n",
    "plt.xlabel('x')\n",
    "plt.ylabel('Probability density')\n",
    "plt.show()"
   ]
  },
  {
   "cell_type": "markdown",
   "id": "ade1a4a4-e9ac-48bd-bbba-cab4c6e69536",
   "metadata": {},
   "source": [
    "Q10. Write a Python program to calculate the two-sample t-test for independent samples, given two\n",
    "random samples of equal size and a null hypothesis that the population means are equal."
   ]
  },
  {
   "cell_type": "code",
   "execution_count": 4,
   "id": "278b77b2-f21b-406f-923c-a454732502cb",
   "metadata": {},
   "outputs": [
    {
     "name": "stdout",
     "output_type": "stream",
     "text": [
      "t-statistic = -3.608381886703295\n",
      "p-value = 0.00048731011473301684\n"
     ]
    }
   ],
   "source": [
    "# Answer 10) \n",
    "\n",
    "import numpy as np\n",
    "from scipy.stats import ttest_ind\n",
    "\n",
    "# Generate two random samples of size 50\n",
    "sample1 = np.random.normal(loc=10, scale=2, size=50)\n",
    "sample2 = np.random.normal(loc=12, scale=2, size=50)\n",
    "\n",
    "# Perform two-sample t-test assuming equal variances\n",
    "t_stat, p_val = ttest_ind(sample1, sample2, equal_var=True)\n",
    "\n",
    "# Print the results\n",
    "print(\"t-statistic =\", t_stat)\n",
    "print(\"p-value =\", p_val)\n"
   ]
  },
  {
   "cell_type": "markdown",
   "id": "45f9ecc2-22fd-4a60-afae-3a01efa63a1e",
   "metadata": {},
   "source": [
    "Q11: What is Student’s t distribution? When to use the t-Distribution."
   ]
  },
  {
   "cell_type": "markdown",
   "id": "45a40e18-c9b9-4bc0-88ba-1a162fd19144",
   "metadata": {},
   "source": [
    "Answer 11)\n",
    "\n",
    "t-distribution, also known as the t-test distribution, is a probability distribution that arises in hypothesis testing when the population standard deviation is unknown and must be estimated from the sample data. It is similar to the standard normal distribution but has heavier tails, meaning that it is more likely to produce extreme values. The shape of the t-distribution depends on the sample size, with smaller sample sizes resulting in a more spread-out distribution.\n",
    "\n",
    "The t-distribution is used in hypothesis testing when the sample size is small and the population standard deviation is unknown. It is commonly used to test hypotheses about the means of two populations, for example, to determine if there is a significant difference between the means of two groups. The t-distribution is also used in confidence interval estimation when the population standard deviation is unknown."
   ]
  },
  {
   "cell_type": "markdown",
   "id": "66a52741-7fd2-4ba5-b1aa-5eaddc17980d",
   "metadata": {},
   "source": [
    "Q12: What is t-statistic? State the formula for t-statistic.\n",
    "\n",
    "Answer 12) \n",
    "\n",
    "The t-statistic is a measure of how far the sample mean deviates from the hypothesized population mean in units of the standard error. It is used in hypothesis testing to determine whether there is a significant difference between the sample mean and the hypothesized population mean. The formula for t-statistic is:\n",
    "\n",
    "t = (x̄ - μ) / (s / sqrt(n))\n",
    "\n",
    "where x̄ is the sample mean, μ is the hypothesized population mean, s is the sample standard deviation, and n is the sample size.\n",
    "\n",
    "\n",
    "Q13: Q13. A coffee shop owner wants to estimate the average daily revenue for their shop. They take a random\n",
    "sample of 50 days and find the sample mean revenue to be $500 with a standard deviation of $50.\n",
    "Estimate the population mean revenue with a 95% confidence interval.\n",
    "\n",
    "Answer 13)\n",
    "\n",
    "\n",
    "CI = x̄ ± tα/2 * (s / sqrt(n))\n",
    "\n",
    "where x̄ is the sample mean revenue, s is the sample standard deviation, n is the sample size, tα/2 is the t-value with (n-1) degrees of freedom and a confidence level of 95%, and CI is the confidence interval.\n",
    "\n",
    "\n",
    "\n",
    "\n",
    "Using the given values, we have:\n",
    "\n",
    "x̄ = $500\n",
    "s = $50\n",
    "n = 50\n",
    "α = 0.05/2 (since it's a two-tailed test)\n",
    "\n",
    "From the t-distribution table with (n-1) degrees of freedom and a 95% confidence level, we find the t-value to be 2.009. Therefore, the confidence interval is:\n",
    "\n",
    "CI = 500 ± 2.009 * (50 / sqrt(50))\n",
    "CI = $500 ± $14.18\n",
    "\n",
    "So the 95% confidence interval for the population mean revenue is ($485.82, $514.18). We can say with 95% confidence that the true population mean revenue falls within this interval.\n",
    "\n",
    "\n",
    "\n",
    "\n",
    "\n"
   ]
  },
  {
   "cell_type": "markdown",
   "id": "0e9bbf0b-34ba-4fa6-aedd-e91e67d737ad",
   "metadata": {},
   "source": [
    "Q14. A researcher hypothesizes that a new drug will decrease blood pressure by 10 mmHg. They conduct a\n",
    "clinical trial with 100 patients and find that the sample mean decrease in blood pressure is 8 mmHg with a\n",
    "standard deviation of 3 mmHg. Test the hypothesis with a significance level of 0.05."
   ]
  },
  {
   "cell_type": "markdown",
   "id": "a6c84db7-f464-4940-8d85-a290b8a4616a",
   "metadata": {},
   "source": [
    "Answer 14)\n",
    "\n",
    "To test the hypothesis that the new drug will decrease blood pressure by 10 mmHg with a significance level of 0.05, we can use a one-sample t-test. The null hypothesis is that the true mean decrease in blood pressure is not equal to 10 mmHg, and the alternative hypothesis is that the true mean decrease in blood pressure is equal to 10 mmHg.\n",
    "\n",
    "The test statistic can be calculated as follows:\n",
    "\n",
    "t = (sample mean - hypothesized mean) / (standard deviation / sqrt(sample size))\n",
    "t = (8 - 10) / (3 / sqrt(100))\n",
    "t = -2.67\n",
    "\n",
    "Using a t-distribution table with 99 degrees of freedom (sample size minus 1), we can find the critical value for a two-tailed test with a significance level of 0.05 to be ±2.62.\n",
    "\n",
    "Since our calculated t-value of -2.67 is outside the critical region of ±2.62, we can reject the null hypothesis and conclude that there is evidence to suggest that the new drug decreases blood pressure by 10 mmHg."
   ]
  },
  {
   "cell_type": "markdown",
   "id": "f35ed2a2-9397-4722-ade9-ba047ba94784",
   "metadata": {},
   "source": [
    "Q15. An electronics company produces a certain type of product with a mean weight of 5 pounds and a\n",
    "standard deviation of 0.5 pounds. A random sample of 25 products is taken, and the sample mean weight\n",
    "is found to be 4.8 pounds. Test the hypothesis that the true mean weight of the products is less than 5\n",
    "pounds with a significance level of 0.01.\n",
    "\n",
    "Answer 15)\n",
    "\n",
    "To test the hypothesis that the true mean weight of the products is less than 5 pounds with a significance level of 0.01, we can use a one-sample t-test. The null hypothesis is that the true mean weight of the products is equal to 5 pounds, and the alternative hypothesis is that the true mean weight of the products is less than 5 pounds.\n",
    "\n",
    "The test statistic can be calculated as follows:\n",
    "\n",
    "t = (sample mean - hypothesized mean) / (standard deviation / sqrt(sample size))\n",
    "t = (4.8 - 5) / (0.5 / sqrt(25))\n",
    "t = -2\n",
    "\n",
    "Using a t-distribution table with 24 degrees of freedom (sample size minus 1), we can find the critical value for a one-tailed test with a significance level of 0.01 to be -2.492.\n",
    "\n",
    "Since our calculated t-value of -2 is less than the critical value of -2.492, we can reject the null hypothesis and conclude that there is evidence to suggest that the true mean weight of the products is less than 5 pounds.\n",
    "\n",
    "\n",
    "Q16. Two groups of students are given different study materials to prepare for a test. The first group (n1 =\n",
    "30) has a mean score of 80 with a standard deviation of 10, and the second group (n2 = 40) has a mean\n",
    "score of 75 with a standard deviation of 8. Test the hypothesis that the population means for the two\n",
    "groups are equal with a significance level of 0.01.\n",
    "\n",
    "Answer 16)\n",
    "\n",
    "To test the hypothesis that the population means for the two groups are equal with a significance level of 0.01, we can use a two-sample t-test. The null hypothesis is that the population means are equal, and the alternative hypothesis is that the population means are not equal.\n",
    "\n",
    "The test statistic can be calculated as follows:\n",
    "\n",
    "t = (sample mean difference - hypothesized mean difference) / (pooled standard deviation * sqrt(1/n1 + 1/n2))\n",
    "t = (80 - 75) / (sqrt(((10^2)/30) + ((8^2)/40)))\n",
    "t = 3.04\n",
    "\n",
    "Using a t-distribution table with 68 degrees of freedom (n1 + n2 - 2), we can find the critical value for a two-tailed test with a significance level of 0.01 to be ±2.602.\n",
    "\n",
    "Since our calculated t-value of 3.04 is outside the critical region of ±2.602, we can reject the null hypothesis and conclude that there is evidence to suggest that the population means for the two groups are not equal.\n",
    "\n",
    "\n",
    "Q17. A marketing company wants to estimate the average number of ads watched by viewers during a TV\n",
    "program. They take a random sample of 50 viewers and find that the sample mean is 4 with a standard\n",
    "deviation of 1.5. Estimate the population mean with a 99% confidence interval.\n",
    "\n",
    "Answer 17)\n",
    "\n",
    "To estimate the population mean with a 99% confidence interval, we can use the formula:\n",
    "\n",
    "CI = sample mean ± (critical value * standard error)\n",
    "\n",
    "The critical value can be found using a t-distribution table with 49 degrees of freedom (sample size minus 1) and a confidence level of 99%, which gives a value of 2.681.\n",
    "\n",
    "The standard"
   ]
  },
  {
   "cell_type": "code",
   "execution_count": null,
   "id": "869d74f1-b1c1-4b36-8866-447a1f0d648a",
   "metadata": {},
   "outputs": [],
   "source": []
  }
 ],
 "metadata": {
  "kernelspec": {
   "display_name": "Python 3 (ipykernel)",
   "language": "python",
   "name": "python3"
  },
  "language_info": {
   "codemirror_mode": {
    "name": "ipython",
    "version": 3
   },
   "file_extension": ".py",
   "mimetype": "text/x-python",
   "name": "python",
   "nbconvert_exporter": "python",
   "pygments_lexer": "ipython3",
   "version": "3.10.8"
  }
 },
 "nbformat": 4,
 "nbformat_minor": 5
}
