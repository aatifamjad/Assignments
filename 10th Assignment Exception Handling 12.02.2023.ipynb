{
 "cells": [
  {
   "cell_type": "markdown",
   "id": "315d74e0-2d9f-4c8e-a893-c292e8b6130a",
   "metadata": {},
   "source": [
    "Q1. What is an Exception in python? Write the difference between Exceptions and Syntax errors."
   ]
  },
  {
   "cell_type": "markdown",
   "id": "979ca5e3-9a2d-4852-b682-c28d82d99820",
   "metadata": {},
   "source": [
    "Answer \n",
    "\n",
    "In Python, an Exception is an event that occurs during the execution of a program which disrupts the normal flow of the program's instructions. It is usually caused by an error in the program, such as a division by zero, an out-of-bounds access to a list, or the use of an undefined variable.\n",
    "\n",
    "Exceptions allow you to handle errors in a controlled and graceful manner, instead of abruptly terminating your program. You can use try-except blocks to catch exceptions and take appropriate action to resolve the error.\n",
    "\n",
    "On the other hand, Syntax errors are errors in the code that prevent the program from being executed. They occur when the code does not follow the rules of the Python syntax. For example, a missing colon, mismatched parentheses, or an incorrect indentation can result in a syntax error.\n",
    "\n",
    "In summary, syntax errors are compile-time errors and exceptions are runtime errors. Syntax errors prevent the program from running at all, while exceptions allow the program to continue running and gracefully handle the error when it occurs."
   ]
  },
  {
   "cell_type": "markdown",
   "id": "e56997d3-40a5-45f5-a87b-c3e120f0f0b1",
   "metadata": {},
   "source": [
    "Q2. What happens when an exception is not handled? Explain with an example."
   ]
  },
  {
   "cell_type": "markdown",
   "id": "18ca4780-277b-4d73-98a1-422596b8be44",
   "metadata": {},
   "source": [
    "Answer\n",
    "\n",
    "When an exception is not handled, it propagates through the call stack until it reaches the top-level of the program. At this point, if there is no try-except block to handle the exception, the Python interpreter will raise an uncaught exception, which will result in a traceback."
   ]
  },
  {
   "cell_type": "markdown",
   "id": "6108986c-cfd0-4753-87e7-a52850bb5f9c",
   "metadata": {},
   "source": [
    "Q3. Which Python statements are used to catch and handle exceptions? Explain with an example."
   ]
  },
  {
   "cell_type": "markdown",
   "id": "1e880d9e-5a7f-4f27-b988-2938ab30dd90",
   "metadata": {},
   "source": [
    "Answer\n",
    "\n",
    "In Python, the try and except statements are used to catch and handle exceptions. \n",
    "\n",
    "In the try block, you write the code that you want to execute. If an exception is raised in this block, control is immediately transferred to the except block, where you can handle the exception. The ExceptionType in the except block specifies the type of exception that you want to catch. If you don't specify an ExceptionType, the except block will catch any exception that is raised."
   ]
  },
  {
   "cell_type": "code",
   "execution_count": 1,
   "id": "c3191694-299a-4c84-b77d-1dc00015174a",
   "metadata": {},
   "outputs": [
    {
     "name": "stdout",
     "output_type": "stream",
     "text": [
      "Cannot divide by zero.\n"
     ]
    }
   ],
   "source": [
    "try:\n",
    "    x, y = 5, 0\n",
    "    result = x / y\n",
    "    print(result)\n",
    "except ZeroDivisionError:\n",
    "    print(\"Cannot divide by zero.\")\n"
   ]
  },
  {
   "cell_type": "markdown",
   "id": "0080a1cb-3a2e-4366-b6ae-b1ffc545b0a3",
   "metadata": {},
   "source": [
    "Q4. Explain with an example:\n",
    "try and else\n",
    "finall\n",
    "raise \n"
   ]
  },
  {
   "cell_type": "code",
   "execution_count": 3,
   "id": "63250c53-89b2-46df-a7b5-adb2f44a3453",
   "metadata": {},
   "outputs": [
    {
     "name": "stdout",
     "output_type": "stream",
     "text": [
      "2.5\n",
      "No exceptions were raised.\n"
     ]
    }
   ],
   "source": [
    "try:\n",
    "    x, y = 5, 2\n",
    "    result = x / y\n",
    "    print(result)\n",
    "except ZeroDivisionError:\n",
    "    print(\"Cannot divide by zero.\")\n",
    "else:\n",
    "    print(\"No exceptions were raised.\")\n"
   ]
  },
  {
   "cell_type": "markdown",
   "id": "2c435e3b-16c2-46e7-9d17-275dc7ac19bd",
   "metadata": {},
   "source": [
    "Q5. What are Custom Exceptions in python? Why do we need Custom Exceptions? Explain with an example."
   ]
  },
  {
   "cell_type": "markdown",
   "id": "b0aa92e1-63b1-46b7-84a4-42eb77ca18b3",
   "metadata": {},
   "source": [
    "Answer\n",
    "\n",
    "Custom exceptions are user-defined exceptions in Python that you can create to handle specific errors in your code. They are created by creating a new class that inherits from the built-in Exception class.\n",
    "\n",
    "There are several reasons why you might want to create custom exceptions in Python:\n",
    "\n",
    "1. To provide more meaningful error messages: Custom exceptions allow you to define a specific error message that will be displayed when the exception is raised, making it easier to diagnose and fix the problem.\n",
    "\n",
    "2. To handle specific errors in your code: By creating custom exceptions, you can handle specific errors that might occur in your code, rather than relying on the built-in exceptions, which might not provide enough information about the problem.\n",
    "\n"
   ]
  },
  {
   "cell_type": "code",
   "execution_count": 4,
   "id": "1f743145-7451-4f5c-b541-71f12f6ec701",
   "metadata": {},
   "outputs": [
    {
     "name": "stdout",
     "output_type": "stream",
     "text": [
      "Cannot divide by zero.\n"
     ]
    }
   ],
   "source": [
    "class InvalidInputError(Exception):\n",
    "    def __init__(self, message):\n",
    "        self.message = message\n",
    "\n",
    "def divide(a, b):\n",
    "    if b == 0:\n",
    "        raise InvalidInputError(\"Cannot divide by zero.\")\n",
    "    return a / b\n",
    "\n",
    "try:\n",
    "    x, y = 5, 0\n",
    "    result = divide(x, y)\n",
    "    print(result)\n",
    "except InvalidInputError as e:\n",
    "    print(e.message)\n"
   ]
  },
  {
   "cell_type": "markdown",
   "id": "254f97a3-70eb-4f2b-b5a4-5700342b3944",
   "metadata": {},
   "source": [
    "Q6. Create a custom exception class. Use this class to handle an exception."
   ]
  },
  {
   "cell_type": "code",
   "execution_count": 5,
   "id": "f27fe6c3-f02c-4580-adda-b9e63feb4f86",
   "metadata": {},
   "outputs": [
    {
     "name": "stdout",
     "output_type": "stream",
     "text": [
      "Caught a custom exception: This is a custom exception.\n"
     ]
    }
   ],
   "source": [
    "class CustomException(Exception):\n",
    "    def __init__(self, message):\n",
    "        self.message = message\n",
    "\n",
    "try:\n",
    "    raise CustomException(\"This is a custom exception.\")\n",
    "except CustomException as e:\n",
    "    print(\"Caught a custom exception:\", e.message)\n"
   ]
  },
  {
   "cell_type": "code",
   "execution_count": null,
   "id": "6a97e93a-9961-4074-812c-d4bb4264cd99",
   "metadata": {},
   "outputs": [],
   "source": []
  }
 ],
 "metadata": {
  "kernelspec": {
   "display_name": "Python 3 (ipykernel)",
   "language": "python",
   "name": "python3"
  },
  "language_info": {
   "codemirror_mode": {
    "name": "ipython",
    "version": 3
   },
   "file_extension": ".py",
   "mimetype": "text/x-python",
   "name": "python",
   "nbconvert_exporter": "python",
   "pygments_lexer": "ipython3",
   "version": "3.10.8"
  }
 },
 "nbformat": 4,
 "nbformat_minor": 5
}
