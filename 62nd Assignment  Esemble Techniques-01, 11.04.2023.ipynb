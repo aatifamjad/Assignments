{
 "cells": [
  {
   "cell_type": "markdown",
   "id": "196bcfb8-ceea-42a8-a6a2-d7f383cce50a",
   "metadata": {},
   "source": [
    "Q1. What is an ensemble technique in machine learning?\n",
    "\n",
    "Answer 1...\n",
    "\n",
    "An ensemble technique in machine learning refers to a method of combining multiple individual models to produce a better overall prediction or classification performance than any individual model alone. Ensemble techniques include methods such as bagging, boosting, and stacking.\n",
    "\n",
    "Q2. Why are ensemble techniques used in machine learning?\n",
    "\n",
    "Answer 2...\n",
    "\n",
    "Ensemble techniques are used in machine learning because they can help to improve the accuracy and robustness of models by reducing the risk of overfitting and bias. Ensemble methods can also provide a more stable prediction or classification by combining the strengths of different models, and can be used to handle different types of data or prediction problems.\n",
    "\n",
    "Q3. What is bagging?\n",
    "\n",
    "Answer 3...\n",
    "\n",
    "Bagging (Bootstrap Aggregating) is an ensemble technique in which multiple instances of a base model are trained on different subsets of the training data, using sampling with replacement. The predictions of the individual models are then combined using a simple average, to produce a final prediction.\n",
    "\n",
    "Q4. What is boosting?\n",
    "\n",
    "Answer 4...\n",
    "\n",
    "Boosting is an ensemble technique that involves iteratively training a sequence of weak models, with each model attempting to correct the errors of the previous model. The final prediction is obtained by combining the predictions of all the models, with more weight given to models that perform better on the training data.\n",
    "\n",
    "Q5. What are the benefits of using ensemble techniques?\n",
    "\n",
    "Answer 5...\n",
    "\n",
    "The benefits of using ensemble techniques include improved accuracy and robustness of predictions or classifications, better handling of different types of data or prediction problems, and reduced risk of overfitting and bias. Ensemble methods can also provide a more stable prediction or classification by combining the strengths of different models.\n",
    "\n",
    "Q6. Are ensemble techniques always better than individual models?\n",
    "\n",
    "Answer 6...\n",
    "\n",
    "Ensemble techniques are not always better than individual models, as the performance of the ensemble depends on the individual models and the data being used. In some cases, a single model may be sufficient to produce accurate predictions or classifications, while in other cases an ensemble may be necessary to improve performance.\n",
    "\n",
    "Q7. How is the confidence interval calculated using bootstrap?\n",
    "\n",
    "Answer 7...\n",
    "\n",
    "The confidence interval can be calculated using bootstrap by resampling the original data set multiple times, calculating the statistic of interest (such as the mean) for each resampled data set, and then calculating the standard deviation of the distribution of the statistic across the resampled data sets. The confidence interval is then estimated as the range of values that includes the central 95% of the distribution of the statistic.\n",
    "\n",
    "Q8. How does bootstrap work and What are the steps involved in bootstrap?\n",
    "\n",
    "Answer 8...\n",
    "\n",
    "Bootstrap is a statistical technique that involves resampling the original data set to obtain multiple samples, each of the same size as the original data set. The steps involved in bootstrap are as follows:\n",
    "\n",
    "a) Randomly select a sample of the same size as the original data set from the data set, with replacement, to create a new resampled data set.\n",
    "\n",
    "b) Calculate the statistic of interest (such as the mean) for the resampled data set.\n",
    "\n",
    "c) Repeat steps 1 and 2 a large number of times (typically 1,000 or more).\n",
    "\n",
    "d) Calculate the standard deviation of the distribution of the statistic across the resampled data sets.\n",
    "\n",
    "e) Estimate the confidence interval as the range of values that includes the central 95% of the distribution of the statistic."
   ]
  },
  {
   "cell_type": "markdown",
   "id": "ebfd0321-3e01-4087-a7a0-2f7b45891854",
   "metadata": {},
   "source": [
    "Q9. A researcher wants to estimate the mean height of a population of trees. They measure the height of a\n",
    "sample of 50 trees and obtain a mean height of 15 meters and a standard deviation of 2 meters. Use\n",
    "bootstrap to estimate the 95% confidence interval for the population mean height."
   ]
  },
  {
   "cell_type": "markdown",
   "id": "ebd2acda-7e90-408a-9949-faf7a42c0d9f",
   "metadata": {},
   "source": [
    "Answer 9...\n",
    "\n",
    "To estimate the 95% confidence interval for the population mean height using bootstrap, the researcher would follow these steps:\n",
    "\n",
    "a) Create a large number of resampled data sets by randomly selecting 50 heights from the original sample, with replacement. Let's say we create 10,000 resampled data sets.\n",
    "\n",
    "b) Calculate the mean height for each of the 10,000 resampled data sets.\n",
    "\n",
    "c) Calculate the standard deviation of the distribution of the mean heights across the 10,000 resampled data sets. This is an estimate of the standard error of the mean.\n",
    "\n",
    "d) Calculate the lower and upper bounds of the 95% confidence interval using the formula:\n",
    "lower bound = sample mean - (1.96 x standard error of the mean)\n",
    "upper bound = sample mean + (1.96 x standard error of the mean)\n",
    "where 1.96 is the critical value for the 95% confidence interval for a normal distribution.\n",
    "\n",
    "e) The resulting confidence interval is the range of values between the lower and upper bounds. For this sample, the confidence interval would be:\n",
    "lower bound = 14.41 meters\n",
    "upper bound = 15.59 meters\n",
    "Therefore, we can be 95% confident that the true mean height of the population of trees is between 14.41 meters and 15.59 meters."
   ]
  },
  {
   "cell_type": "code",
   "execution_count": null,
   "id": "e26eab8f-b1fa-4cf7-8bb8-7980be114568",
   "metadata": {},
   "outputs": [],
   "source": []
  }
 ],
 "metadata": {
  "kernelspec": {
   "display_name": "Python 3 (ipykernel)",
   "language": "python",
   "name": "python3"
  },
  "language_info": {
   "codemirror_mode": {
    "name": "ipython",
    "version": 3
   },
   "file_extension": ".py",
   "mimetype": "text/x-python",
   "name": "python",
   "nbconvert_exporter": "python",
   "pygments_lexer": "ipython3",
   "version": "3.10.8"
  }
 },
 "nbformat": 4,
 "nbformat_minor": 5
}
