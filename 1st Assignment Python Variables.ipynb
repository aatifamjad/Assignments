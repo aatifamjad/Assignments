{
 "cells": [
  {
   "cell_type": "markdown",
   "id": "97705fe8-997b-41aa-a060-a01152eaea2c",
   "metadata": {},
   "source": [
    "Q1. Write all the conventions being followed while declaring a variable.\n",
    "\n",
    "Q2. What will happen if we declare a restricted keyword as a variable?\n",
    "\n",
    "Q3. Can we actually declare a string as a variable name?\n",
    "\n",
    "Q4. Is it possible for us to declare “_” as a variable? If so, then write an example of it.\n",
    "\n",
    "Q5. Using an example, explain how the variables in python are dynamic in nature."
   ]
  },
  {
   "cell_type": "markdown",
   "id": "bc92bfe0-81a8-4996-a860-7665fd2ca0a4",
   "metadata": {},
   "source": [
    "Answer 1...\n",
    "\n",
    "Conventions being followed while declaring a variable in Python:\n",
    "\n",
    "a) Variable names can only contain alphanumeric characters (letters and numbers) and underscores (_).\n",
    "\n",
    "b) The first character of a variable name cannot be a number.\n",
    "\n",
    "c) Variable names are case sensitive (e.g., 'age' and 'Age' are different variables).\n",
    "\n",
    "d) Variable names should be descriptive and give an idea of what the variable represents.\n",
    "\n",
    "e) Variable names should not be a reserved keyword in Python (e.g., if, for, while, etc.)."
   ]
  },
  {
   "cell_type": "markdown",
   "id": "69b0a98b-478e-4354-b803-9ee17ad833c5",
   "metadata": {},
   "source": [
    "Answer 2...\n",
    "\n",
    "If we declare a restricted keyword as a variable, Python will throw a syntax error. For example, if we declare a variable named 'if', we will get a syntax error like \"invalid syntax\"."
   ]
  },
  {
   "cell_type": "markdown",
   "id": "dace4fef-ed71-4252-bb59-6b54071c463d",
   "metadata": {},
   "source": [
    "Answer 3...\n",
    "\n",
    "Yes, we can declare a string as a variable name in Python. For example, we can declare a variable named \"name\" as follows:"
   ]
  },
  {
   "cell_type": "code",
   "execution_count": null,
   "id": "1b485fd6-1698-4472-a1b7-756ae49f47c8",
   "metadata": {},
   "outputs": [],
   "source": [
    "name = \"John\"\n"
   ]
  },
  {
   "cell_type": "markdown",
   "id": "a3fab182-5fbc-48ad-bf4c-73212594b2c8",
   "metadata": {},
   "source": [
    "Answer 4...\n",
    "\n",
    "Yes, we can declare \"_\" as a variable name in Python. It is often used as a placeholder variable name when we don't care about the actual value of the variable. For example:\n",
    "\n"
   ]
  },
  {
   "cell_type": "code",
   "execution_count": null,
   "id": "49e63f9d-859e-4a04-8143-cc4d105749e0",
   "metadata": {},
   "outputs": [],
   "source": [
    "_ = 10\n"
   ]
  },
  {
   "cell_type": "markdown",
   "id": "f896a5c1-96d2-4cf0-ac8a-941c8bfb89e4",
   "metadata": {},
   "source": [
    "In this case, we are assigning the value of 10 to the variable \"_\", but we are not planning to use this value later in the code."
   ]
  },
  {
   "cell_type": "markdown",
   "id": "51ef2aed-4761-4965-8b7a-927c4b58734a",
   "metadata": {},
   "source": [
    "Answer 5...\n",
    "\n",
    "In Python, variables are dynamic in nature, which means that the data type of a variable can change during the execution of the program. For example, we can initialize a variable with an integer value and later change its value to a string."
   ]
  },
  {
   "cell_type": "code",
   "execution_count": null,
   "id": "c5d847c6-e560-4ca8-a46b-6ea61d333866",
   "metadata": {},
   "outputs": [],
   "source": [
    "age = 30\n",
    "print(age)  # Output: 30\n",
    "\n",
    "age = \"thirty\"\n",
    "print(age)  # Output: thirty\n"
   ]
  },
  {
   "cell_type": "markdown",
   "id": "bb20132e-f67b-4873-ba99-238cfe145f29",
   "metadata": {},
   "source": [
    "In this example, we first initialize the variable \"age\" with an integer value of 30, and then we change its value to a string \"thirty\". Python allows this kind of flexibility in variable assignment, which makes it easy to write dynamic and flexible programs."
   ]
  },
  {
   "cell_type": "code",
   "execution_count": null,
   "id": "e9dab207-ddeb-42a7-b864-9dcefa3e8884",
   "metadata": {},
   "outputs": [],
   "source": []
  }
 ],
 "metadata": {
  "kernelspec": {
   "display_name": "Python 3 (ipykernel)",
   "language": "python",
   "name": "python3"
  },
  "language_info": {
   "codemirror_mode": {
    "name": "ipython",
    "version": 3
   },
   "file_extension": ".py",
   "mimetype": "text/x-python",
   "name": "python",
   "nbconvert_exporter": "python",
   "pygments_lexer": "ipython3",
   "version": "3.10.8"
  }
 },
 "nbformat": 4,
 "nbformat_minor": 5
}
