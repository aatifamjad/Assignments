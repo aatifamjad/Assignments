{
 "cells": [
  {
   "cell_type": "markdown",
   "id": "c79d75df-5415-40e5-bc63-67f35f914072",
   "metadata": {},
   "source": [
    "Q1- Explain the following with example\n",
    "\n",
    "1 Artificial Intelligence\n",
    "\n",
    "2 Machine learning\n",
    "\n",
    "3 Deep learning"
   ]
  },
  {
   "cell_type": "markdown",
   "id": "85e84a23-d1f7-4eba-9f50-c0ffa8d4531f",
   "metadata": {},
   "source": [
    "Answer 1...\n",
    "1) Artificial Intelligence\n",
    "\n",
    "AI refers to the simulation of human intelligence in machines that are programmed to think and act like humans. AI encompasses a range of technologies, including machine learning, natural language processing, and robotics.\n",
    "\n",
    "2) Machine Learning\n",
    "\n",
    "Machine learning is a subset of AI that involves the use of algorithms to enable machines to learn from data without being explicitly programmed. It is based on the idea that machines can learn from experience, much like humans.\n",
    "\n",
    "3) Deep Learning\n",
    "\n",
    "Deep learning is a subset of machine learning that involves the use of deep neural networks to learn from data. It is particularly useful for tasks that involve large amounts of data, such as image and speech recognition."
   ]
  },
  {
   "cell_type": "markdown",
   "id": "00a9764d-8cf2-4f18-8f9a-c34eed63d976",
   "metadata": {},
   "source": [
    "Q2- What is supervised learning? list some example of supervised learning."
   ]
  },
  {
   "cell_type": "markdown",
   "id": "401347be-49a5-41d7-83d2-1c6f5e3ecddb",
   "metadata": {},
   "source": [
    "Answer 2...\n",
    "\n",
    "Supervised learning involves the use of labeled data to train a machine learning model. Some examples of supervised learning include image classification, speech recognition, and text classification."
   ]
  },
  {
   "cell_type": "markdown",
   "id": "0a79bf8c-be14-486f-9374-8fab238419d0",
   "metadata": {},
   "source": [
    "Q3- What is Unsupervised learning? list some example of Unsupervised learning."
   ]
  },
  {
   "cell_type": "markdown",
   "id": "4b4ca37f-6061-42cd-ab8b-54448a79ab3e",
   "metadata": {},
   "source": [
    "Answer 3...\n",
    "\n",
    "Unsupervised learning involves the use of unlabeled data to train a machine learning model. Some examples of unsupervised learning include clustering, anomaly detection, and dimensionality reduction."
   ]
  },
  {
   "cell_type": "markdown",
   "id": "2cd8f726-96cd-40ec-b4d0-e3c5f70fbe82",
   "metadata": {},
   "source": [
    "Q4- What is the difference between AI, ML, DL, and DS?\n",
    "\n",
    "Answer 4...\n",
    "\n",
    "AI is the broader field that encompasses all technologies that enable machines to simulate human intelligence.\n",
    "\n",
    "ML is a subset of AI that focuses on enabling machines to learn from data.\n",
    "\n",
    "DL is a subset of ML that involves the use of deep neural networks. DS refers to the field of study that involves the extraction of knowledge from data."
   ]
  },
  {
   "cell_type": "markdown",
   "id": "52dd5362-d2ec-466d-a922-2d04b53d4bc9",
   "metadata": {},
   "source": [
    "Q5- What are the main difference between supervised, unsupervised, and semi-supervised learning?\n",
    "\n",
    "Answer 5....\n",
    "\n",
    "The main difference between supervised, unsupervised, and semi-supervised learning is the type of data used for training. Supervised learning uses labeled data, unsupervised learning uses unlabeled data, and semi-supervised learning uses a combination of both."
   ]
  },
  {
   "cell_type": "markdown",
   "id": "76edfe0a-187e-40b5-a12a-a18c16476f32",
   "metadata": {},
   "source": [
    "Q6- What is train, test and validation split? Explain the importance of each term.\n",
    "\n",
    "Answer 6...\n",
    "\n",
    " Train, test, and validation split is a technique used in machine learning to evaluate the performance of a model. The training data is used to train the model, the test data is used to evaluate the performance of the model, and the validation data is used to fine-tune the model."
   ]
  },
  {
   "cell_type": "markdown",
   "id": "b0b9639f-7c98-4b0a-ae3f-cc7024363c04",
   "metadata": {},
   "source": [
    "Q7- How can unsupervised learning be used in anomaly detection?\n",
    "\n",
    "Answer 7...\n",
    "\n",
    "Unsupervised learning can be used in anomaly detection by identifying patterns in data that deviate from the norm. Anomaly detection is particularly useful in detecting fraudulent activities, network intrusion, and medical diagnoses."
   ]
  },
  {
   "cell_type": "markdown",
   "id": "8bf8d72b-9347-4c70-8e0f-732cf6b0d6cf",
   "metadata": {},
   "source": [
    "Q8- List down some commonly used supervised learning algorithms and unsupervised learning\n",
    "algorithms.\n",
    "\n",
    "Answer 8...\n",
    "\n",
    " Some commonly used supervised learning algorithms include linear regression, logistic regression, decision trees, and random forests. Some commonly used unsupervised learning algorithms include k-means clustering, principal component analysis, and association rule learning."
   ]
  },
  {
   "cell_type": "code",
   "execution_count": null,
   "id": "414345e3-9f21-40ea-8062-2fa5328694c8",
   "metadata": {},
   "outputs": [],
   "source": []
  }
 ],
 "metadata": {
  "kernelspec": {
   "display_name": "Python 3 (ipykernel)",
   "language": "python",
   "name": "python3"
  },
  "language_info": {
   "codemirror_mode": {
    "name": "ipython",
    "version": 3
   },
   "file_extension": ".py",
   "mimetype": "text/x-python",
   "name": "python",
   "nbconvert_exporter": "python",
   "pygments_lexer": "ipython3",
   "version": "3.10.8"
  }
 },
 "nbformat": 4,
 "nbformat_minor": 5
}
