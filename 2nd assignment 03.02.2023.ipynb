{
 "cells": [
  {
   "cell_type": "markdown",
   "id": "d9bcb2e2-48f0-4a90-a370-64591926a257",
   "metadata": {},
   "source": [
    "2nd Assignment 03.02.2023 "
   ]
  },
  {
   "cell_type": "markdown",
   "id": "7d07a861-1b20-4545-9d47-43c3805aac95",
   "metadata": {},
   "source": [
    "Q1. Which keyword is used to create a function? Create a function to return a list of odd numbers in the\n",
    "range of 1 to 25."
   ]
  },
  {
   "cell_type": "markdown",
   "id": "bd22afbe-6e1a-40d4-b6a7-466efd37c449",
   "metadata": {},
   "source": [
    "\"def\" keyword is used to create functions"
   ]
  },
  {
   "cell_type": "code",
   "execution_count": 2,
   "id": "49db3be6-f49d-472d-8fc3-1d67e8133dff",
   "metadata": {},
   "outputs": [
    {
     "name": "stdout",
     "output_type": "stream",
     "text": [
      "[1, 3, 5, 7, 9, 11, 13, 15, 17, 19, 21, 23, 25]\n"
     ]
    }
   ],
   "source": [
    "def get_odd_numbers(n):\n",
    "    odd_numbers = [x for x in range(1, n+1) if x % 2 != 0]\n",
    "    return odd_numbers\n",
    "\n",
    "print(get_odd_numbers(25))\n"
   ]
  },
  {
   "cell_type": "markdown",
   "id": "0a9a4504-54c2-4caa-b4bb-a6f6ef89187e",
   "metadata": {},
   "source": [
    "Q2. Why *args and **kwargs is used in some functions? Create a function each for *args and **kwargs\n",
    "to demonstrate their use."
   ]
  },
  {
   "cell_type": "markdown",
   "id": "8bbfa9b9-6b71-422a-a27d-e874f4c64eb5",
   "metadata": {},
   "source": [
    "*args is used to pass a variable number of non-keyword arguments to a function. The arguments are passed as a tuple."
   ]
  },
  {
   "cell_type": "code",
   "execution_count": 5,
   "id": "8755bccf-b4b2-4eaf-b96c-644b771021bf",
   "metadata": {},
   "outputs": [
    {
     "name": "stdout",
     "output_type": "stream",
     "text": [
      "(1, 2, 3, 4)\n"
     ]
    }
   ],
   "source": [
    "def print_args(*args):\n",
    "    print(args)\n",
    "\n",
    "print_args(1, 2, 3, 4)\n"
   ]
  },
  {
   "cell_type": "markdown",
   "id": "d9c2ae7c-9d18-4572-ad5d-1d99da5c9a9d",
   "metadata": {},
   "source": [
    "**kwargs is used to pass a keyworded, variable-length argument list. The arguments are passed as a dictionary."
   ]
  },
  {
   "cell_type": "code",
   "execution_count": 6,
   "id": "71d21cf8-3c67-49a8-9c02-66eaa4317160",
   "metadata": {},
   "outputs": [
    {
     "name": "stdout",
     "output_type": "stream",
     "text": [
      "{'a': 1, 'b': 2, 'c': 3}\n"
     ]
    }
   ],
   "source": [
    "def print_kwargs(**kwargs):\n",
    "    print(kwargs)\n",
    "\n",
    "print_kwargs(a=1, b=2, c=3)\n",
    "\n"
   ]
  },
  {
   "cell_type": "markdown",
   "id": "8e77f55e-dff3-4bac-9189-9ae3de244159",
   "metadata": {},
   "source": [
    "Q3. What is an iterator in python? Name the method used to initialise the iterator object and the method\n",
    "used for iteration. Use these methods to print the first five elements of the given list [2, 4, 6, 8, 10, 12, 14,\n",
    "16, 18, 20]."
   ]
  },
  {
   "cell_type": "markdown",
   "id": "8a1ad74b-9c81-4a92-b4e3-1bfdaac059d1",
   "metadata": {},
   "source": [
    "An iterator in Python is an object that can be iterated (looped) upon. An object which implements the iterator protocol, which consists of the methods __iter__() and __next__().\n",
    "\n",
    "The __iter__ method is used to initialize the iterator object and the __next__ method is used for iteration. The __next__ method returns the next value from the iterator, and raises StopIteration when there are no more items to return"
   ]
  },
  {
   "cell_type": "code",
   "execution_count": 7,
   "id": "bb46325b-24ea-4888-b27a-78845fdab5aa",
   "metadata": {},
   "outputs": [
    {
     "name": "stdout",
     "output_type": "stream",
     "text": [
      "2\n",
      "4\n",
      "6\n",
      "8\n",
      "10\n"
     ]
    }
   ],
   "source": [
    "numbers = [2, 4, 6, 8, 10, 12, 14, 16, 18, 20]\n",
    "\n",
    "class IterateList:\n",
    "    def __init__(self, numbers):\n",
    "        self.numbers = numbers\n",
    "        self.index = 0\n",
    "\n",
    "    def __iter__(self):\n",
    "        return self\n",
    "\n",
    "    def __next__(self):\n",
    "        if self.index < len(self.numbers):\n",
    "            number = self.numbers[self.index]\n",
    "            self.index += 1\n",
    "            return number\n",
    "        else:\n",
    "            raise StopIteration\n",
    "\n",
    "numbers_iterator = IterateList(numbers)\n",
    "\n",
    "for i in range(5):\n",
    "    print(next(numbers_iterator))\n"
   ]
  },
  {
   "cell_type": "markdown",
   "id": "3bcd21a6-9687-4a55-b238-89967c86d564",
   "metadata": {},
   "source": [
    "Q4. What is a generator function in python? Why yield keyword is used? Give an example of a generator\n",
    "function."
   ]
  },
  {
   "cell_type": "markdown",
   "id": "345ad6aa-846e-49f4-a21b-a694fca7719a",
   "metadata": {},
   "source": [
    "A generator function in Python is a special kind of function that returns a generator iterator, which is an object with a __next__ method (similar to other iterators) that generates values on the fly. The difference between a normal function and a generator function is that a normal function runs to completion and returns a single value, while a generator function can be paused multiple times and generates a sequence of values.\n",
    "\n",
    "The yield keyword is used to return a value from the generator function, but instead of ending the function, it saves its state and can be resumed later, allowing it to generate a sequence of values over time. When the generator function is resumed, it picks up where it left off and continues to execute until it encounters the next yield statement."
   ]
  },
  {
   "cell_type": "code",
   "execution_count": 8,
   "id": "e710497c-94b5-402b-9c48-a19c4f2a370e",
   "metadata": {},
   "outputs": [
    {
     "name": "stdout",
     "output_type": "stream",
     "text": [
      "0\n",
      "1\n",
      "4\n",
      "9\n",
      "16\n"
     ]
    }
   ],
   "source": [
    "def squares(n):\n",
    "    for i in range(n):\n",
    "        yield i**2\n",
    "\n",
    "for square in squares(5):\n",
    "    print(square)\n"
   ]
  },
  {
   "cell_type": "markdown",
   "id": "1cb40900-4a0e-4e1b-bcb5-e4f190e8fe9b",
   "metadata": {},
   "source": [
    "Q5. Create a generator function for prime numbers less than 1000. Use the next() method to print the\n",
    "first 20 prime numbers."
   ]
  },
  {
   "cell_type": "code",
   "execution_count": 9,
   "id": "4d92c067-58c3-4187-9e4d-45d8b895a826",
   "metadata": {},
   "outputs": [
    {
     "name": "stdout",
     "output_type": "stream",
     "text": [
      "2\n",
      "3\n",
      "5\n",
      "7\n",
      "11\n",
      "13\n",
      "17\n",
      "19\n",
      "23\n",
      "29\n",
      "31\n",
      "37\n",
      "41\n",
      "43\n",
      "47\n",
      "53\n",
      "59\n",
      "61\n",
      "67\n",
      "71\n"
     ]
    }
   ],
   "source": [
    "def prime_numbers():\n",
    "    yield 2\n",
    "    primes = [2]\n",
    "    n = 3\n",
    "    while n < 1000:\n",
    "        is_prime = True\n",
    "        for p in primes:\n",
    "            if n % p == 0:\n",
    "                is_prime = False\n",
    "                break\n",
    "        if is_prime:\n",
    "            primes.append(n)\n",
    "            yield n\n",
    "        n += 2\n",
    "\n",
    "prime_gen = prime_numbers()\n",
    "\n",
    "for i in range(20):\n",
    "    print(next(prime_gen))\n",
    "\n"
   ]
  },
  {
   "cell_type": "markdown",
   "id": "e154e57d-5307-4b7f-8808-b7d1666695b7",
   "metadata": {},
   "source": [
    "Q6. Write a python program to print the first 10 Fibonacci numbers using a while loop."
   ]
  },
  {
   "cell_type": "code",
   "execution_count": 11,
   "id": "71496a6e-a000-43b3-be9c-e69214c448af",
   "metadata": {},
   "outputs": [
    {
     "name": "stdout",
     "output_type": "stream",
     "text": [
      "0\n",
      "1\n",
      "1\n",
      "2\n",
      "3\n",
      "5\n",
      "8\n",
      "13\n",
      "21\n",
      "34\n"
     ]
    }
   ],
   "source": [
    "def fibonacci(n):\n",
    "    a, b = 0, 1\n",
    "    while n > 0:\n",
    "        print(a)\n",
    "        a, b = b, a + b\n",
    "        n -= 1\n",
    "\n",
    "fibonacci(10)\n"
   ]
  },
  {
   "cell_type": "markdown",
   "id": "f59a1e67-1303-47f4-b72b-ec55dacd4d57",
   "metadata": {},
   "source": [
    "Q7. Write a List Comprehension to iterate through the given string: ‘pwskills’.\n",
    "Expected output: ['p', 'w', 's', 'k', 'i', 'l', 'l', 's']"
   ]
  },
  {
   "cell_type": "code",
   "execution_count": 13,
   "id": "d6e8ce1e-0620-462a-902d-e448f55fc20e",
   "metadata": {},
   "outputs": [
    {
     "name": "stdout",
     "output_type": "stream",
     "text": [
      "['p', 'w', 's', 'k', 'i', 'l', 'l', 's']\n"
     ]
    }
   ],
   "source": [
    "string = 'pwskills'\n",
    "letters = [letter for letter in string]\n",
    "print(letters)\n"
   ]
  },
  {
   "cell_type": "markdown",
   "id": "8c314f87-8927-43d0-b935-369b99219365",
   "metadata": {},
   "source": [
    "Q8. Write a python program to check whether a given number is Palindrome or not using a while loop."
   ]
  },
  {
   "cell_type": "code",
   "execution_count": 14,
   "id": "fb8ca4b9-44d2-44da-a24f-9906bfe1fe03",
   "metadata": {},
   "outputs": [
    {
     "name": "stdout",
     "output_type": "stream",
     "text": [
      "True\n"
     ]
    }
   ],
   "source": [
    "def is_palindrome(n):\n",
    "    original = n\n",
    "    reverse = 0\n",
    "    while n > 0:\n",
    "        reverse = reverse * 10 + n % 10\n",
    "        n = n // 10\n",
    "    return original == reverse\n",
    "\n",
    "number = 121\n",
    "print(is_palindrome(number))\n"
   ]
  },
  {
   "cell_type": "markdown",
   "id": "57c39310-13ff-4627-8f17-831690fc88dc",
   "metadata": {},
   "source": [
    "Q9. Write a code to print odd numbers from 1 to 100 using list comprehension.\n",
    "Note: Use a list comprehension to create a list from 1 to 100 and use another List comprehension to filter\n",
    "out odd numbers."
   ]
  },
  {
   "cell_type": "code",
   "execution_count": 16,
   "id": "f489a39b-a8ec-46b2-97ed-ea6c62f054eb",
   "metadata": {},
   "outputs": [
    {
     "name": "stdout",
     "output_type": "stream",
     "text": [
      "[1, 3, 5, 7, 9, 11, 13, 15, 17, 19, 21, 23, 25, 27, 29, 31, 33, 35, 37, 39, 41, 43, 45, 47, 49, 51, 53, 55, 57, 59, 61, 63, 65, 67, 69, 71, 73, 75, 77, 79, 81, 83, 85, 87, 89, 91, 93, 95, 97, 99]\n"
     ]
    }
   ],
   "source": [
    "numbers = [x for x in range(1, 101)]\n",
    "odd_numbers = [x for x in numbers if x % 2 != 0]\n",
    "print(odd_numbers)"
   ]
  },
  {
   "cell_type": "code",
   "execution_count": null,
   "id": "8c8c29e2-ef02-437f-8fc4-47f62624a277",
   "metadata": {},
   "outputs": [],
   "source": []
  }
 ],
 "metadata": {
  "kernelspec": {
   "display_name": "Python 3 (ipykernel)",
   "language": "python",
   "name": "python3"
  },
  "language_info": {
   "codemirror_mode": {
    "name": "ipython",
    "version": 3
   },
   "file_extension": ".py",
   "mimetype": "text/x-python",
   "name": "python",
   "nbconvert_exporter": "python",
   "pygments_lexer": "ipython3",
   "version": "3.10.8"
  }
 },
 "nbformat": 4,
 "nbformat_minor": 5
}
