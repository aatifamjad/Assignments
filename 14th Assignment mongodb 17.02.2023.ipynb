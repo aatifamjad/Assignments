{
 "cells": [
  {
   "cell_type": "markdown",
   "id": "14e823aa-da5f-463d-96bd-7592b8dde984",
   "metadata": {},
   "source": [
    "Q1. What is MongoDB? Explain non-relational databases in short. In which scenarios it is preferred to use\n",
    "MongoDB over SQL databases?"
   ]
  },
  {
   "cell_type": "markdown",
   "id": "44cac512-b52b-4e8a-91d7-677bd4cdb044",
   "metadata": {},
   "source": [
    "Answer\n",
    "\n",
    "MongoDB is a popular document-oriented NoSQL database system that is designed to store and manage unstructured and semi-structured data. Unlike traditional SQL databases that use tables to store data, MongoDB stores data in flexible, JSON-like documents that can have different structures and fields.\n",
    "\n",
    "Non-relational databases, or NoSQL databases, are a type of database system that do not rely on the traditional relational model used in SQL databases. They are designed to handle large volumes of unstructured and semi-structured data, such as text, images, videos, and social media data, that do not fit well into a fixed schema.\n",
    "\n",
    "MongoDB is often preferred over SQL databases in scenarios where you need to handle large volumes of unstructured data, where the schema of the data is not predefined, or where you need to scale your database horizontally across multiple servers. "
   ]
  },
  {
   "cell_type": "markdown",
   "id": "7c939dbe-a411-45f7-b47b-3ec5ca54957b",
   "metadata": {},
   "source": [
    "Q2. State and Explain the features of MongoDB."
   ]
  },
  {
   "cell_type": "markdown",
   "id": "f197b6fd-8f1b-4785-8bea-0f14772553b2",
   "metadata": {},
   "source": [
    "Answer\n",
    "\n",
    "MongoDB is a popular document-oriented NoSQL database system that offers several features that make it a popular choice for handling unstructured and semi-structured data. Some of the key features of MongoDB include:\n",
    "\n",
    "\n",
    "1) Document-oriented data model: MongoDB stores data in flexible, JSON-like documents that can have varying structures and fields, making it well-suited for handling unstructured and semi-structured data.\n",
    "\n",
    "2) Geospatial indexing: MongoDB has built-in support for geospatial indexing and queries, making it a popular choice for location-based applications.\n",
    "\n",
    "3) Security: MongoDB supports advanced security features such as authentication, access control, encryption at rest and in transit, and auditing to protect your data.\n",
    "\n",
    "4) Aggregation framework: MongoDB's powerful aggregation framework provides advanced data processing and analysis capabilities, making it easy to perform complex data analytics tasks."
   ]
  },
  {
   "cell_type": "markdown",
   "id": "28f04f10-91f2-45dd-9333-5ae26bab248b",
   "metadata": {},
   "source": [
    "Q3. Write a code to connect MongoDB to Python. Also, create a database and a collection in MongoDB."
   ]
  },
  {
   "cell_type": "markdown",
   "id": "3dc0a730-f8dd-49cd-a39a-33c20f8b5971",
   "metadata": {},
   "source": [
    "Answer\n",
    "\n",
    "To connect MongoDB to Python, you need to install the pymongo driver, which is a Python library for connecting to MongoDB. You can install it using pip, the Python package manager, by running the following command in your terminal:\n",
    "\n",
    "pip install pymongo\n",
    "\n",
    "Once you have installed the pymongo library, you can use the following Python code to connect to MongoDB, create a database, and create a collection:\n",
    "\n",
    "import pymongo\n",
    "\n",
    "# Connect to MongoDB\n",
    "client = pymongo.MongoClient('mongodb://localhost:27017/')\n",
    "\n",
    "# Create a new database\n",
    "db = client['mydatabase']\n",
    "\n",
    "# Create a new collection in the database\n",
    "collection = db['mycollection']\n",
    "\n",
    "\n",
    "In the above code, we first import the pymongo library, then create a new MongoClient object to connect to MongoDB. We specify the MongoDB server URL and port number in the connection string. In this example, we are connecting to a MongoDB server running on the local machine at the default port number 27017.\n",
    "\n",
    "Next, we create a new database object by calling the client object with the name of the database we want to create. In this example, we are creating a new database called mydatabase.\n",
    "\n",
    "Finally, we create a new collection object by calling the db object with the name of the collection we want to create. In this example, we are creating a new collection called mycollection.\n",
    "\n",
    "Now you can use the collection object to insert, retrieve, update, and delete documents in the collection using Python."
   ]
  },
  {
   "cell_type": "markdown",
   "id": "9a7d77f6-a150-4dc5-96f0-e07b70dfff88",
   "metadata": {},
   "source": [
    "Q4. Using the database and the collection created in question number 3, write a code to insert one record,\n",
    "and insert many records. Use the find() and find_one() methods to print the inserted record."
   ]
  },
  {
   "cell_type": "markdown",
   "id": "09621e4d-8fe2-4a90-8209-5b312318822b",
   "metadata": {},
   "source": [
    "Answer\n",
    "\n",
    "Sure, here's some Python code to insert records into the mycollection collection in the mydatabase database that we created in question 3, and then use the find() and find_one() methods to print the inserted records:\n",
    "\n",
    "import pymongo\n",
    "\n",
    "# Connect to MongoDB\n",
    "client = pymongo.MongoClient('mongodb://localhost:27017/')\n",
    "db = client['mydatabase']\n",
    "collection = db['mycollection']\n",
    "\n",
    "# Insert one record\n",
    "record = {'name': 'John Doe', 'age': 30, 'city': 'New York'}\n",
    "inserted_record = collection.insert_one(record)\n",
    "print(f\"Inserted record with ID: {inserted_record.inserted_id}\")\n",
    "\n",
    "# Insert many records\n",
    "records = [\n",
    "    {'name': 'Alice Smith', 'age': 25, 'city': 'Los Angeles'},\n",
    "    {'name': 'Bob Johnson', 'age': 35, 'city': 'San Francisco'},\n",
    "    {'name': 'Charlie Brown', 'age': 40, 'city': 'Seattle'}\n",
    "]\n",
    "inserted_records = collection.insert_many(records)\n",
    "print(f\"Inserted {len(inserted_records.inserted_ids)} records\")\n",
    "\n",
    "# Find one record\n",
    "one_record = collection.find_one()\n",
    "print(one_record)\n",
    "\n",
    "# Find all records\n",
    "all_records = collection.find()\n",
    "for record in all_records:\n",
    "    print(record)\n",
    "\n",
    "\n"
   ]
  },
  {
   "cell_type": "markdown",
   "id": "90790b27-a888-4cea-a17e-8c2328153071",
   "metadata": {},
   "source": [
    "Q5. Explain how you can use the find() method to query the MongoDB database. Write a simple code to\n",
    "demonstrate this."
   ]
  },
  {
   "cell_type": "markdown",
   "id": "a0d6b3cd-3fd8-4425-9f4f-21125e9a5a41",
   "metadata": {},
   "source": [
    "Answer\n",
    "\n",
    "The find() method is used to query the MongoDB database and retrieve documents from a collection that match a specific set of criteria. The find() method returns a cursor object that we can use to iterate over the matching documents.\n",
    "\n",
    "To use the find() method to query the MongoDB database, we pass a query object as a parameter to the method. The query object specifies the criteria that we want to use to filter the documents in the collection. The query object can contain one or more key-value pairs that represent the fields and values that we want to match.\n",
    "\n",
    "Here's a simple code example that demonstrates how to use the find() method to query the MongoDB database and retrieve documents from a collection:\n",
    "\n",
    "import pymongo\n",
    "\n",
    "# Connect to MongoDB\n",
    "client = pymongo.MongoClient('mongodb://localhost:27017/')\n",
    "db = client['mydatabase']\n",
    "collection = db['mycollection']\n",
    "\n",
    "# Insert some test data\n",
    "collection.insert_many([\n",
    "    {'name': 'Alice', 'age': 25, 'city': 'Los Angeles'},\n",
    "    {'name': 'Bob', 'age': 30, 'city': 'San Francisco'},\n",
    "    {'name': 'Charlie', 'age': 35, 'city': 'Seattle'},\n",
    "    {'name': 'David', 'age': 40, 'city': 'New York'}\n",
    "])\n",
    "\n",
    "# Query the database\n",
    "query = {'age': {'$gte': 30}}\n",
    "results = collection.find(query)\n",
    "\n",
    "# Print the matching documents\n",
    "for result in results:\n",
    "    print(result)\n"
   ]
  },
  {
   "cell_type": "markdown",
   "id": "41501e7a-73cb-4b8a-9f5d-a652945a191a",
   "metadata": {},
   "source": [
    "Q6. Explain the sort() method. Give an example to demonstrate sorting in MongoDB."
   ]
  },
  {
   "cell_type": "markdown",
   "id": "6d92cf84-8c73-4741-bc86-4f67ec601933",
   "metadata": {},
   "source": [
    "Answer\n",
    "\n",
    "The sort() method is used in MongoDB to sort the results of a query in ascending or descending order based on one or more fields. The sort() method takes a field or list of fields to sort on and an optional direction of sorting (ascending or descending).\n",
    "\n",
    "\n"
   ]
  },
  {
   "cell_type": "code",
   "execution_count": 1,
   "id": "5f64d2b8-eb35-4b55-a46a-f1f5ba1c28d5",
   "metadata": {},
   "outputs": [
    {
     "data": {
      "text/plain": [
       "{'_id': 4, 'name': 'David', 'age': 21, 'grade': 'B'}"
      ]
     },
     "execution_count": 1,
     "metadata": {},
     "output_type": "execute_result"
    }
   ],
   "source": [
    "{ \"_id\" : 1, \"name\" : \"Alice\", \"age\" : 20, \"grade\" : \"A\" }\n",
    "{ \"_id\" : 2, \"name\" : \"Bob\", \"age\" : 22, \"grade\" : \"B\" }\n",
    "{ \"_id\" : 3, \"name\" : \"Charlie\", \"age\" : 18, \"grade\" : \"C\" }\n",
    "{ \"_id\" : 4, \"name\" : \"David\", \"age\" : 21, \"grade\" : \"B\" }\n"
   ]
  },
  {
   "cell_type": "code",
   "execution_count": null,
   "id": "96ccfcf5-d886-49d8-962c-605505bb9791",
   "metadata": {},
   "outputs": [],
   "source": [
    "# To sort the documents in the students collection by the age field in ascending order, we can use the following sort() method:\n",
    "\n",
    "db.students.find().sort({ age: 1 })\n"
   ]
  },
  {
   "cell_type": "code",
   "execution_count": null,
   "id": "e62363a9-01c4-4d3b-a970-4eee91ea0825",
   "metadata": {},
   "outputs": [],
   "source": [
    "#This will return the following output:\n",
    "\n",
    "{ \"_id\" : 3, \"name\" : \"Charlie\", \"age\" : 18, \"grade\" : \"C\" }\n",
    "{ \"_id\" : 1, \"name\" : \"Alice\", \"age\" : 20, \"grade\" : \"A\" }\n",
    "{ \"_id\" : 4, \"name\" : \"David\", \"age\" : 21, \"grade\" : \"B\" }\n",
    "{ \"_id\" : 2, \"name\" : \"Bob\", \"age\" : 22, \"grade\" : \"B\" }\n"
   ]
  },
  {
   "cell_type": "markdown",
   "id": "e4d68a23-b286-4a7f-a16d-21c3e05389d6",
   "metadata": {},
   "source": [
    "Q7. Explain why delete_one(), delete_many(), and drop() is used."
   ]
  },
  {
   "cell_type": "markdown",
   "id": "7ca5a038-20a7-44df-a66e-a14b749fbc25",
   "metadata": {},
   "source": [
    "Answer\n",
    "\n",
    "In MongoDB, there are different methods available to delete documents from a collection, depending on the specific use case. The three main methods for deleting documents from a collection in MongoDB are delete_one(), delete_many(), and drop().\n",
    "\n",
    "delete_one() method: This method is used to delete a single document that matches a specified filter. It takes a single parameter that is a document filter that specifies the document to be deleted. If multiple documents match the filter, only the first matching document will be deleted. If no documents match the filter, nothing will be deleted.\n",
    "Here's an example of using delete_one() to delete a single document from a collection:\n",
    "\n",
    "css\n",
    "Copy code\n",
    "db.students.delete_one({ name: \"Alice\" })\n",
    "This will delete the first document that matches the filter { name: \"Alice\" } from the students collection.\n",
    "\n",
    "delete_many() method: This method is used to delete all documents that match a specified filter. It takes a single parameter that is a document filter that specifies the documents to be deleted. If no documents match the filter, nothing will be deleted.\n",
    "Here's an example of using delete_many() to delete multiple documents from a collection:\n",
    "\n",
    "css\n",
    "Copy code\n",
    "db.students.delete_many({ grade: \"B\" })\n",
    "This will delete all documents that match the filter { grade: \"B\" } from the students collection.\n",
    "\n",
    "drop() method: This method is used to remove an entire collection from a database. It does not take any parameters and will permanently remove the collection and all of its documents.\n",
    "Here's an example of using drop() to remove a collection:\n",
    "\n",
    "scss\n",
    "Copy code\n",
    "db.students.drop()\n",
    "This will permanently remove the students collection and all of its documents from the database.\n",
    "\n",
    "In summary, delete_one() is used to delete a single document that matches a specified filter, delete_many() is used to delete all documents that match a specified filter, and drop() is used to remove an entire collection and all of its documents from the database.\n",
    "\n",
    "\n",
    "\n",
    "\n",
    "Regenerate response"
   ]
  },
  {
   "cell_type": "code",
   "execution_count": null,
   "id": "e2354df3-2cdb-4b7a-926e-382e60dfa4f2",
   "metadata": {},
   "outputs": [],
   "source": []
  }
 ],
 "metadata": {
  "kernelspec": {
   "display_name": "Python 3 (ipykernel)",
   "language": "python",
   "name": "python3"
  },
  "language_info": {
   "codemirror_mode": {
    "name": "ipython",
    "version": 3
   },
   "file_extension": ".py",
   "mimetype": "text/x-python",
   "name": "python",
   "nbconvert_exporter": "python",
   "pygments_lexer": "ipython3",
   "version": "3.10.8"
  }
 },
 "nbformat": 4,
 "nbformat_minor": 5
}
