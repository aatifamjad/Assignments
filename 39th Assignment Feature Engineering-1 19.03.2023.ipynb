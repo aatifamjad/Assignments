{
 "cells": [
  {
   "cell_type": "markdown",
   "id": "2b35ae80-4d4c-4da9-8cbe-19f57a153d08",
   "metadata": {},
   "source": [
    "Q1: What are missing values in a dataset? Why is it essential to handle missing values? Name some\n",
    "algorithms that are not affected by missing values.\n",
    "\n",
    "Answer...\n",
    "\n",
    "Missing values are those values in a dataset that are not available or not recorded for some reason. It is essential to handle missing values as they can lead to biased or incorrect analyses and predictions, and can also reduce the power of statistical tests. Some algorithms that are not affected by missing values are decision trees and random forests."
   ]
  },
  {
   "cell_type": "markdown",
   "id": "d2b323c9-e09b-483f-a62f-011d8ce24227",
   "metadata": {},
   "source": [
    "Q2: List down techniques used to handle missing data. Give an example of each with python code.\n",
    "\n"
   ]
  },
  {
   "cell_type": "code",
   "execution_count": null,
   "id": "ba82a834-6722-4ca9-ab38-c4c77b8c3a12",
   "metadata": {},
   "outputs": [],
   "source": [
    "# Answer 2...\n",
    "\n",
    "# Techniques used to handle missing data include:\n",
    "\n",
    "# Deletion: Remove rows or columns with missing values. For example:\n",
    "\n",
    "df.dropna(axis=0) # Drop rows with missing values\n",
    "df.dropna(axis=1) # Drop columns with missing values\n",
    "\n",
    "# Imputation: Replace missing values with estimates. For example:\n",
    "\n",
    "df.fillna(df.mean()) # Replace missing values with mean\n",
    "df.fillna(df.mode().iloc[0]) # Replace missing values with mode\n",
    "\n",
    "# Prediction: Use machine learning algorithms to predict missing values. For example:\n",
    "\n",
    "from sklearn.impute import KNNImputer\n",
    "imputer = KNNImputer(n_neighbors=5)\n",
    "df_imputed = imputer.fit_transform(df)"
   ]
  },
  {
   "cell_type": "markdown",
   "id": "4d1ffcc2-73f2-4c18-8510-c8c65c51f89c",
   "metadata": {},
   "source": [
    "Q3: Explain the imbalanced data. What will happen if imbalanced data is not handled?\n",
    "\n",
    "Answer 3...\n",
    "\n",
    "Imbalanced data refers to a situation where the number of instances in different classes of a dataset is not equal. If imbalanced data is not handled, it can lead to biased or incorrect analyses and predictions, as well as low prediction accuracy for the minority class."
   ]
  },
  {
   "cell_type": "markdown",
   "id": "ea4b22e1-27c2-4cc8-9098-4dce9cd8c48b",
   "metadata": {},
   "source": [
    "Q4: What are Up-sampling and Down-sampling? Explain with an example when up-sampling and down-\n",
    "sampling are required.\n",
    "\n",
    "Answer 4...\n",
    "\n",
    "Up-sampling refers to adding more instances to the minority class, while down-sampling refers to removing instances from the majority class. Up-sampling is required when the minority class is under-represented and important to the analysis, while down-sampling is required when the majority class is too large and overwhelms the minority class. For example, if a dataset has 90% instances in the majority class and 10% instances in the minority class, down-sampling can be used to reduce the majority class to 50% and up-sampling can be used to increase the minority class to 50%."
   ]
  },
  {
   "cell_type": "markdown",
   "id": "ae7a4871-a1da-4bc3-9238-73ca9f11fb56",
   "metadata": {},
   "source": [
    "Q5: What is data Augmentation? Explain SMOTE.\n",
    "\n",
    "Answer 5...\n",
    "\n",
    "Data augmentation refers to techniques used to create new instances of data by making modifications to existing data. SMOTE (Synthetic Minority Over-sampling Technique) is a data augmentation technique used to up-sample the minority class. It works by creating synthetic instances of the minority class by interpolating between existing instances."
   ]
  },
  {
   "cell_type": "markdown",
   "id": "14892aa0-421c-4ce9-9c29-45cdcab77aed",
   "metadata": {},
   "source": [
    "Q6: What are outliers in a dataset? Why is it essential to handle outliers?\n",
    "\n",
    "Answer 6...\n",
    "\n",
    "Outliers are extreme values in a dataset that are significantly different from the other values. It is essential to handle outliers as they can affect statistical analyses and models, and can also be indicative of errors in data collection or recording."
   ]
  },
  {
   "cell_type": "markdown",
   "id": "95517c60-d482-4965-bb1c-1f19d97dcee2",
   "metadata": {},
   "source": [
    "Q7: You are working on a project that requires analyzing customer data. However, you notice that some of\n",
    "the data is missing. What are some techniques you can use to handle the missing data in your analysis?\n",
    "\n",
    "Answer 7...\n",
    "\n",
    "Techniques to handle missing data in customer analysis include deletion, imputation, or prediction as described in Q2. Other techniques include using a default value, using a separate model to predict missing values, or using expert knowledge to fill in missing values."
   ]
  },
  {
   "cell_type": "markdown",
   "id": "b34f84e6-d57d-4479-b4f0-ded8770e991f",
   "metadata": {},
   "source": [
    "Q8: You are working with a large dataset and find that a small percentage of the data is missing. What are\n",
    "some strategies you can use to determine if the missing data is missing at random or if there is a pattern\n",
    "to the missing data?\n",
    "\n",
    "Answer 8...\n",
    "\n",
    "Strategies to determine if missing data is missing at random or if there is a pattern to the missing data include analyzing the distribution of missing values across variables, comparing the patterns of missing values between different subsets of the data, and using statistical tests to determine if the missingness is related to other variables in the dataset."
   ]
  },
  {
   "cell_type": "markdown",
   "id": "4cbb15d3-e8b9-4e47-bef4-1edb27751152",
   "metadata": {},
   "source": [
    "Q9: Suppose you are working on a medical diagnosis project and find that the majority of patients in the\n",
    "dataset do not have the condition of interest, while a small percentage do. What are some strategies you\n",
    "can use to evaluate the performance of your machine learning model on this imbalanced dataset?\n",
    "\n",
    "Answer 9...\n",
    "\n",
    "Strategies to evaluate the performance of machine learning models on imbalanced datasets include using metrics such as precision, recall, F1-score, and AUC-ROC that take into account the imbalanced distribution of classes, using resampling techniques such as oversampling or undersampling, or using specialized algorithms such as SMOTE or cost-sensitive learning."
   ]
  },
  {
   "cell_type": "markdown",
   "id": "817bac54-6b62-4079-aed4-36b829376d22",
   "metadata": {},
   "source": [
    "Q10: When attempting to estimate customer satisfaction for a project, you discover that the dataset is\n",
    "unbalanced, with the bulk of customers reporting being satisfied. What methods can you employ to\n",
    "balance the dataset and down-sample the majority class?\n",
    "\n",
    "Answer 10...\n",
    "\n",
    "When dealing with an unbalanced dataset where the majority class is overrepresented, down-sampling the majority class is a common approach to balance the dataset. This method involves randomly removing some of the observations from the majority class to match the number of observations in the minority class. There are several ways to down-sample a dataset, including:\n",
    "\n",
    "Random under-sampling: randomly remove observations from the majority class until the dataset is balanced.\n",
    "\n",
    "Cluster-based under-sampling: identify clusters in the majority class, and then remove observations from those clusters until the dataset is balanced.\n",
    "\n",
    "Tomek links: identify pairs of observations (one from the majority class and one from the minority class) that are closest to each other, and then remove the majority class observations from those pairs until the dataset is balanced.\n",
    "\n",
    "NearMiss: select the minority class observations that are closest to the majority class observations and remove the majority class observations until the dataset is balanced."
   ]
  },
  {
   "cell_type": "markdown",
   "id": "7741fdaa-58e7-4017-b187-1e177dc28537",
   "metadata": {},
   "source": [
    "Q11: You discover that the dataset is unbalanced with a low percentage of occurrences while working on a\n",
    "project that requires you to estimate the occurrence of a rare event. What methods can you employ to\n",
    "balance the dataset and up-sample the minority class?\n",
    "\n",
    "Answer 11...\n",
    "\n",
    "When working with an unbalanced dataset where the minority class is underrepresented, up-sampling the minority class is a common approach to balance the dataset. This method involves creating synthetic observations in the minority class to match the number of observations in the majority class. There are several ways to up-sample a dataset, including:\n",
    "\n",
    "Random over-sampling: randomly duplicate observations in the minority class until the dataset is balanced.\n",
    "\n",
    "SMOTE: create synthetic observations in the minority class by interpolating between existing minority class observations.\n",
    "\n",
    "ADASYN: create synthetic observations in the minority class by focusing on the hardest-to-learn observations, i.e., those that are closest to the decision boundary.\n",
    "\n",
    "ROSE: create synthetic observations in the minority class by applying a combination of over-sampling and under-sampling to balance the dataset.\n",
    "\n",
    "It is essential to note that while these methods can help balance an unbalanced dataset, they may also introduce biases in the model. Therefore, it is crucial to evaluate the model's performance on a separate validation set to ensure that the model's performance is not affected by the sampling method used."
   ]
  },
  {
   "cell_type": "code",
   "execution_count": null,
   "id": "571958d6-cb75-4236-8829-8a7e89a7b0e3",
   "metadata": {},
   "outputs": [],
   "source": []
  }
 ],
 "metadata": {
  "kernelspec": {
   "display_name": "Python 3 (ipykernel)",
   "language": "python",
   "name": "python3"
  },
  "language_info": {
   "codemirror_mode": {
    "name": "ipython",
    "version": 3
   },
   "file_extension": ".py",
   "mimetype": "text/x-python",
   "name": "python",
   "nbconvert_exporter": "python",
   "pygments_lexer": "ipython3",
   "version": "3.10.8"
  }
 },
 "nbformat": 4,
 "nbformat_minor": 5
}
