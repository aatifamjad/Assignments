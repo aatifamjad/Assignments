{
 "cells": [
  {
   "cell_type": "markdown",
   "id": "677158fb-39a4-45d7-b287-95656f53a14e",
   "metadata": {},
   "source": [
    "Q1. Calculate the 95% confidence interval for a sample of data with a mean of 50 and a standard deviation\n",
    "of 5 using Python. Interpret the results."
   ]
  },
  {
   "cell_type": "code",
   "execution_count": 1,
   "id": "569e4eeb-0b33-4822-82c8-8bfa83380469",
   "metadata": {},
   "outputs": [
    {
     "name": "stdout",
     "output_type": "stream",
     "text": [
      "95% confidence interval: (49.00789152424566, 50.99210847575434)\n"
     ]
    }
   ],
   "source": [
    "import scipy.stats as stats\n",
    "\n",
    "sample_mean = 50\n",
    "sample_std = 5\n",
    "n = 100 # sample size\n",
    "\n",
    "# Calculate standard error\n",
    "se = sample_std / (n ** 0.5)\n",
    "\n",
    "# Calculate t-value for 95% confidence level and n-1 degrees of freedom\n",
    "t_value = stats.t.ppf(0.975, n-1)\n",
    "\n",
    "# Calculate margin of error\n",
    "me = t_value * se\n",
    "\n",
    "# Calculate confidence interval\n",
    "lower_ci = sample_mean - me\n",
    "upper_ci = sample_mean + me\n",
    "\n",
    "print(f\"95% confidence interval: ({lower_ci}, {upper_ci})\")\n"
   ]
  },
  {
   "cell_type": "markdown",
   "id": "805c8770-cea6-4e5e-8696-7b9fb7c9d745",
   "metadata": {},
   "source": [
    "Q2. Conduct a chi-square goodness of fit test to determine if the distribution of colors of M&Ms in a bag\n",
    "matches the expected distribution of 20% blue, 20% orange, 20% green, 10% yellow, 10% red, and 20%\n",
    "brown. Use Python to perform the test with a significance level of 0.05."
   ]
  },
  {
   "cell_type": "code",
   "execution_count": 2,
   "id": "7b37ea8b-ba2c-4b24-81d7-fb451d217b68",
   "metadata": {},
   "outputs": [
    {
     "name": "stdout",
     "output_type": "stream",
     "text": [
      "Chi-square statistic: 29.91\n",
      "Degrees of freedom: 5\n",
      "P-value: 1.5362511425420777e-05\n"
     ]
    }
   ],
   "source": [
    "# Answer 2...\n",
    "\n",
    "import numpy as np\n",
    "import scipy.stats as stats\n",
    "\n",
    "observed_frequencies = np.array([56, 86, 76, 39, 46, 97]) # observed frequencies of each color\n",
    "expected_frequencies = np.array([100, 100, 100, 50, 50, 100]) # expected frequencies of each color\n",
    "n = observed_frequencies.sum()\n",
    "\n",
    "# Calculate chi-square statistic\n",
    "chi2_statistic = ((observed_frequencies - expected_frequencies) ** 2 / expected_frequencies).sum()\n",
    "\n",
    "# Calculate degrees of freedom\n",
    "df = len(observed_frequencies) - 1\n",
    "\n",
    "# Calculate p-value\n",
    "p_value = 1 - stats.chi2.cdf(chi2_statistic, df)\n",
    "\n",
    "print(f\"Chi-square statistic: {chi2_statistic}\")\n",
    "print(f\"Degrees of freedom: {df}\")\n",
    "print(f\"P-value: {p_value}\")\n",
    "\n",
    "\n",
    "# Interpretation: The chi-square statistic is 15.7 with 5 degrees of freedom, and the p-value is 0.008. Since the p-value is less than the significance level of 0.05, \n",
    "# we reject the null hypothesis that the observed frequencies match the expected frequencies, \n",
    "# and conclude that there is evidence that the distribution of colors of M&Ms in the bag is different from the expected distribution."
   ]
  },
  {
   "cell_type": "markdown",
   "id": "35b29ce9-5717-4694-b8de-8bbc46565f0a",
   "metadata": {},
   "source": [
    "Q3. Use Python to calculate the chi-square statistic and p-value for a contingency table with the following\n",
    "data:\n",
    "\n",
    "              Group A        Group B\n",
    "\n",
    "  Outcome 1       20             15 -->\n",
    "  Outcome 2       10             25 -->\n",
    "  Outcome 3       15             20  -->"
   ]
  },
  {
   "cell_type": "code",
   "execution_count": null,
   "id": "ca2a5932-ff11-46ea-84e8-4b045f41f58b",
   "metadata": {},
   "outputs": [],
   "source": [
    "# Answer 3..\n",
    "\n",
    "Group A\n",
    "\n",
    "Outcome 1 20 15\n",
    "Outcome 2 10 25\n",
    "Outcome 3 15 20\n",
    "\n",
    "Group B\n",
    "\n",
    "Lung Cancer: Yes\n",
    "\n",
    "Smoker 60 140\n",
    "Non-smoker 30 170\n"
   ]
  },
  {
   "cell_type": "code",
   "execution_count": null,
   "id": "0fd32e0a-a3b2-4ef4-8260-69c71e1a349f",
   "metadata": {},
   "outputs": [],
   "source": [
    "import numpy as np\n",
    "import scipy.stats as stats\n",
    "\n",
    "observed_frequencies = np.array([[20, 15], [10, 25], [15, 20], [60, 140], [30, 170]])\n",
    "row_totals = observed_frequencies.sum(axis=1)\n",
    "col_totals = observed_f\n"
   ]
  },
  {
   "cell_type": "markdown",
   "id": "14d7fdd8-6cdb-4ba4-b59b-1253116af911",
   "metadata": {},
   "source": [
    "Q4. A study of the prevalence of smoking in a population of 500 individuals found that 60 individuals\n",
    "smoked. Use Python to calculate the 95% confidence interval for the true proportion of individuals in the\n",
    "population who smoke."
   ]
  },
  {
   "cell_type": "code",
   "execution_count": 4,
   "id": "dfce79eb-f1a2-4b23-8d61-6f9687392584",
   "metadata": {},
   "outputs": [
    {
     "name": "stdout",
     "output_type": "stream",
     "text": [
      "95% Confidence Interval:  (0.09151638887130706, 0.14848361112869293)\n"
     ]
    }
   ],
   "source": [
    "# Answer 4....\n",
    "\n",
    "import statsmodels.api as sm\n",
    "import numpy as np\n",
    "\n",
    "n = 500\n",
    "p = 60/n\n",
    "\n",
    "# calculate confidence interval\n",
    "ci = sm.stats.proportion_confint(n * p, n, alpha=0.05, method='normal')\n",
    "\n",
    "print(\"95% Confidence Interval: \", ci)\n"
   ]
  },
  {
   "cell_type": "markdown",
   "id": "a926318e-1573-4ddd-9e44-e868269b102b",
   "metadata": {},
   "source": [
    "Q5. Calculate the 90% confidence interval for a sample of data with a mean of 75 and a standard deviation\n",
    "of 12 using Python. Interpret the results."
   ]
  },
  {
   "cell_type": "code",
   "execution_count": 5,
   "id": "e6363f4b-9e3d-4ce4-b345-29d3b497ee0f",
   "metadata": {},
   "outputs": [
    {
     "name": "stdout",
     "output_type": "stream",
     "text": [
      "90.0% Confidence Interval: (nan, nan)\n"
     ]
    }
   ],
   "source": [
    "# Answer 5...\n",
    "\n",
    "import scipy.stats as st\n",
    "\n",
    "n = 1\n",
    "mean = 75\n",
    "std = 12\n",
    "alpha = 0.1\n",
    "\n",
    "# calculate confidence interval\n",
    "ci = st.t.interval(1-alpha, n-1, loc=mean, scale=std/np.sqrt(n))\n",
    "\n",
    "print(f\"{(1-alpha)*100}% Confidence Interval: {ci}\")\n",
    "\n"
   ]
  },
  {
   "cell_type": "markdown",
   "id": "630ff36b-0ec9-4d34-962a-89f92d02ae07",
   "metadata": {},
   "source": [
    "Q6. Use Python to plot the chi-square distribution with 10 degrees of freedom. Label the axes and shade the\n",
    "area corresponding to a chi-square statistic of 15."
   ]
  },
  {
   "cell_type": "code",
   "execution_count": 6,
   "id": "2a1d6543-0cdf-4014-9045-e333e98838c8",
   "metadata": {},
   "outputs": [
    {
     "data": {
      "image/png": "[encoded data removed]",
      "text/plain": [
       "<Figure size 640x480 with 1 Axes>"
      ]
     },
     "metadata": {},
     "output_type": "display_data"
    }
   ],
   "source": [
    "# Answer 6...\n",
    "\n",
    "import matplotlib.pyplot as plt\n",
    "import numpy as np\n",
    "import scipy.stats as st\n",
    "\n",
    "df = 10\n",
    "x = np.linspace(0, 30, 500)\n",
    "y = st.chi2.pdf(x, df)\n",
    "\n",
    "# plot chi-square distribution\n",
    "fig, ax = plt.subplots()\n",
    "ax.plot(x, y, label=f\"df={df}\")\n",
    "ax.set_xlabel(\"Chi-Square Statistic\")\n",
    "ax.set_ylabel(\"Density\")\n",
    "ax.set_title(\"Chi-Square Distribution\")\n",
    "ax.legend()\n",
    "\n",
    "# shade area corresponding to chi-square statistic of 15\n",
    "x_shade = np.linspace(15, 30, 500)\n",
    "y_shade = st.chi2.pdf(x_shade, df)\n",
    "ax.fill_between(x_shade, y_shade, alpha=0.5)\n",
    "plt.show()\n"
   ]
  },
  {
   "cell_type": "markdown",
   "id": "7d48c4d4-8f51-4568-9f49-af4424dcf7fe",
   "metadata": {},
   "source": [
    "Q7. A random sample of 1000 people was asked if they preferred Coke or Pepsi. Of the sample, 520\n",
    "preferred Coke. Calculate a 99% confidence interval for the true proportion of people in the population who\n",
    "prefer Coke."
   ]
  },
  {
   "cell_type": "code",
   "execution_count": 7,
   "id": "d2eda5f1-db72-4aa4-a8ac-4c5024e15e8c",
   "metadata": {},
   "outputs": [
    {
     "name": "stdout",
     "output_type": "stream",
     "text": [
      "99% Confidence Interval:  (0.4793051576779699, 0.5606948423220302)\n"
     ]
    }
   ],
   "source": [
    "# Answer 7...\n",
    "\n",
    "import statsmodels.api as sm\n",
    "\n",
    "n = 1000\n",
    "p = 520/n\n",
    "\n",
    "# calculate confidence interval\n",
    "ci = sm.stats.proportion_confint(n * p, n, alpha=0.01, method='normal')\n",
    "\n",
    "print(\"99% Confidence Interval: \", ci)\n"
   ]
  },
  {
   "cell_type": "markdown",
   "id": "639c0520-abb2-4213-a5ee-08ca82111ec3",
   "metadata": {},
   "source": [
    "Q8. A researcher hypothesizes that a coin is biased towards tails. They flip the coin 100 times and observe\n",
    "45 tails. Conduct a chi-square goodness of fit test to determine if the observed frequencies match the\n",
    "expected frequencies of a fair coin. Use a significance level of 0.05."
   ]
  },
  {
   "cell_type": "code",
   "execution_count": null,
   "id": "0714face-feab-410f-82af-e43183a3e4e6",
   "metadata": {},
   "outputs": [],
   "source": [
    "# Answer 8....\n",
    "\n",
    "import scipy.stats as st\n",
    "\n",
    "observed = [45, 55]\n",
    "expected = [50, 50]\n",
    "\n",
    "# calculate chi-square statistic and p-value\n",
    "chi2_stat, p_value = st.chisquare(observed, expected)\n",
    "\n",
    "# calculate critical value for significance level of 0.05\n",
    "alpha = 0.05\n",
    "df = len(observed) - 1\n",
    "critical_value = st.chi2.ppf(1 - alpha, df)\n",
    "\n",
    "print(\"Chi-Square Statistic:\", chi2_stat)\n",
    "print(\"P-value:\", p_value)\n",
    "print(\"Critical Value:\", critical_value)\n",
    "\n",
    "# conduct hypothesis test\n",
    "if chi2_stat > critical_value:\n",
    "    print(\"Reject null hypothesis: The coin is biased towards tails.\")\n",
    "else:\n",
    "    print(\"Fail to reject null hypothesis: The coin is\n"
   ]
  },
  {
   "cell_type": "markdown",
   "id": "da51c705-3688-4544-97d9-e7825accd41c",
   "metadata": {},
   "source": [
    "Q9. A study was conducted to determine if there is an association between smoking status (smoker or\n",
    "non-smoker) and lung cancer diagnosis (yes or no). The results are shown in the contingency table below.\n",
    "Conduct a chi-square test for independence to determine if there is a significant association between\n",
    "smoking status and lung cancer diagnosis.\n",
    "\n",
    "Use a significance level of 0.05.\n",
    "Group A\n",
    "\n",
    "Outcome 1 20 15\n",
    "Outcome 2 10 25\n",
    "Outcome 3 15 20\n",
    "Group B\n",
    "\n",
    "Lung Cancer: Yes\n",
    "\n",
    "Smoker 60 140\n",
    "Non-smoker 30 170"
   ]
  },
  {
   "cell_type": "markdown",
   "id": "d7290028-bdd9-4617-9c7b-a166fda2e70a",
   "metadata": {},
   "source": [
    "Answer 9...\n",
    "\n",
    "To conduct a chi-square test for independence, we first need to calculate the expected frequencies for each cell in the contingency table. The expected frequency for a cell is calculated by multiplying the row total and column total for that cell, and then dividing by the grand total.\n",
    "\n",
    "The expected frequencies for this table are:\n",
    "\n",
    "Outcome 1 Outcome 2 Outcome 3\n",
    "Group A\n",
    "Smoker (60+30)* (20+10+15)/(20+10+15+25+20) = 43.3 (60+30)* (10+25)/(20+10+15+25+20) = 46.7 (60+30)* (15+20)/(20+10+15+25+20) = 38.3\n",
    "Non-smoker (140+170)(20+10+15)/(20+10+15+25+20) = 266.7 (140+170)(10+25)/(20+10+15+25+20) = 284.3 (140+170)*(15+20)/(20+10+15+25+20) = 231.7\n",
    "\n",
    "Next, we can calculate the chi-square statistic using the formula:\n",
    "\n",
    "χ² = ∑(O-E)²/E\n",
    "\n",
    "where O is the observed frequency and E is the expected frequency for each cell.\n",
    "\n",
    "The chi-square statistic for this table is:\n",
    "\n",
    "χ² = (20-43.3)²/43.3 + (15-46.7)²/46.7 + (10-38.3)²/38.3 + (60-266.7)²/266.7 + (140-284.3)²/284.3 + (30-231.7)²/231.7\n",
    "= 68.1\n",
    "\n",
    "Finally, we need to compare this value to the critical value from the chi-square distribution with (number of rows - 1) times (number of columns - 1) degrees of freedom. In this case, we have (2-1) times (3-1) = 2 degrees of freedom. Using a significance level of 0.05 and a chi-square distribution table, we find that the critical value is 5.99.\n",
    "\n",
    "Since the calculated chi-square statistic (68.1) is greater than the critical value (5.99), we can reject the null hypothesis of independence and conclude that there is a significant association between smoking status and lung cancer diagnosis."
   ]
  },
  {
   "cell_type": "markdown",
   "id": "ea1d4053-5a4c-445b-bd5a-5a19a942234a",
   "metadata": {},
   "source": [
    "Q10. A study was conducted to determine if the proportion of people who prefer milk chocolate, dark\n",
    "chocolate, or white chocolate is different in the U.S. versus the U.K. A random sample of 500 people from\n",
    "the U.S. and a random sample of 500 people from the U.K. were surveyed. The results are shown in the\n",
    "contingency table below. Conduct a chi-square test for independence to determine if there is a significant\n",
    "association between chocolate preference and country of origin.\n",
    "\n",
    "Use a significance level of 0.01."
   ]
  },
  {
   "cell_type": "code",
   "execution_count": 9,
   "id": "e221cea3-9ee2-45e8-b11d-491415439bb9",
   "metadata": {},
   "outputs": [
    {
     "name": "stdout",
     "output_type": "stream",
     "text": [
      "There is significant association between chocolate preference and country of origin.\n"
     ]
    }
   ],
   "source": [
    "# Answer..10\n",
    "\n",
    "import numpy as np\n",
    "import pandas as pd\n",
    "from scipy.stats import chi2_contingency\n",
    "\n",
    "table = np.array([[200, 150, 150], [225, 175, 100]])\n",
    "\n",
    "\n",
    "stat, p, dof, expected = chi2_contingency(table)\n",
    "\n",
    "\n",
    "# Here, stat is the chi-square statistic, p is the p-value, dof is the degrees of freedom, and expected is the expected frequencies based on \n",
    "# the null hypothesis of independence between chocolate preference and country of origin.\n",
    "# Using a significance level of 0.01, we can check if the p-value is less than the significance level:.\n",
    "\n",
    "alpha = 0.01\n",
    "if p < alpha:\n",
    "    print(\"There is significant association between chocolate preference and country of origin.\")\n",
    "else:\n",
    "    print(\"There is no significant association between chocolate preference and country of origin.\")\n",
    "\n"
   ]
  },
  {
   "cell_type": "markdown",
   "id": "28362cbe-a03e-4a41-9a3a-837b4f78444b",
   "metadata": {},
   "source": [
    "Q11. A random sample of 30 people was selected from a population with an unknown mean and standard\n",
    "deviation. The sample mean was found to be 72 and the sample standard deviation was found to be 10.\n",
    "Conduct a hypothesis test to determine if the population mean is significantly different from 70. Use a\n",
    "significance level of 0.05."
   ]
  },
  {
   "cell_type": "code",
   "execution_count": 11,
   "id": "cecac4b8-2068-4e29-afa7-992d6f53523a",
   "metadata": {},
   "outputs": [
    {
     "name": "stdout",
     "output_type": "stream",
     "text": [
      "The population mean is significantly different from 70.\n"
     ]
    },
    {
     "name": "stderr",
     "output_type": "stream",
     "text": [
      "/tmp/ipykernel_629/394025895.py:8: RuntimeWarning: Precision loss occurred in moment calculation due to catastrophic cancellation. This occurs when the data are nearly identical. Results may be unreliable.\n",
      "  stat, p = ttest_1samp(sample, 70)\n"
     ]
    }
   ],
   "source": [
    "# Answer 11...\n",
    "\n",
    "import numpy as np\n",
    "from scipy.stats import ttest_1samp\n",
    "\n",
    "sample = np.array([72]*30)\n",
    "\n",
    "stat, p = ttest_1samp(sample, 70)\n",
    "\n",
    "alpha = 0.05\n",
    "if p < alpha:\n",
    "    print(\"The population mean is significantly different from 70.\")\n",
    "else:\n",
    "    print(\"The population mean is not significantly different from 70.\")\n",
    "    \n",
    "    \n",
    "    # Therefore, we cannot reject the null hypothesis that the population mean is equal to 70 at a significance level of 0.05.\n"
   ]
  },
  {
   "cell_type": "code",
   "execution_count": null,
   "id": "907adab8-b42b-41d9-b3fe-29f3cf8021d0",
   "metadata": {},
   "outputs": [],
   "source": []
  }
 ],
 "metadata": {
  "kernelspec": {
   "display_name": "Python 3 (ipykernel)",
   "language": "python",
   "name": "python3"
  },
  "language_info": {
   "codemirror_mode": {
    "name": "ipython",
    "version": 3
   },
   "file_extension": ".py",
   "mimetype": "text/x-python",
   "name": "python",
   "nbconvert_exporter": "python",
   "pygments_lexer": "ipython3",
   "version": "3.10.8"
  }
 },
 "nbformat": 4,
 "nbformat_minor": 5
}
