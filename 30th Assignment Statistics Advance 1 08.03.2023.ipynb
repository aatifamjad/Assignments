{
 "cells": [
  {
   "cell_type": "markdown",
   "id": "69b4b6d3-400e-4506-b9f3-c0cab0ffe020",
   "metadata": {},
   "source": [
    "Q1. What is the Probability density function?\n",
    "\n",
    "Answer 1)\n",
    "\n",
    "Probability density function (PDF) is a function that describes the probability distribution of a continuous random variable. It gives the relative likelihood of a random variable taking a particular value."
   ]
  },
  {
   "cell_type": "markdown",
   "id": "452a394f-7c33-4bf1-8d96-0a3a4ab55012",
   "metadata": {},
   "source": [
    "Q2. What are the types of Probability distribution?\n",
    "\n",
    "Answer 2)\n",
    "\n",
    "There are several types of probability distributions, including:\n",
    "\n",
    "a) Normal distribution\n",
    "\n",
    "b) Binomial distribution\n",
    "\n",
    "c) Poisson distribution\n",
    "\n",
    "e) Exponential distribution\n",
    "\n",
    "f) Gamma distribution\n",
    "\n",
    "g) Uniform distribution"
   ]
  },
  {
   "cell_type": "markdown",
   "id": "25fc9f7b-e35e-4497-8942-912b68493aae",
   "metadata": {},
   "source": [
    "Q3. Write a Python function to calculate the probability density function of a normal distribution with\n",
    "given mean and standard deviation at a given point."
   ]
  },
  {
   "cell_type": "code",
   "execution_count": 1,
   "id": "687862a8-37a3-4c6f-91f0-ac25f6499c15",
   "metadata": {},
   "outputs": [],
   "source": [
    "# Answer 3) \n",
    "\n",
    "import math\n",
    "\n",
    "def normal_pdf(x, mean, sd):\n",
    "    return (1 / (math.sqrt(2*math.pi)*sd)) * math.exp(-((x-mean)**2)/(2*sd**2))\n"
   ]
  },
  {
   "cell_type": "markdown",
   "id": "a90de5b8-1a26-423b-b069-4004745e80ce",
   "metadata": {},
   "source": [
    "Q4. What are the properties of Binomial distribution? Give two examples of events where binomial\n",
    "distribution can be applied.\n",
    "\n",
    "Answer 4)\n",
    "\n",
    "# The binomial distribution has the following properties: --> -->\n",
    "\n",
    "a) The experiment consists of a fixed number of independent trials.\n",
    "\n",
    "b) Each trial has only two possible outcomes: success or failure.\n",
    "\n",
    "c) The probability of success is constant for each trial.\n",
    "\n",
    "d) The trials are independent of each other.\n",
    "\n",
    "# Two examples of events where binomial distribution can be applied are:\n",
    "\n",
    "a) Tossing a coin a fixed number of times and counting the number of heads.\n",
    "\n",
    "b) Conducting a survey with a fixed number of participants and counting the number who give a certain answer."
   ]
  },
  {
   "cell_type": "markdown",
   "id": "637326f4-380b-4337-bb47-495b0966a05f",
   "metadata": {},
   "source": [
    "Q5. Generate a random sample of size 1000 from a binomial distribution with probability of success 0.4\n",
    "and plot a histogram of the results using matplotlib.\n",
    "\n"
   ]
  },
  {
   "cell_type": "code",
   "execution_count": 2,
   "id": "9e42b227-ad22-420d-84d8-8b5a146cfa5a",
   "metadata": {},
   "outputs": [
    {
     "data": {
      "image/png": "[encoded data removed]",
      "text/plain": [
       "<Figure size 640x480 with 1 Axes>"
      ]
     },
     "metadata": {},
     "output_type": "display_data"
    }
   ],
   "source": [
    "# Answer 5)\n",
    "\n",
    "import numpy as np\n",
    "import matplotlib.pyplot as plt\n",
    "\n",
    "sample_size = 1000\n",
    "probability_of_success = 0.4\n",
    "\n",
    "binomial_sample = np.random.binomial(n=1, p=probability_of_success, size=sample_size)\n",
    "\n",
    "plt.hist(binomial_sample, bins=10)\n",
    "plt.show()\n"
   ]
  },
  {
   "cell_type": "markdown",
   "id": "aacc7537-0cd3-4a15-951d-43f727352f18",
   "metadata": {},
   "source": [
    "Q6. Write a Python function to calculate the cumulative distribution function of a Poisson distribution\n",
    "with given mean at a given point."
   ]
  },
  {
   "cell_type": "code",
   "execution_count": 3,
   "id": "e3aafc85-4ccf-4348-98a7-70536d15ad85",
   "metadata": {},
   "outputs": [],
   "source": [
    "# Answer 6)\n",
    "\n",
    "import math\n",
    "\n",
    "def poisson_cdf(k, mean):\n",
    "    cdf = 0\n",
    "    for i in range(k+1):\n",
    "        cdf += math.exp(-mean) * mean**i / math.factorial(i)\n",
    "    return cdf\n"
   ]
  },
  {
   "cell_type": "markdown",
   "id": "b3ddd4aa-b4d4-452e-b72e-0b38d16d4c1a",
   "metadata": {},
   "source": [
    "Q7. How Binomial distribution different from Poisson distribution?\n",
    "\n",
    "Answer 7)\n",
    "\n",
    "The main differences between the binomial distribution and Poisson distribution are:\n",
    "\n",
    "a) The binomial distribution is used for a fixed number of independent trials, whereas the Poisson distribution is used for the number of events in a fixed interval.\n",
    "\n",
    "b) The binomial distribution has two possible outcomes for each trial, whereas the Poisson distribution has a count of events that can take any non-negative integer value.\n",
    "\n",
    "c)The binomial distribution has a fixed probability of success for each trial, whereas the Poisson distribution has a fixed rate of occurrence."
   ]
  },
  {
   "cell_type": "markdown",
   "id": "f57a8c18-3545-46bd-b3ff-3eeb424e865a",
   "metadata": {},
   "source": [
    "Q8. Generate a random sample of size 1000 from a Poisson distribution with mean 5 and calculate the\n",
    "sample mean and variance."
   ]
  },
  {
   "cell_type": "code",
   "execution_count": 4,
   "id": "51793595-337a-4777-889d-74f4d9fdfc27",
   "metadata": {},
   "outputs": [
    {
     "name": "stdout",
     "output_type": "stream",
     "text": [
      "Sample mean: 5.008\n",
      "Sample variance: 4.639936\n"
     ]
    }
   ],
   "source": [
    "#  Answer 8)\n",
    "\n",
    "import numpy as np\n",
    "\n",
    "sample_size = 1000\n",
    "mean = 5\n",
    "\n",
    "poisson_sample = np.random.poisson(lam=mean, size=sample_size)\n",
    "\n",
    "sample_mean = np.mean(poisson_sample)\n",
    "sample_variance = np.var(poisson_sample)\n",
    "\n",
    "print(\"Sample mean:\", sample_mean)\n",
    "print(\"Sample variance:\", sample_variance)\n"
   ]
  },
  {
   "cell_type": "markdown",
   "id": "c63f1c95-38dd-47ac-8c5b-ca8fe91d6a1b",
   "metadata": {},
   "source": [
    "Q9. How mean and variance are related in Binomial distribution and Poisson distribution?\n",
    "\n",
    "Answer 9)\n",
    "\n",
    "In both the binomial distribution and Poisson distribution, the mean and variance are related. The mean of a binomial distribution is equal to np, where n is the number of trials and p is the probability of success. The variance of a binomial distribution is equal to np*(1-p). The mean of a Poisson distribution is equal to λ, where λ is the rate of occurrence. The variance of a Poisson distribution is also equal to λ."
   ]
  },
  {
   "cell_type": "markdown",
   "id": "dd07ed4f-6e89-4f8b-aaeb-dafd0924c86a",
   "metadata": {},
   "source": [
    "Q10. In normal distribution with respect to mean position, where does the least frequent data appear?\n",
    "\n",
    "Answer 10)\n",
    "\n",
    "In a normal distribution, the least frequent data appears at the two tails of the distribution, farthest away from the mean position. This is because the probability density decreases as we move away from the mean position in either direction, following a bell-shaped curve. The probability density is highest at the mean position and gradually decreases as we move away from it, reaching its minimum at the two tails of the distribution. Data values that are several standard deviations away from the mean are considered rare in a normal distribution."
   ]
  },
  {
   "cell_type": "code",
   "execution_count": null,
   "id": "b017f45a-292a-41af-b389-541b9d028e2b",
   "metadata": {},
   "outputs": [],
   "source": []
  }
 ],
 "metadata": {
  "kernelspec": {
   "display_name": "Python 3 (ipykernel)",
   "language": "python",
   "name": "python3"
  },
  "language_info": {
   "codemirror_mode": {
    "name": "ipython",
    "version": 3
   },
   "file_extension": ".py",
   "mimetype": "text/x-python",
   "name": "python",
   "nbconvert_exporter": "python",
   "pygments_lexer": "ipython3",
   "version": "3.10.8"
  }
 },
 "nbformat": 4,
 "nbformat_minor": 5
}
