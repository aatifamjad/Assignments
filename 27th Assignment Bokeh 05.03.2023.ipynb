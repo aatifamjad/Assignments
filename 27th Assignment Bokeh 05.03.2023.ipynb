{
 "cells": [
  {
   "cell_type": "markdown",
   "id": "7ea833ed-f2e9-4082-ab3b-ad08cdaae5d3",
   "metadata": {},
   "source": [
    "Q1. How can you create a Bokeh plot using Python code?"
   ]
  },
  {
   "cell_type": "code",
   "execution_count": 1,
   "id": "23be7eeb-c2c7-4b8b-8220-1e735f706c74",
   "metadata": {},
   "outputs": [],
   "source": [
    "# Answer 1...\n",
    "\n",
    "from bokeh.plotting import figure, output_file, show\n",
    "\n",
    "# create a new plot with a title and axis labels\n",
    "p = figure(title=\"My Line Plot\", x_axis_label='x', y_axis_label='y')\n",
    "\n",
    "# add a line renderer with data\n",
    "p.line([1, 2, 3, 4, 5], [6, 7, 2, 4, 5])\n",
    "\n",
    "# specify output file and show the plot\n",
    "output_file(\"line.html\")\n",
    "show(p)\n"
   ]
  },
  {
   "cell_type": "markdown",
   "id": "045d1f84-9403-433b-b289-26e85596d8e3",
   "metadata": {},
   "source": [
    "Q2. What are glyphs in Bokeh, and how can you add them to a Bokeh plot? Explain with an example."
   ]
  },
  {
   "cell_type": "markdown",
   "id": "10b8dcc5-65ea-482f-a368-3b28f0ca02a6",
   "metadata": {},
   "source": [
    "# Answer 2 ....\n",
    "\n",
    ". In Bokeh, glyphs are the basic visual building blocks that represent data points on a plot. Some examples of glyphs include circles, squares, lines, and patches. You can add glyphs to a Bokeh plot using the glyph method of the Figure object. Here's an example of adding circles to a plot:"
   ]
  },
  {
   "cell_type": "code",
   "execution_count": 2,
   "id": "985c331e-e0fc-4e7e-8d57-9e48273862c0",
   "metadata": {},
   "outputs": [],
   "source": [
    "from bokeh.plotting import figure, output_file, show\n",
    "\n",
    "# create a new plot with a title and axis labels\n",
    "p = figure(title=\"My Scatter Plot\", x_axis_label='x', y_axis_label='y')\n",
    "\n",
    "# add circles renderer with data\n",
    "p.circle([1, 2, 3, 4, 5], [6, 7, 2, 4, 5], size=20, color=\"navy\", alpha=0.5)\n",
    "\n",
    "# specify output file and show the plot\n",
    "output_file(\"scatter.html\")\n",
    "show(p)\n"
   ]
  },
  {
   "cell_type": "markdown",
   "id": "259bb005-b14e-46d6-92fb-4eb824150303",
   "metadata": {},
   "source": [
    "Q3. How can you customize the appearance of a Bokeh plot, including the axes, title, and legend?"
   ]
  },
  {
   "cell_type": "code",
   "execution_count": 3,
   "id": "5fedd9de-2ab2-4544-9f49-50b91690cb27",
   "metadata": {},
   "outputs": [],
   "source": [
    "# Answer 3 ....\n",
    "\n",
    "from bokeh.plotting import figure, output_file, show\n",
    "\n",
    "# create a new plot with a title and axis labels\n",
    "p = figure(title=\"My Line Plot\", x_axis_label='x', y_axis_label='y')\n",
    "\n",
    "# add a line renderer with data\n",
    "p.line([1, 2, 3, 4, 5], [6, 7, 2, 4, 5], line_width=2, line_color=\"red\", legend_label=\"Line 1\")\n",
    "\n",
    "# customize the appearance of the plot\n",
    "p.title.text_color = \"blue\"\n",
    "p.xaxis.axis_label_text_color = \"green\"\n",
    "p.yaxis.axis_label_text_color = \"orange\"\n",
    "p.legend.title = \"Legend\"\n",
    "p.legend.location = \"top_left\"\n",
    "\n",
    "# specify output file and show the plot\n",
    "output_file(\"line.html\")\n",
    "show(p)\n"
   ]
  },
  {
   "cell_type": "markdown",
   "id": "e753bebd-190b-4a1f-8f11-7d3036238313",
   "metadata": {},
   "source": [
    "Q4. What is a Bokeh server, and how can you use it to create interactive plots that can be updated in\n",
    "real time?"
   ]
  },
  {
   "cell_type": "markdown",
   "id": "da93fb81-2778-4290-ab63-c6f4a894b2f5",
   "metadata": {},
   "source": [
    " Answer 4 ....\n",
    "\n",
    "The Bokeh server is a Python library that allows you to create interactive plots that can be updated in real time. To use the Bokeh server, you first create a Python script that defines the plot and its interactive behavior, and then start the Bokeh server by running the script with the bokeh serve command. Here's an example of using the Bokeh server to create an interactive scatter plot"
   ]
  },
  {
   "cell_type": "markdown",
   "id": "a746440a-2a1b-467d-b2cc-1e6929e02269",
   "metadata": {},
   "source": [
    "Q5. How can you embed a Bokeh plot into a web page or dashboard using Flask or Django?\n",
    "\n",
    "Answer 5...\n",
    "\n",
    "To embed a Bokeh plot into a web page or dashboard using Flask or Django, you can use the Bokeh components function, which generates the necessary HTML and JavaScript to render the plot in the browser. Here's an example of embedding a Bokeh plot into a Flask web app:"
   ]
  },
  {
   "cell_type": "code",
   "execution_count": null,
   "id": "10b5397d-e32d-4c7a-a50a-06015aa34589",
   "metadata": {},
   "outputs": [],
   "source": [
    "from flask import Flask, render_template\n",
    "from bokeh.plotting import figure, output_file, show\n",
    "from bokeh.embed import components\n",
    "\n",
    "app = Flask(__name__)\n",
    "\n",
    "@app.route('/')\n",
    "def index():\n",
    "    # create a new plot with a title and axis labels\n",
    "    p = figure(title=\"My Line Plot\", x_axis_label='x', y_axis_label='y')\n",
    "\n",
    "    # add a line renderer with data\n",
    "    p.line([1, 2, 3, 4, 5], [6, 7, 2, 4, 5])\n",
    "\n",
    "    # generate the necessary HTML and JavaScript to render the plot in the browser\n",
    "    script, div = components(p)\n",
    "\n",
    "    # pass the script and div to the template\n",
    "    return render_template('index.html', script=script, div=div)\n",
    "\n",
    "if __name__ == '__main__':\n",
    "    app.run(debug=True)\n"
   ]
  }
 ],
 "metadata": {
  "kernelspec": {
   "display_name": "Python 3 (ipykernel)",
   "language": "python",
   "name": "python3"
  },
  "language_info": {
   "codemirror_mode": {
    "name": "ipython",
    "version": 3
   },
   "file_extension": ".py",
   "mimetype": "text/x-python",
   "name": "python",
   "nbconvert_exporter": "python",
   "pygments_lexer": "ipython3",
   "version": "3.10.8"
  }
 },
 "nbformat": 4,
 "nbformat_minor": 5
}
