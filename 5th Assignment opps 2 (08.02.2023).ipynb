{
 "cells": [
  {
   "cell_type": "markdown",
   "id": "959eb20d-8a58-4099-a0c8-32916a29ab93",
   "metadata": {},
   "source": [
    "Q1. What is Abstraction in OOps? Explain with an example."
   ]
  },
  {
   "cell_type": "markdown",
   "id": "98cbac1f-9f5b-4a79-8fd4-66f267c0a5f3",
   "metadata": {},
   "source": [
    "Answer  \n",
    "Abstraction is the process of hiding the internal details of an application from the outer world. Abstraction is used to describe things in simple terms. It's used to create a boundary between the application and the client programs."
   ]
  },
  {
   "cell_type": "markdown",
   "id": "080ec857-20e7-4e59-9559-87f37acb71b8",
   "metadata": {},
   "source": [
    "Q2. Differentiate between Abstraction and Encapsulation. Explain with an example."
   ]
  },
  {
   "cell_type": "markdown",
   "id": "828fce1c-8e29-4493-8c3c-b73b72c07210",
   "metadata": {},
   "source": [
    "Ans.Abstraction is the process of hiding complex implementation details and presenting only the essential features of an object or system to the user. It focuses on \"what\" an object does, rather than \"how\" it does it. Abstraction can be achieved through interfaces, abstract classes, or simply by leaving out unnecessary details.\n",
    "\n",
    "Encapsulation is the process of hiding the internal workings of an object from the outside world, and restricting access to only those parts that are necessary. It combines data and methods into a single unit and protects them from outside interference or misuse. Encapsulation provides security and helps in maintaining code quality and reusability.\n",
    "\n",
    "For example, let's consider a car. Abstraction in a car would involve presenting only the essential features to the driver, such as the gas pedal, brake pedal, and steering wheel, while hiding the internal details of the engine, transmission, and other components. Encapsulation in a car would involve encapsulating the engine and other components within the car's body, and exposing only the necessary parts for the driver and passengers to interact with, such as the doors, windows, and seats. This ensures that the driver cannot directly manipulate or damage the engine, which is an internal part of the car."
   ]
  },
  {
   "cell_type": "markdown",
   "id": "5ecf94e8-f284-4cd6-a8c3-3afc4b5bd36d",
   "metadata": {},
   "source": [
    "Q3. What is abc module in python? Why is it used?"
   ]
  },
  {
   "cell_type": "markdown",
   "id": "d5e1f449-6307-4b6d-a988-24fa6af3083e",
   "metadata": {},
   "source": [
    "Ans.The abc module in Python stands for \"Abstract Base Classes\". It provides the infrastructure for defining abstract base classes in Python.\n",
    "\n",
    "An abstract base class is a class that cannot be instantiated and is meant to serve as a base for other classes. It defines a set of methods or properties that the derived classes must implement. Abstract base classes are used to define common interfaces and to provide a way to ensure that derived classes implement them correctly.\n",
    "\n",
    "The abc module provides the ABC class, which is the base class for defining abstract base classes. It also provides the abstractmethod decorator, which is used to mark a method as an abstract method. Any class that inherits from an abstract base class must implement all the abstract methods declared in the base class, otherwise, it will raise an error at runtime.\n",
    "\n",
    "The abc module is used in Python to enforce a certain level of contract or protocol between objects. It is particularly useful when working with large codebases and multiple developers, as it helps to ensure that the code is consistent and that everyone is following the same protocol."
   ]
  },
  {
   "cell_type": "code",
   "execution_count": 1,
   "id": "831634ff-fdd2-42f6-a531-8838d4be255b",
   "metadata": {},
   "outputs": [],
   "source": [
    "#Here is an example of using the abc module in Python:\n",
    "from abc import ABC, abstractmethod\n",
    "\n",
    "class Vehicle(ABC):\n",
    "    @abstractmethod\n",
    "    def start_engine(self):\n",
    "        pass\n",
    "    \n",
    "class Car(Vehicle):\n",
    "    def start_engine(self):\n",
    "        print(\"Starting car engine...\")\n",
    "        \n",
    "class Bike(Vehicle):\n",
    "    def start_engine(self):\n",
    "        print(\"Starting bike engine...\")\n"
   ]
  },
  {
   "cell_type": "markdown",
   "id": "41606070-87df-405a-8b27-bf9ca4fe42fe",
   "metadata": {},
   "source": [
    "Q4. How can we achieve data abstraction?"
   ]
  },
  {
   "cell_type": "markdown",
   "id": "085bbc8b-34d6-441e-8e0e-fd96b8146b80",
   "metadata": {},
   "source": [
    "Ans.  Data abstraction can be achieved through encapsulation and abstraction techniques in object-oriented programming. Encapsulation involves bundling data and methods that operate on that data into a single unit, while abstraction involves focusing on the essential features of an object and ignoring its non-essential details. By using these techniques, we can hide the implementation details of an object and expose only the necessary functionality, making it easier to work with and reducing the complexity of the overall system. Additionally, using well-defined interfaces and access control mechanisms can further enforce data abstraction and ensure that the underlying implementation remains hidden."
   ]
  },
  {
   "cell_type": "markdown",
   "id": "ee53ca07-eaa3-4c87-96a5-33623e34623e",
   "metadata": {},
   "source": [
    "Q5. Can we create an instance of an abstract class? Explain your answer."
   ]
  },
  {
   "cell_type": "markdown",
   "id": "a420a049-5264-46b0-a088-50d35bbc915d",
   "metadata": {},
   "source": [
    "Answer...No, we cannot create an instance of an abstract class. An abstract class is a class that cannot be instantiated, as it is meant to be a blueprint for other classes to inherit from and provide concrete implementations of its abstract methods. Abstract methods are declared in an abstract class but do not provide any implementation. Instead, the concrete subclasses that inherit from the abstract class must provide an implementation for these methods.\n",
    "\n",
    "Attempting to create an instance of an abstract class will result in a compile-time error. The purpose of an abstract class is to define a common interface for a set of related classes, so it makes sense for the abstract class to be incomplete and not directly usable. Instead, we can create instances of concrete classes that inherit from the abstract class and provide implementations for its abstract methods."
   ]
  },
  {
   "cell_type": "code",
   "execution_count": null,
   "id": "6355d0ce-1454-4768-88fc-3b2334aa67f7",
   "metadata": {},
   "outputs": [],
   "source": []
  }
 ],
 "metadata": {
  "kernelspec": {
   "display_name": "Python 3 (ipykernel)",
   "language": "python",
   "name": "python3"
  },
  "language_info": {
   "codemirror_mode": {
    "name": "ipython",
    "version": 3
   },
   "file_extension": ".py",
   "mimetype": "text/x-python",
   "name": "python",
   "nbconvert_exporter": "python",
   "pygments_lexer": "ipython3",
   "version": "3.10.8"
  }
 },
 "nbformat": 4,
 "nbformat_minor": 5
}
