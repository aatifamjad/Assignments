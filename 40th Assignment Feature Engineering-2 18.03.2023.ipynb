{
 "cells": [
  {
   "cell_type": "markdown",
   "id": "c4d3bc48-3dec-43d0-bdda-dfff4ca7433d",
   "metadata": {},
   "source": [
    "Q1. What is the Filter method in feature selection, and how does it work?\n",
    "\n",
    "Answer 1...\n",
    "\n",
    "The filter method is a type of feature selection method that selects features based on their statistical properties, such as their correlation with the target variable or their variance. It works by ranking the features according to a predetermined criterion and selecting the top-ranked features. The selected features are then used to train the machine learning model.\n",
    "\n",
    "\n",
    "Q2. How does the Wrapper method differ from the Filter method in feature selection?\n",
    "\n",
    "Answer 2...\n",
    "\n",
    " The wrapper method is a type of feature selection method that selects features based on the performance of a machine learning model trained with a particular subset of features. It works by searching through all possible subsets of features and selecting the subset that produces the best performance. The wrapper method is more computationally expensive than the filter method but is generally more accurate.\n",
    " \n",
    " \n",
    "Q3. What are some common techniques used in Embedded feature selection methods?\n",
    "\n",
    "Answer 3...\n",
    "\n",
    "Embedded feature selection methods involve training a machine learning model with a set of features and then selecting the most important features based on the coefficients or weights assigned to them by the model. Some common embedded feature selection methods include Lasso, Ridge regression, and ElasticNet.\n",
    "\n",
    "\n",
    "Q4. What are some drawbacks of using the Filter method for feature selection?\n",
    "\n",
    "Answer 4...\n",
    "\n",
    "One of the main drawbacks of using the filter method is that it does not take into account the interactions between features. In some cases, two or more features may have a low correlation with the target variable individually but may be highly correlated when combined, making them important predictors. The filter method may also select irrelevant features that are highly correlated with the target variable but do not provide any useful information.\n",
    "\n",
    " Q5. In which situations would you prefer using the Filter method over the Wrapper method for feature\n",
    "selection?\n",
    "\n",
    "Answer 5...\n",
    "\n",
    "The filter method is preferable when the dataset contains a large number of features and the computational resources required for the wrapper method are limited. It is also useful when the relationship between the features and the target variable is well understood, and the aim is to select a subset of features that are highly correlated with the target variable.\n",
    "\n",
    "Q6. In a telecom company, you are working on a project to develop a predictive model for customer churn.\n",
    "\n",
    "Answer 6...\n",
    "\n",
    "To choose the most pertinent attributes for the model using the filter method, we would first calculate the correlation between each feature and the target variable. We would then rank the features based on their correlation coefficient and select the top-ranked features. We could also use other criteria such as the variance of the features or their mutual information with the target variable.\n",
    "\n",
    "Q7. You are working on a project to predict the outcome of a soccer match. You have a large dataset with\n",
    "many features, including player statistics and team rankings. Explain how you would use the Embedded\n",
    "method to select the most relevant features for the model.\n",
    "\n",
    "Answer 7...\n",
    "\n",
    "To use the embedded method to select the most relevant features for the soccer match prediction model, we would first select a machine learning algorithm, such as linear regression or random forest, and train the model using all available features. We would then analyze the coefficients or weights assigned to each feature by the model and select the most important ones. We could also use regularization techniques such as Lasso or Ridge regression to further refine the feature selection process.\n",
    "\n",
    "Q8. You are working on a project to predict the price of a house based on its features, such as size, location,\n",
    "and age. You have a limited number of features, and you want to ensure that you select the most important\n",
    "ones for the model. Explain how you would use the Wrapper method to select the best set of features for the\n",
    "predictor.\n",
    "\n",
    "\n",
    "Answer 8...\n",
    "\n",
    "To use the wrapper method to select the best set of features for the house price prediction model, we would first define a set of candidate features and divide the dataset into a training set and a validation set. We would then train a machine learning model using different subsets of the candidate features and evaluate the performance of each model on the validation set. We would repeat this process for all possible subsets of features and select the subset that produces the best performance. This process can be computationally expensive, but it ensures that the selected features are the most relevant for the model.\n"
   ]
  },
  {
   "cell_type": "code",
   "execution_count": null,
   "id": "11aba0a6-cbf0-4572-bf03-88927be1d855",
   "metadata": {},
   "outputs": [],
   "source": []
  }
 ],
 "metadata": {
  "kernelspec": {
   "display_name": "Python 3 (ipykernel)",
   "language": "python",
   "name": "python3"
  },
  "language_info": {
   "codemirror_mode": {
    "name": "ipython",
    "version": 3
   },
   "file_extension": ".py",
   "mimetype": "text/x-python",
   "name": "python",
   "nbconvert_exporter": "python",
   "pygments_lexer": "ipython3",
   "version": "3.10.8"
  }
 },
 "nbformat": 4,
 "nbformat_minor": 5
}
