{
 "cells": [
  {
   "cell_type": "markdown",
   "id": "bf2c6c76-df7b-44a3-8810-fdab6b545054",
   "metadata": {},
   "source": [
    "Q1. What is the syntax for adding an element to a list in Python?\n",
    "\n",
    "Q2. What is the difference between remove() and pop() functions in Python?\n",
    "\n",
    "Q3. Write a Python code to sort a list in descending order.\n",
    "\n",
    "Q4. Write a Python code to count the number of occurrences of an element in a list.\n",
    "\n",
    "Q5. Write a Python code to reverse a list."
   ]
  },
  {
   "cell_type": "code",
   "execution_count": null,
   "id": "ed32e88d-f568-48cc-8a6c-ebf945360b19",
   "metadata": {},
   "outputs": [],
   "source": [
    "# Answer 1...\n",
    "\n",
    "# To add an element to a list in Python, you can use the append() method. The syntax for adding an element to a list in Python is as follows:\n",
    "\n",
    "\n",
    "my_list.append(new_element)"
   ]
  },
  {
   "cell_type": "markdown",
   "id": "5fe48ac0-3ac8-4c20-a829-770f19bb9bbb",
   "metadata": {},
   "source": [
    "Here, my_list is the name of the list, and new_element is the element you want to add to the list."
   ]
  },
  {
   "cell_type": "code",
   "execution_count": null,
   "id": "78be5381-7495-4c03-ad5e-9b2984d296a5",
   "metadata": {},
   "outputs": [],
   "source": [
    "# Answer 2...\n",
    "\n",
    "# The remove() function in Python is used to remove the first occurrence of a specified element from a list. Its syntax is:\n",
    "\n",
    "\n",
    "my_list.remove(element)"
   ]
  },
  {
   "cell_type": "markdown",
   "id": "2b596992-7045-4dad-ab06-c0a7f274aff2",
   "metadata": {},
   "source": [
    "The pop() function, on the other hand, removes and returns the element at a specified index from a list. Its syntax is"
   ]
  },
  {
   "cell_type": "code",
   "execution_count": null,
   "id": "59245f88-173b-479d-9ab6-444770b45b49",
   "metadata": {},
   "outputs": [],
   "source": [
    "my_list.pop(index)\n"
   ]
  },
  {
   "cell_type": "markdown",
   "id": "e71c1d57-d205-4366-b4bf-143eed00d8e8",
   "metadata": {},
   "source": [
    "So, the main difference between remove() and pop() is that remove() removes the first occurrence of a specified element, while pop() removes the element at a specified index."
   ]
  },
  {
   "cell_type": "code",
   "execution_count": 3,
   "id": "51cdf007-2211-4158-bf35-367bf4f8ffb9",
   "metadata": {},
   "outputs": [
    {
     "name": "stdout",
     "output_type": "stream",
     "text": [
      "[9, 6, 5, 5, 5, 4, 3, 3, 2, 1, 1]\n"
     ]
    }
   ],
   "source": [
    "# Answer 3...\n",
    "\n",
    "# To sort a list in descending order in Python, you can use the sort() method with the reverse parameter set to True. Here's an example code:\n",
    "\n",
    "\n",
    "my_list = [3, 1, 4, 1, 5, 9, 2, 6, 5, 3, 5]\n",
    "my_list.sort(reverse=True)\n",
    "print(my_list)"
   ]
  },
  {
   "cell_type": "markdown",
   "id": "5b1cd18d-db51-4c30-8948-81478d251ed5",
   "metadata": {},
   "source": [
    "Answer 4...\n",
    "\n",
    "Here is a Python code to count the number of occurrences of an element in a list using the count() method:"
   ]
  },
  {
   "cell_type": "code",
   "execution_count": 1,
   "id": "a2e03349-4a27-4801-83ca-9c193bc18e9c",
   "metadata": {},
   "outputs": [
    {
     "name": "stdout",
     "output_type": "stream",
     "text": [
      "The number of occurrences of 1 in the list is: 3\n"
     ]
    }
   ],
   "source": [
    "my_list = [1, 2, 3, 4, 5, 4, 3, 2, 1, 1]\n",
    "\n",
    "# count the number of occurrences of 1 in the list\n",
    "count = my_list.count(1)\n",
    "\n",
    "# print the count\n",
    "print(\"The number of occurrences of 1 in the list is:\", count)\n"
   ]
  },
  {
   "cell_type": "markdown",
   "id": "0477badd-0c08-4104-9832-1bacc4982e00",
   "metadata": {},
   "source": [
    "Answer 5...\n",
    "\n",
    "Here is a Python code to reverse a list using the slicing technique:"
   ]
  },
  {
   "cell_type": "code",
   "execution_count": 2,
   "id": "30b9649e-6335-4463-96a8-1e119f18ac49",
   "metadata": {},
   "outputs": [
    {
     "name": "stdout",
     "output_type": "stream",
     "text": [
      "The reversed list is: [5, 4, 3, 2, 1]\n"
     ]
    }
   ],
   "source": [
    "my_list = [1, 2, 3, 4, 5]\n",
    "\n",
    "# reverse the list using slicing\n",
    "reverse_list = my_list[::-1]\n",
    "\n",
    "# print the reversed list\n",
    "print(\"The reversed list is:\", reverse_list)\n"
   ]
  },
  {
   "cell_type": "code",
   "execution_count": null,
   "id": "6cb3606f-c3da-49b4-a98e-7e3858a2c88e",
   "metadata": {},
   "outputs": [],
   "source": []
  }
 ],
 "metadata": {
  "kernelspec": {
   "display_name": "Python 3 (ipykernel)",
   "language": "python",
   "name": "python3"
  },
  "language_info": {
   "codemirror_mode": {
    "name": "ipython",
    "version": 3
   },
   "file_extension": ".py",
   "mimetype": "text/x-python",
   "name": "python",
   "nbconvert_exporter": "python",
   "pygments_lexer": "ipython3",
   "version": "3.10.8"
  }
 },
 "nbformat": 4,
 "nbformat_minor": 5
}
