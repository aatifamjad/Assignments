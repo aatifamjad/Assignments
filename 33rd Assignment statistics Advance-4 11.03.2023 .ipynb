{
 "cells": [
  {
   "cell_type": "markdown",
   "id": "3b7bce89-3fba-4043-8130-0a34f98c6794",
   "metadata": {},
   "source": [
    "Q1: What is the difference between a t-test and a z-test? Provide an example scenario where you would\n",
    "use each type of test."
   ]
  },
  {
   "cell_type": "markdown",
   "id": "93cfa0c0-642a-4494-959b-1b3fd1b08395",
   "metadata": {},
   "source": [
    "Answer 1....\n",
    "\n",
    "The main difference between a t-test and a z-test is the way they handle the population variance. A t-test is used when the population variance is unknown and is estimated from the sample data, while a z-test is used when the population variance is known or when the sample size is large enough that the sample variance is a good estimate of the population variance. For example, if we want to compare the mean height of two groups of people, we might use a t-test if we don't know the population variance or a z-test if we have data on the population variance."
   ]
  },
  {
   "cell_type": "markdown",
   "id": "debc7b8c-0360-4210-9815-ebe14e126756",
   "metadata": {},
   "source": [
    "Q2: Differentiate between one-tailed and two-tailed tests."
   ]
  },
  {
   "cell_type": "markdown",
   "id": "fac46459-0028-4f8b-a69f-31a70128fd56",
   "metadata": {},
   "source": [
    "Answer 2....\n",
    "\n",
    "A one-tailed test is a hypothesis test in which the alternative hypothesis is either greater than or less than the null hypothesis. A two-tailed test is a hypothesis test in which the alternative hypothesis is that the true parameter is not equal to the null hypothesis. In a one-tailed test, the rejection region is located entirely in one tail of the sampling distribution, while in a two-tailed test, the rejection region is located in both tails of the sampling distribution."
   ]
  },
  {
   "cell_type": "markdown",
   "id": "1a86d7ff-3ddf-4936-98ba-39e7bf06ec59",
   "metadata": {},
   "source": [
    "Q3: Explain the concept of Type 1 and Type 2 errors in hypothesis testing. Provide an example scenario for\n",
    "each type of error."
   ]
  },
  {
   "cell_type": "markdown",
   "id": "4167318f-0e82-4b67-baf1-62756d11136d",
   "metadata": {},
   "source": [
    "Answer 3....\n",
    "\n",
    "Type 1 error is the error of rejecting a true null hypothesis, while Type 2 error is the error of failing to reject a false null hypothesis. An example of Type 1 error is a person being convicted of a crime they didn't commit, while an example of Type 2 error is a person being acquitted of a crime they did commit."
   ]
  },
  {
   "cell_type": "markdown",
   "id": "602a5a7a-3352-400a-8e4a-1ab57b279eb6",
   "metadata": {},
   "source": [
    "Q4: Explain Bayes's theorem with an example."
   ]
  },
  {
   "cell_type": "markdown",
   "id": "df27d484-a4c0-4111-b09a-9003893b031b",
   "metadata": {},
   "source": [
    "Answer 4..\n",
    "\n",
    "Bayes's theorem is a mathematical formula for calculating conditional probabilities. It states that the probability of an event A given event B is equal to the probability of event B given event A, multiplied by the prior probability of event A, divided by the prior probability of event B. For example, if we want to calculate the probability of having a disease given a positive test result, we need to know the sensitivity and specificity of the test, as well as the prior probability of having the disease."
   ]
  },
  {
   "cell_type": "markdown",
   "id": "05783582-83c6-4e94-b752-a08e410d4f88",
   "metadata": {},
   "source": [
    "Q5: What is a confidence interval? How to calculate the confidence interval, explain with an example."
   ]
  },
  {
   "cell_type": "markdown",
   "id": "e64336e5-8d00-445d-8dd0-fa769379e4a9",
   "metadata": {},
   "source": [
    "Answer 5...\n",
    "\n",
    "A confidence interval is a range of values that is likely to contain the true population parameter with a certain degree of confidence. The confidence interval is calculated from the sample data and the margin of error, which is determined by the sample size and the level of confidence. For example, if we want to estimate the mean height of a population with 95% confidence, we might calculate a confidence interval of 170-180 cm, which means that we are 95% confident that the true population mean falls within this range."
   ]
  },
  {
   "cell_type": "markdown",
   "id": "bc29db94-2ede-4ab4-ae28-f0f2995d5ca6",
   "metadata": {},
   "source": [
    "Q6. Use Bayes' Theorem to calculate the probability of an event occurring given prior knowledge of the\n",
    "event's probability and new evidence. Provide a sample problem and solution."
   ]
  },
  {
   "cell_type": "markdown",
   "id": "1a0d54d5-9da3-4736-9087-6ac4190a457c",
   "metadata": {},
   "source": [
    "Answer 6...\n",
    "\n",
    "Suppose that the probability of having a disease is 0.01, and the probability of a positive test result given the disease is 0.99. If a person tests positive for the disease, what is the probability that they actually have the disease? Using Bayes's theorem, we can calculate the probability as follows: P(Disease|Positive) = P(Positive|Disease) * P(Disease) / P(Positive) = 0.99 * 0.01 / (0.010.99 + 0.990.01) = 0.5. Therefore, the probability of having the disease given a positive test result is 50%."
   ]
  },
  {
   "cell_type": "markdown",
   "id": "c504db64-5c27-4db6-9aed-1f8660f9d332",
   "metadata": {},
   "source": [
    "Q7. Calculate the 95% confidence interval for a sample of data with a mean of 50 and a standard deviation\n",
    "of 5. Interpret the results."
   ]
  },
  {
   "cell_type": "markdown",
   "id": "dab1d8de-5c03-4451-96f4-19ec67293664",
   "metadata": {},
   "source": [
    "Answer 7...\n",
    "\n",
    "The 95% confidence interval for a sample of data with a mean of 50 and a standard deviation of 5 is calculated as follows: 50 +/- 1.96 * (5/sqrt(n)), where n is the sample size. Assuming a sample size of 100, the confidence interval is 50 +/- 0.98, which means that we are 95% confident that the true population mean falls within the range of 49.02 to 50.98."
   ]
  },
  {
   "cell_type": "markdown",
   "id": "f5e3df7d-5b92-47f0-b5d4-c258ecf3f08c",
   "metadata": {},
   "source": [
    "Q8. What is the margin of error in a confidence interval? How does sample size affect the margin of error?\n",
    "Provide an example of a scenario where a larger sample size would result in a smaller margin of error."
   ]
  },
  {
   "cell_type": "markdown",
   "id": "52c63fbf-f4ca-4df9-93df-ec680d877dbc",
   "metadata": {},
   "source": [
    "Answer 8...\n",
    "\n",
    "The margin of error is a measure of the precision or accuracy of an estimated population parameter (such as the population mean or proportion) based on a sample. It represents the maximum distance that the sample statistic (such as the sample mean or proportion) is likely to deviate from the true population parameter at a certain level of confidence.\n",
    "\n",
    "A larger sample size generally results in a smaller margin of error because larger samples tend to be more representative of the population and have less variability in their estimates. Specifically, the margin of error decreases as the square root of the sample size increases.\n",
    "\n",
    "For example, suppose you want to estimate the mean income of a certain population with a 95% confidence level and a margin of error of $500. \n",
    "If  the  population   standard   deviation   is   unknown,   you   might   use  a   t-distribution   and   assume a conservative estimate of the standard deviation based on a pilot sample. If a pilot sample of 50 individuals yields a sample mean of $40,000 and a sample standard deviation of $5,000, then you might use a t-distribution with 49 degrees of freedom and a critical value of 2.009 to construct the interval estimate:\n",
    "\n",
    "\n",
    "Margin of error = t*(s/sqrt(n)) = 2.009*($5,000/sqrt(50)) = $1,414.21\n",
    "\n",
    "\n",
    "Confidence interval = sample mean +/- margin of error = $40,000 +/- $1,414.21 = ($38,585.79, $41,414.21)\n",
    "\n",
    "\n",
    "If you increase the sample size to 200 individuals, then the margin of error would decrease:\n",
    "\n",
    "\n",
    "Margin of error = t*(s/sqrt(n)) = 1.972*($5,000/sqrt(200)) = $707.11\n",
    "\n",
    "\n",
    "Confidence interval = sample mean +/- margin of error = $40,000 +/- $707.11 = ($39,292.89, $40,707.11)\n",
    "\n",
    "\n",
    "As you can see, the larger sample size yields a narrower confidence interval and a smaller margin of error, which increases the precision of the estimate.\n",
    "\n"
   ]
  },
  {
   "cell_type": "markdown",
   "id": "abf970ad-73a4-48fe-beb7-5d3ae4cf8420",
   "metadata": {},
   "source": [
    "Q9. Calculate the z-score for a data point with a value of 75, a population mean of 70, and a population\n",
    "standard deviation of 5. Interpret the results."
   ]
  },
  {
   "cell_type": "markdown",
   "id": "884f6736-d262-4146-82e9-8785b3483329",
   "metadata": {},
   "source": [
    "Answer 9...\n",
    "\n",
    "To calculate the z-score for a data point with a value of 75, a population mean of 70, and a population standard deviation of 5, we use the formula: z = (x - μ) / σ = (75 - 70) / 5 = 1. Interpretation: The z-score of 1 means that the data point of 75 is 1 standard deviation above the population mean of 70."
   ]
  },
  {
   "cell_type": "markdown",
   "id": "0139323a-ef12-4682-b76b-1f1d4cc942ce",
   "metadata": {},
   "source": [
    "Q10. In a study of the effectiveness of a new weight loss drug, a sample of 50 participants lost an average\n",
    "of 6 pounds with a standard deviation of 2.5 pounds. Conduct a hypothesis test to determine if the drug is\n",
    "significantly effective at a 95% confidence level using a t-test."
   ]
  },
  {
   "cell_type": "markdown",
   "id": "1877226c-f1d4-48d1-8bca-f2f6309ef7f6",
   "metadata": {},
   "source": [
    "Answer 10...\n",
    "\n",
    "To conduct a hypothesis test to determine if the new weight loss drug is significantly effective at a 95% confidence level using a t-test, we need to state the null and alternative hypotheses, choose the level of significance (α), calculate the test statistic (t), and determine the p-value and the critical value. Here are the steps:\n",
    "\n",
    "Null hypothesis (H0): The true mean weight loss for the population of participants using the new drug is equal to 0.\n",
    "Alternative hypothesis (Ha): The true mean weight loss for the population of participants using the new drug is greater than 0.\n",
    "Level of significance: α = 0.05 (95% confidence level)\n",
    "Test statistic: t = (x̄ - μ) / (s / sqrt(n)) = (6 - 0) / (2.5 / sqrt(50)) = 12.649\n",
    "Degrees of freedom: df = n - 1 = 49\n",
    "Critical value: tcrit = tinv(1 - α, df) = tinv(0.95, 49) = 1.676\n",
    "P-value: p-value = tcdf(t, df) = tcdf(12.649, 49) < 0.0001\n",
    "\n",
    "Conclusion: Since the calculated t-value (12.649) is greater than the critical value (1.676) and the p-value is less than the level of significance (0.05), we reject the null hypothesis and conclude that the new weight loss drug is significantly effective at a 95% confidence level."
   ]
  },
  {
   "cell_type": "markdown",
   "id": "a9483b4e-3007-45e1-9a58-6958779fc193",
   "metadata": {},
   "source": [
    "Q11. In a survey of 500 people, 65% reported being satisfied with their current job. Calculate the 95%\n",
    "confidence interval for the true proportion of people who are satisfied with their job."
   ]
  },
  {
   "cell_type": "markdown",
   "id": "b9cc1737-d51e-4fe2-8f42-1849b170ea21",
   "metadata": {},
   "source": [
    "Answer 11..\n",
    "\n",
    "To calculate the 95% confidence interval for the true proportion of people who are satisfied with their job, we use the formula: CI = p ± zsqrt(p(1-p)/n), where p is the sample proportion, z* is the z-score for the desired confidence level, and n is the sample size. Here are the steps:\n",
    "\n",
    "Sample proportion: p = 0.65\n",
    "Z-score for 95% confidence level: z* = 1.96\n",
    "Sample size: n = 500\n",
    "Margin of error: E = zsqrt(p(1-p)/n) = 0.044\n",
    "Confidence interval: CI = p ± E = 0.65 ± 0.044 = (0.606, 0.694)\n",
    "\n",
    "Interpretation: We are 95% confident that the true proportion of people who are satisfied with their job is between 60.6% and 69.4%."
   ]
  },
  {
   "cell_type": "markdown",
   "id": "97e6c340-fd33-4093-9067-7c8c57175319",
   "metadata": {},
   "source": [
    "Q12. A researcher is testing the effectiveness of two different teaching methods on student performance.\n",
    "Sample A has a mean score of 85 with a standard deviation of 6, while sample B has a mean score of 82\n",
    "with a standard deviation of 5. Conduct a hypothesis test to determine if the two teaching methods have a\n",
    "significant difference in student performance using a t-test with a significance level of 0.01."
   ]
  },
  {
   "cell_type": "markdown",
   "id": "c9d9f145-46e5-4581-becd-2e33e1116f4e",
   "metadata": {},
   "source": [
    "Answer 12..\n",
    "\n",
    "To conduct a hypothesis test to determine if the two teaching methods have a significant difference in student performance using a t-test with a significance level of 0.01, we need to state the null and alternative hypotheses, choose the level of significance (α), calculate the test statistic (t), and determine the p-value and the critical value. Here are the steps:\n",
    "\n",
    "Null hypothesis (H0): The true mean score for the population of students taught by method A is equal to the true mean score for the population of students taught by method B.\n",
    "Alternative hypothesis (Ha): The true mean score for the population of students taught by method A is not equal to the true mean score for the population of students taught by method B.\n",
    "Level of significance: α = 0.01"
   ]
  },
  {
   "cell_type": "markdown",
   "id": "b0e010fa-d232-4140-8da8-2e7472422266",
   "metadata": {},
   "source": [
    "Q13. A population has a mean of 60 and a standard deviation of 8. A sample of 50 observations has a mean\n",
    "of 65. Calculate the 90% confidence interval for the true population mean."
   ]
  },
  {
   "cell_type": "markdown",
   "id": "12b9801f-cd71-4b2a-90f5-791c480feebd",
   "metadata": {},
   "source": [
    "Answer 13...\n",
    "\n",
    "\n",
    "To calculate the 90% confidence interval for the true population mean, we can use the formula:\n",
    "\n",
    "Confidence interval = sample mean ± (critical value x standard error)\n",
    "\n",
    "where the critical value is determined by the desired confidence level and degrees of freedom, and the standard error is calculated as the standard deviation of the population divided by the square root of the sample size:\n",
    "\n",
    "standard error = standard deviation / √(sample size)\n",
    "\n",
    "Using the given values, we have:\n",
    "\n",
    "standard error = 8 / √(50) ≈ 1.13\n",
    "\n",
    "To find the critical value for a 90% confidence level with 49 degrees of freedom (50-1), we can use a t-distribution table or calculator. The critical value is approximately 1.68.\n",
    "\n",
    "Plugging in the values, we get:\n",
    "\n",
    "Confidence interval = 65 ± (1.68 x 1.13) ≈ (63.05, 66.95)\n",
    "\n",
    "Therefore, we can say with 90% confidence that the true population mean falls between 63.05 and 66.95."
   ]
  },
  {
   "cell_type": "markdown",
   "id": "6a3b1028-dbf9-48c4-9257-69f1d6635385",
   "metadata": {},
   "source": [
    "Q14. In a study of the effects of caffeine on reaction time, a sample of 30 participants had an average\n",
    "reaction time of 0.25 seconds with a standard deviation of 0.05 seconds. Conduct a hypothesis test to\n",
    "determine if the caffeine has a significant effect on reaction time at a 90% confidence level using a t-test."
   ]
  },
  {
   "cell_type": "markdown",
   "id": "ca02826a-6b84-4c29-bf6a-83a8bd86d0db",
   "metadata": {},
   "source": [
    "Answer 14...\n",
    "\n",
    "To conduct a hypothesis test to determine if caffeine has a significant effect on reaction time, we can use a t-test. The null hypothesis is that there is no significant difference between the mean reaction time of participants who consumed caffeine and those who did not, while the alternative hypothesis is that there is a significant difference.\n",
    "\n",
    "Assuming equal variances, the formula for the t-statistic is:\n",
    "\n",
    "t = (sample mean difference - hypothesized mean difference) / (pooled standard error)\n",
    "\n",
    "where the hypothesized mean difference is 0 (no difference), and the pooled standard error is calculated as:\n",
    "\n",
    "pooled standard error = √[(s1²/n1) + (s2²/n2)]\n",
    "\n",
    "where s1 and s2 are the sample standard deviations, and n1 and n2 are the sample sizes.\n",
    "\n",
    "Using the given values, we have:\n",
    "\n",
    "sample mean difference = 0.25 - 0 = 0.25\n",
    "\n",
    "s1 = s2 = 0.05\n",
    "\n",
    "n1 = n2 = 30\n",
    "\n",
    "pooled standard error = √[(0.05²/30) + (0.05²/30)] ≈ 0.01\n",
    "\n",
    "Plugging in the values, we get:\n",
    "\n",
    "t = (0.25 - 0) / 0.01 ≈ 25\n",
    "\n",
    "The degrees of freedom for this test is 58 (30+30-2), which we can also obtain from a t-distribution table or calculator.\n",
    "\n",
    "At a 90% confidence level and 58 degrees of freedom, the critical value for a two-tailed test is approximately ±1.67.\n",
    "\n",
    "Since the calculated t-value of 25 is much greater than the critical value of ±1.67, we can reject the null hypothesis and conclude that there is a significant difference between the mean reaction time of participants who consumed caffeine and those who did not at a 90% confidence level."
   ]
  },
  {
   "cell_type": "code",
   "execution_count": null,
   "id": "efb923b3-1315-4a79-91b3-b71351df21ca",
   "metadata": {},
   "outputs": [],
   "source": []
  }
 ],
 "metadata": {
  "kernelspec": {
   "display_name": "Python 3 (ipykernel)",
   "language": "python",
   "name": "python3"
  },
  "language_info": {
   "codemirror_mode": {
    "name": "ipython",
    "version": 3
   },
   "file_extension": ".py",
   "mimetype": "text/x-python",
   "name": "python",
   "nbconvert_exporter": "python",
   "pygments_lexer": "ipython3",
   "version": "3.10.8"
  }
 },
 "nbformat": 4,
 "nbformat_minor": 5
}
